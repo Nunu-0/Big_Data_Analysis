{
 "cells": [
  {
   "cell_type": "markdown",
   "id": "d0fe2254",
   "metadata": {
    "toc": true
   },
   "source": [
    "<h1>Table of Contents<span class=\"tocSkip\"></span></h1>\n",
    "<div class=\"toc\"><ul class=\"toc-item\"><li><span><a href=\"#Window-functions\" data-toc-modified-id=\"Window-functions-1\"><span class=\"toc-item-num\">1&nbsp;&nbsp;</span>Window functions</a></span><ul class=\"toc-item\"><li><span><a href=\"#DataFrame-생성\" data-toc-modified-id=\"DataFrame-생성-1.1\"><span class=\"toc-item-num\">1.1&nbsp;&nbsp;</span>DataFrame 생성</a></span></li><li><span><a href=\"#그룹-Window\" data-toc-modified-id=\"그룹-Window-1.2\"><span class=\"toc-item-num\">1.2&nbsp;&nbsp;</span>그룹 Window</a></span><ul class=\"toc-item\"><li><span><a href=\"#순위-함수\" data-toc-modified-id=\"순위-함수-1.2.1\"><span class=\"toc-item-num\">1.2.1&nbsp;&nbsp;</span>순위 함수</a></span><ul class=\"toc-item\"><li><span><a href=\"#rank\" data-toc-modified-id=\"rank-1.2.1.1\"><span class=\"toc-item-num\">1.2.1.1&nbsp;&nbsp;</span>rank</a></span></li></ul></li><li><span><a href=\"#분석-함수\" data-toc-modified-id=\"분석-함수-1.2.2\"><span class=\"toc-item-num\">1.2.2&nbsp;&nbsp;</span>분석 함수</a></span><ul class=\"toc-item\"><li><span><a href=\"#cume_dist()\" data-toc-modified-id=\"cume_dist()-1.2.2.1\"><span class=\"toc-item-num\">1.2.2.1&nbsp;&nbsp;</span>cume_dist()</a></span></li><li><span><a href=\"#lag\" data-toc-modified-id=\"lag-1.2.2.2\"><span class=\"toc-item-num\">1.2.2.2&nbsp;&nbsp;</span>lag</a></span></li><li><span><a href=\"#lead\" data-toc-modified-id=\"lead-1.2.2.3\"><span class=\"toc-item-num\">1.2.2.3&nbsp;&nbsp;</span>lead</a></span></li></ul></li><li><span><a href=\"#Aggregate-Functions\" data-toc-modified-id=\"Aggregate-Functions-1.2.3\"><span class=\"toc-item-num\">1.2.3&nbsp;&nbsp;</span>Aggregate Functions</a></span></li></ul></li></ul></li><li><span><a href=\"#문제:-zscore,-cdf-계산\" data-toc-modified-id=\"문제:-zscore,-cdf-계산-2\"><span class=\"toc-item-num\">2&nbsp;&nbsp;</span>문제: zscore, cdf 계산</a></span><ul class=\"toc-item\"><li><span><a href=\"#zscore-계산\" data-toc-modified-id=\"zscore-계산-2.1\"><span class=\"toc-item-num\">2.1&nbsp;&nbsp;</span>zscore 계산</a></span></li><li><span><a href=\"#cdf-계산\" data-toc-modified-id=\"cdf-계산-2.2\"><span class=\"toc-item-num\">2.2&nbsp;&nbsp;</span>cdf 계산</a></span></li><li><span><a href=\"#window-함수를-사용하여-zscore-계산\" data-toc-modified-id=\"window-함수를-사용하여-zscore-계산-2.3\"><span class=\"toc-item-num\">2.3&nbsp;&nbsp;</span>window 함수를 사용하여 zscore 계산</a></span><ul class=\"toc-item\"><li><span><a href=\"#컬럼을-만들지-않고-평균,-표준편차-계산\" data-toc-modified-id=\"컬럼을-만들지-않고-평균,-표준편차-계산-2.3.1\"><span class=\"toc-item-num\">2.3.1&nbsp;&nbsp;</span>컬럼을 만들지 않고 평균, 표준편차 계산</a></span></li></ul></li></ul></li><li><span><a href=\"#추론\" data-toc-modified-id=\"추론-3\"><span class=\"toc-item-num\">3&nbsp;&nbsp;</span>추론</a></span><ul class=\"toc-item\"><li><span><a href=\"#Kolmogorov-Smirnov-검증-(KS-검증)\" data-toc-modified-id=\"Kolmogorov-Smirnov-검증-(KS-검증)-3.1\"><span class=\"toc-item-num\">3.1&nbsp;&nbsp;</span>Kolmogorov-Smirnov 검증 (KS 검증)</a></span></li><li><span><a href=\"#Scipy-Kolmogorov-Smirnov\" data-toc-modified-id=\"Scipy-Kolmogorov-Smirnov-3.2\"><span class=\"toc-item-num\">3.2&nbsp;&nbsp;</span>Scipy Kolmogorov-Smirnov</a></span></li><li><span><a href=\"#ANOVA\" data-toc-modified-id=\"ANOVA-3.3\"><span class=\"toc-item-num\">3.3&nbsp;&nbsp;</span>ANOVA</a></span><ul class=\"toc-item\"><li><span><a href=\"#R-스타일-모델링\" data-toc-modified-id=\"R-스타일-모델링-3.3.1\"><span class=\"toc-item-num\">3.3.1&nbsp;&nbsp;</span>R 스타일 모델링</a></span></li><li><span><a href=\"#ANOVA에-모델-적용\" data-toc-modified-id=\"ANOVA에-모델-적용-3.3.2\"><span class=\"toc-item-num\">3.3.2&nbsp;&nbsp;</span>ANOVA에 모델 적용</a></span></li><li><span><a href=\"#평균\" data-toc-modified-id=\"평균-3.3.3\"><span class=\"toc-item-num\">3.3.3&nbsp;&nbsp;</span>평균</a></span></li><li><span><a href=\"#그래프\" data-toc-modified-id=\"그래프-3.3.4\"><span class=\"toc-item-num\">3.3.4&nbsp;&nbsp;</span>그래프</a></span></li><li><span><a href=\"#fcategory-별-fscore-그래프\" data-toc-modified-id=\"fcategory-별-fscore-그래프-3.3.5\"><span class=\"toc-item-num\">3.3.5&nbsp;&nbsp;</span>fcategory 별 fscore 그래프</a></span></li></ul></li></ul></li><li><span><a href=\"#빈도-분석\" data-toc-modified-id=\"빈도-분석-4\"><span class=\"toc-item-num\">4&nbsp;&nbsp;</span>빈도 분석</a></span></li></ul></div>"
   ]
  },
  {
   "cell_type": "code",
   "execution_count": 66,
   "id": "f7dc8821",
   "metadata": {},
   "outputs": [],
   "source": [
    "# SparkSession 생성\n",
    "import pyspark\n",
    "import os\n",
    "\n",
    "myConf=pyspark.SparkConf()\n",
    "spark = pyspark.sql.SparkSession\\\n",
    "    .builder\\\n",
    "    .master(\"local\")\\\n",
    "    .appName(\"myApp\")\\\n",
    "    .config(conf=myConf)\\\n",
    "    .getOrCreate()"
   ]
  },
  {
   "cell_type": "markdown",
   "id": "594dd085",
   "metadata": {},
   "source": [
    "## Window functions\n",
    "- 순위 함수(ranking functions) : rank, dense_rank, precent_rank, ntile, row_number\n",
    "- 분석 함수(analytic functions) : cum_dist, first_value, last_value, lag, lead\n",
    "- 집합 함수(aggregate functions) : sum, avg, min ,max, count"
   ]
  },
  {
   "cell_type": "code",
   "execution_count": 2,
   "id": "b4e00581",
   "metadata": {},
   "outputs": [],
   "source": [
    "marks=[\n",
    "    \"김하나, English, 100\",\n",
    "    \"김하나, Math, 80\",\n",
    "    \"임하나, English, 70\",\n",
    "    \"임하나, Math, 100\",\n",
    "    \"김갑돌, English, 82.3\",\n",
    "    \"김갑돌, Math, 98.5\"\n",
    "]"
   ]
  },
  {
   "cell_type": "markdown",
   "id": "d68df4a6",
   "metadata": {},
   "source": [
    "### DataFrame 생성"
   ]
  },
  {
   "cell_type": "code",
   "execution_count": 3,
   "id": "393b6eb0",
   "metadata": {},
   "outputs": [],
   "source": [
    "_marksRdd=spark.sparkContext.parallelize(marks).map(lambda x:x.split(','))"
   ]
  },
  {
   "cell_type": "code",
   "execution_count": 4,
   "id": "7ad36d3a",
   "metadata": {},
   "outputs": [
    {
     "name": "stdout",
     "output_type": "stream",
     "text": [
      "root\n",
      " |-- name: string (nullable = true)\n",
      " |-- subject: string (nullable = true)\n",
      " |-- mark: string (nullable = true)\n",
      "\n",
      "+------+--------+-----+\n",
      "|  name| subject| mark|\n",
      "+------+--------+-----+\n",
      "|김하나| English|  100|\n",
      "|김하나|    Math|   80|\n",
      "|임하나| English|   70|\n",
      "|임하나|    Math|  100|\n",
      "|김갑돌| English| 82.3|\n",
      "|김갑돌|    Math| 98.5|\n",
      "+------+--------+-----+\n",
      "\n"
     ]
    }
   ],
   "source": [
    "_marksDf=spark.createDataFrame(_marksRdd, schema=[\"name\", \"subject\", \"mark\"])\n",
    "_marksDf.printSchema()\n",
    "_marksDf.show()"
   ]
  },
  {
   "cell_type": "code",
   "execution_count": 5,
   "id": "e9492190",
   "metadata": {},
   "outputs": [
    {
     "name": "stdout",
     "output_type": "stream",
     "text": [
      "+--------+-----+\n",
      "| subject|count|\n",
      "+--------+-----+\n",
      "|    Math|    3|\n",
      "| English|    3|\n",
      "+--------+-----+\n",
      "\n"
     ]
    }
   ],
   "source": [
    "_marksDf.groupBy('subject').count().show()"
   ]
  },
  {
   "cell_type": "markdown",
   "id": "e8ce79f7",
   "metadata": {},
   "source": [
    "### 그룹 Window\n",
    "- 1. partitionBy : 컬럼별로 구분\n",
    "- 2. orderBy : 순서대로 정렬\n",
    "- 3. frame : 현재 행을 기준으로 행 분할"
   ]
  },
  {
   "cell_type": "markdown",
   "id": "8a37e572",
   "metadata": {},
   "source": [
    "subject를 컬럼별로 나누어 과목별로 윈도우가 나누어지면 mark 순으로 정렬함"
   ]
  },
  {
   "cell_type": "code",
   "execution_count": 6,
   "id": "839c18ee",
   "metadata": {},
   "outputs": [],
   "source": [
    "from pyspark.sql.window import Window\n",
    "\n",
    "win = Window.partitionBy(\"subject\").orderBy(\"mark\")"
   ]
  },
  {
   "cell_type": "markdown",
   "id": "0e634939",
   "metadata": {},
   "source": [
    "#### 순위 함수\n",
    "- row_number\n",
    "- over(win)은 win안에있는 윈도우 안에서만 행번호를 매김"
   ]
  },
  {
   "cell_type": "code",
   "execution_count": 7,
   "id": "8a41d102",
   "metadata": {},
   "outputs": [
    {
     "name": "stdout",
     "output_type": "stream",
     "text": [
      "+------+--------+-----+----------+\n",
      "|  name| subject| mark|row_number|\n",
      "+------+--------+-----+----------+\n",
      "|임하나|    Math|  100|         1|\n",
      "|김하나|    Math|   80|         2|\n",
      "|김갑돌|    Math| 98.5|         3|\n",
      "|김하나| English|  100|         1|\n",
      "|임하나| English|   70|         2|\n",
      "|김갑돌| English| 82.3|         3|\n",
      "+------+--------+-----+----------+\n",
      "\n"
     ]
    }
   ],
   "source": [
    "from pyspark.sql.functions import row_number\n",
    "\n",
    "_marksDf.withColumn(\"row_number\", row_number().over(win)).show()"
   ]
  },
  {
   "cell_type": "markdown",
   "id": "f886c280",
   "metadata": {},
   "source": [
    "mark가 string 타입임으로 float 타입으로 바꿔준다"
   ]
  },
  {
   "cell_type": "code",
   "execution_count": 8,
   "id": "b8e8df2f",
   "metadata": {},
   "outputs": [],
   "source": [
    "from pyspark.sql.types import FloatType\n",
    "\n",
    "_marksDf = _marksDf.withColumn('markF', _marksDf['mark'].cast(FloatType()))"
   ]
  },
  {
   "cell_type": "code",
   "execution_count": 9,
   "id": "ef4be7c3",
   "metadata": {},
   "outputs": [],
   "source": [
    "winF = Window.partitionBy(\"subject\").orderBy(\"markF\")\n",
    "\n",
    "from pyspark.sql import functions as F\n",
    "# winF = Window.partitionBy(\"subject\").orderBy(F.col(\"markF\").desc()) \n",
    "# 교제에는 이렇게 돼있음"
   ]
  },
  {
   "cell_type": "code",
   "execution_count": 10,
   "id": "aa76a510",
   "metadata": {},
   "outputs": [
    {
     "name": "stdout",
     "output_type": "stream",
     "text": [
      "+------+--------+-----+-----+----------+\n",
      "|  name| subject| mark|markF|row_number|\n",
      "+------+--------+-----+-----+----------+\n",
      "|김하나|    Math|   80| 80.0|         1|\n",
      "|김갑돌|    Math| 98.5| 98.5|         2|\n",
      "|임하나|    Math|  100|100.0|         3|\n",
      "|임하나| English|   70| 70.0|         1|\n",
      "|김갑돌| English| 82.3| 82.3|         2|\n",
      "|김하나| English|  100|100.0|         3|\n",
      "+------+--------+-----+-----+----------+\n",
      "\n"
     ]
    }
   ],
   "source": [
    "from pyspark.sql.functions import row_number\n",
    "\n",
    "_marksDf.withColumn(\"row_number\", row_number().over(winF)).show()"
   ]
  },
  {
   "cell_type": "markdown",
   "id": "98c233ab",
   "metadata": {},
   "source": [
    "##### rank\n",
    "각 그룹별로 등위"
   ]
  },
  {
   "cell_type": "code",
   "execution_count": 11,
   "id": "e79c2e67",
   "metadata": {},
   "outputs": [
    {
     "name": "stdout",
     "output_type": "stream",
     "text": [
      "+------+--------+-----+-----+----+\n",
      "|  name| subject| mark|markF|rank|\n",
      "+------+--------+-----+-----+----+\n",
      "|김하나|    Math|   80| 80.0|   1|\n",
      "|김갑돌|    Math| 98.5| 98.5|   2|\n",
      "|임하나|    Math|  100|100.0|   3|\n",
      "|임하나| English|   70| 70.0|   1|\n",
      "|김갑돌| English| 82.3| 82.3|   2|\n",
      "|김하나| English|  100|100.0|   3|\n",
      "+------+--------+-----+-----+----+\n",
      "\n"
     ]
    }
   ],
   "source": [
    "from pyspark.sql.functions import rank\n",
    "\n",
    "_marksDf.withColumn(\"rank\", rank().over(winF)).show()"
   ]
  },
  {
   "cell_type": "markdown",
   "id": "e48bf214",
   "metadata": {},
   "source": [
    "#### 분석 함수"
   ]
  },
  {
   "cell_type": "markdown",
   "id": "5f18e043",
   "metadata": {},
   "source": [
    "##### cume_dist()\n",
    "누적 함수"
   ]
  },
  {
   "cell_type": "code",
   "execution_count": 12,
   "id": "abba88fd",
   "metadata": {
    "scrolled": true
   },
   "outputs": [
    {
     "name": "stdout",
     "output_type": "stream",
     "text": [
      "+------+--------+-----+-----+------------------+\n",
      "|  name| subject| mark|markF|         cume_dist|\n",
      "+------+--------+-----+-----+------------------+\n",
      "|김하나|    Math|   80| 80.0|0.3333333333333333|\n",
      "|김갑돌|    Math| 98.5| 98.5|0.6666666666666666|\n",
      "|임하나|    Math|  100|100.0|               1.0|\n",
      "|임하나| English|   70| 70.0|0.3333333333333333|\n",
      "|김갑돌| English| 82.3| 82.3|0.6666666666666666|\n",
      "|김하나| English|  100|100.0|               1.0|\n",
      "+------+--------+-----+-----+------------------+\n",
      "\n"
     ]
    }
   ],
   "source": [
    "from pyspark.sql.functions import cume_dist\n",
    "\n",
    "_marksDf.withColumn(\"cume_dist\", cume_dist().over(winF)).show()"
   ]
  },
  {
   "cell_type": "markdown",
   "id": "7294fdd0",
   "metadata": {},
   "source": [
    "##### lag\n",
    "1개만큼 뒤로 미룬다"
   ]
  },
  {
   "cell_type": "code",
   "execution_count": 13,
   "id": "6500c5ae",
   "metadata": {},
   "outputs": [
    {
     "name": "stdout",
     "output_type": "stream",
     "text": [
      "+------+--------+-----+-----+-----+\n",
      "|  name| subject| mark|markF|  lag|\n",
      "+------+--------+-----+-----+-----+\n",
      "|김하나|    Math|   80| 80.0| null|\n",
      "|김갑돌|    Math| 98.5| 98.5|   80|\n",
      "|임하나|    Math|  100|100.0| 98.5|\n",
      "|임하나| English|   70| 70.0| null|\n",
      "|김갑돌| English| 82.3| 82.3|   70|\n",
      "|김하나| English|  100|100.0| 82.3|\n",
      "+------+--------+-----+-----+-----+\n",
      "\n"
     ]
    }
   ],
   "source": [
    "from pyspark.sql.functions import lag\n",
    "\n",
    "_marksDf.withColumn(\"lag\", lag('mark', 1).over(winF)).show()"
   ]
  },
  {
   "cell_type": "markdown",
   "id": "89a1e6cf",
   "metadata": {},
   "source": [
    "##### lead\n",
    "lag의 반대"
   ]
  },
  {
   "cell_type": "code",
   "execution_count": 14,
   "id": "f3dc9b24",
   "metadata": {},
   "outputs": [
    {
     "name": "stdout",
     "output_type": "stream",
     "text": [
      "+------+--------+-----+-----+-----+\n",
      "|  name| subject| mark|markF|  lag|\n",
      "+------+--------+-----+-----+-----+\n",
      "|김하나|    Math|   80| 80.0| 98.5|\n",
      "|김갑돌|    Math| 98.5| 98.5|  100|\n",
      "|임하나|    Math|  100|100.0| null|\n",
      "|임하나| English|   70| 70.0| 82.3|\n",
      "|김갑돌| English| 82.3| 82.3|  100|\n",
      "|김하나| English|  100|100.0| null|\n",
      "+------+--------+-----+-----+-----+\n",
      "\n"
     ]
    }
   ],
   "source": [
    "from pyspark.sql.functions import lead\n",
    "\n",
    "_marksDf.withColumn(\"lag\", lead('mark', 1).over(winF)).show()"
   ]
  },
  {
   "cell_type": "markdown",
   "id": "46e3a20a",
   "metadata": {},
   "source": [
    "#### Aggregate Functions\n",
    "과목별로 집합함수"
   ]
  },
  {
   "cell_type": "code",
   "execution_count": 15,
   "id": "1a549db6",
   "metadata": {},
   "outputs": [],
   "source": [
    "winAgg  = Window.partitionBy(\"subject\")\n",
    "#orderby는 순서를 매기는게 아니라 안해도 됨"
   ]
  },
  {
   "cell_type": "code",
   "execution_count": 16,
   "id": "f7c7a4b5",
   "metadata": {},
   "outputs": [
    {
     "name": "stdout",
     "output_type": "stream",
     "text": [
      "+------+--------+-----+-----+-----------------+-----------------+----+-----+\n",
      "|  name| subject| mark|markF|              avg|              sum| min|  max|\n",
      "+------+--------+-----+-----+-----------------+-----------------+----+-----+\n",
      "|김하나|    Math|   80| 80.0|92.83333333333333|            278.5|80.0|100.0|\n",
      "|임하나|    Math|  100|100.0|92.83333333333333|            278.5|80.0|100.0|\n",
      "|김갑돌|    Math| 98.5| 98.5|92.83333333333333|            278.5|80.0|100.0|\n",
      "|김하나| English|  100|100.0|84.10000101725261|252.3000030517578|70.0|100.0|\n",
      "|임하나| English|   70| 70.0|84.10000101725261|252.3000030517578|70.0|100.0|\n",
      "|김갑돌| English| 82.3| 82.3|84.10000101725261|252.3000030517578|70.0|100.0|\n",
      "+------+--------+-----+-----+-----------------+-----------------+----+-----+\n",
      "\n"
     ]
    }
   ],
   "source": [
    "from pyspark.sql import functions as F\n",
    "_marksDf.withColumn(\"avg\", F.avg(F.col(\"markF\")).over(winAgg))\\\n",
    "    .withColumn(\"sum\", F.sum(F.col(\"markF\")).over(winAgg))\\\n",
    "    .withColumn(\"min\", F.min(F.col(\"markF\")).over(winAgg))\\\n",
    "    .withColumn(\"max\", F.max(F.col(\"markF\")).over(winAgg))\\\n",
    "    .show()"
   ]
  },
  {
   "cell_type": "markdown",
   "id": "64cb5c6a",
   "metadata": {},
   "source": [
    "## 문제: zscore, cdf 계산"
   ]
  },
  {
   "cell_type": "code",
   "execution_count": 17,
   "id": "cbbd028f",
   "metadata": {},
   "outputs": [
    {
     "name": "stdout",
     "output_type": "stream",
     "text": [
      "+------+--------+-----+-----+\n",
      "|  name| subject| mark|markF|\n",
      "+------+--------+-----+-----+\n",
      "|김하나| English|  100|100.0|\n",
      "|김하나|    Math|   80| 80.0|\n",
      "|임하나| English|   70| 70.0|\n",
      "|임하나|    Math|  100|100.0|\n",
      "|김갑돌| English| 82.3| 82.3|\n",
      "|김갑돌|    Math| 98.5| 98.5|\n",
      "+------+--------+-----+-----+\n",
      "\n"
     ]
    }
   ],
   "source": [
    "_marksDf.show()"
   ]
  },
  {
   "cell_type": "code",
   "execution_count": 18,
   "id": "dfd56347",
   "metadata": {},
   "outputs": [],
   "source": [
    "from pyspark.sql import functions as F\n",
    "\n",
    "_markStats = _marksDf.select(\n",
    "            F.mean('markF').alias('mean'),\n",
    "            F.stddev('markF').alias('std')\n",
    ").collect()"
   ]
  },
  {
   "cell_type": "code",
   "execution_count": 19,
   "id": "840fb031",
   "metadata": {},
   "outputs": [
    {
     "data": {
      "text/plain": [
       "[Row(mean=88.46666717529297, std=12.786190172956093)]"
      ]
     },
     "execution_count": 19,
     "metadata": {},
     "output_type": "execute_result"
    }
   ],
   "source": [
    "_markStats"
   ]
  },
  {
   "cell_type": "code",
   "execution_count": 20,
   "id": "3c3eb635",
   "metadata": {},
   "outputs": [],
   "source": [
    "meanMark = _markStats[0]['mean']\n",
    "stdMark = _markStats[0]['std']"
   ]
  },
  {
   "cell_type": "code",
   "execution_count": 21,
   "id": "4bebf023",
   "metadata": {},
   "outputs": [
    {
     "data": {
      "text/plain": [
       "88.46666717529297"
      ]
     },
     "execution_count": 21,
     "metadata": {},
     "output_type": "execute_result"
    }
   ],
   "source": [
    "meanMark"
   ]
  },
  {
   "cell_type": "code",
   "execution_count": 22,
   "id": "59065db3",
   "metadata": {},
   "outputs": [
    {
     "data": {
      "text/plain": [
       "88.46666717529297"
      ]
     },
     "execution_count": 22,
     "metadata": {},
     "output_type": "execute_result"
    }
   ],
   "source": [
    "_markStats[0][0]"
   ]
  },
  {
   "cell_type": "markdown",
   "id": "40de291b",
   "metadata": {},
   "source": [
    "### zscore 계산\n",
    "- 표준편차에 얼만큼 떨어져 있는지\n",
    "\n",
    "형변환"
   ]
  },
  {
   "cell_type": "code",
   "execution_count": 23,
   "id": "20dbeb13",
   "metadata": {},
   "outputs": [],
   "source": [
    "from scipy import stats\n",
    "from pyspark.sql import functions as F\n",
    "from pyspark.sql.types import FloatType\n",
    "\n",
    "zscoreUdf = F.udf(lambda x : (x-meanMark)/stdMark, FloatType())"
   ]
  },
  {
   "cell_type": "code",
   "execution_count": 24,
   "id": "47a74d24",
   "metadata": {},
   "outputs": [],
   "source": [
    "_marksDf = _marksDf.withColumn(\"zscore\", zscoreUdf(_marksDf['markF']))"
   ]
  },
  {
   "cell_type": "code",
   "execution_count": 25,
   "id": "8a00239c",
   "metadata": {},
   "outputs": [
    {
     "name": "stdout",
     "output_type": "stream",
     "text": [
      "+------+--------+-----+-----+-----------+\n",
      "|  name| subject| mark|markF|     zscore|\n",
      "+------+--------+-----+-----+-----------+\n",
      "|김하나| English|  100|100.0|  0.9020148|\n",
      "|김하나|    Math|   80| 80.0| -0.6621728|\n",
      "|임하나| English|   70| 70.0| -1.4442666|\n",
      "|임하나|    Math|  100|100.0|  0.9020148|\n",
      "|김갑돌| English| 82.3| 82.3|-0.48229098|\n",
      "|김갑돌|    Math| 98.5| 98.5| 0.78470075|\n",
      "+------+--------+-----+-----+-----------+\n",
      "\n"
     ]
    }
   ],
   "source": [
    "_marksDf.show()"
   ]
  },
  {
   "cell_type": "markdown",
   "id": "8517daf7",
   "metadata": {},
   "source": [
    "### cdf 계산"
   ]
  },
  {
   "cell_type": "code",
   "execution_count": 26,
   "id": "0900fa70",
   "metadata": {},
   "outputs": [],
   "source": [
    "from scipy.stats import norm\n",
    "import pyspark.sql.functions as F\n",
    "\n",
    "normCdf = F.udf(lambda x: float(norm.cdf(x)))"
   ]
  },
  {
   "cell_type": "markdown",
   "id": "95d68a45",
   "metadata": {},
   "source": [
    "평균=0, 표준편차=1을 기본 값으로 누적확률을 계산하기 때문에 범위초과로 1.0이 계산"
   ]
  },
  {
   "cell_type": "code",
   "execution_count": 27,
   "id": "bb280687",
   "metadata": {},
   "outputs": [
    {
     "name": "stdout",
     "output_type": "stream",
     "text": [
      "+------+--------+-----+-----+-----------+---+\n",
      "|  name| subject| mark|markF|     zscore|cdf|\n",
      "+------+--------+-----+-----+-----------+---+\n",
      "|김하나| English|  100|100.0|  0.9020148|1.0|\n",
      "|김하나|    Math|   80| 80.0| -0.6621728|1.0|\n",
      "|임하나| English|   70| 70.0| -1.4442666|1.0|\n",
      "|임하나|    Math|  100|100.0|  0.9020148|1.0|\n",
      "|김갑돌| English| 82.3| 82.3|-0.48229098|1.0|\n",
      "|김갑돌|    Math| 98.5| 98.5| 0.78470075|1.0|\n",
      "+------+--------+-----+-----+-----------+---+\n",
      "\n"
     ]
    }
   ],
   "source": [
    "_marksDf.withColumn(\"cdf\", normCdf(_marksDf['markF'])).show()"
   ]
  },
  {
   "cell_type": "code",
   "execution_count": 28,
   "id": "e5415891",
   "metadata": {},
   "outputs": [],
   "source": [
    "_marksDf = _marksDf.withColumn(\"cdf\", normCdf(_marksDf['zscore']))"
   ]
  },
  {
   "cell_type": "code",
   "execution_count": 29,
   "id": "e1013a3f",
   "metadata": {},
   "outputs": [
    {
     "name": "stdout",
     "output_type": "stream",
     "text": [
      "+------+--------+-----+-----+-----------+-------------------+\n",
      "|  name| subject| mark|markF|     zscore|                cdf|\n",
      "+------+--------+-----+-----+-----------+-------------------+\n",
      "|김하나| English|  100|100.0|  0.9020148| 0.8164754981807292|\n",
      "|김하나|    Math|   80| 80.0| -0.6621728| 0.2539302463290559|\n",
      "|임하나| English|   70| 70.0| -1.4442666| 0.0743320011235712|\n",
      "|임하나|    Math|  100|100.0|  0.9020148| 0.8164754981807292|\n",
      "|김갑돌| English| 82.3| 82.3|-0.48229098|0.31479962882028223|\n",
      "|김갑돌|    Math| 98.5| 98.5| 0.78470075| 0.7836854740814176|\n",
      "+------+--------+-----+-----+-----------+-------------------+\n",
      "\n"
     ]
    }
   ],
   "source": [
    "_marksDf.show()"
   ]
  },
  {
   "cell_type": "markdown",
   "id": "0e0ed902",
   "metadata": {},
   "source": [
    "### window 함수를 사용하여 zscore 계산"
   ]
  },
  {
   "cell_type": "markdown",
   "id": "c67b340a",
   "metadata": {},
   "source": [
    "모든 행으로 전체 윈도우 만들기"
   ]
  },
  {
   "cell_type": "code",
   "execution_count": 30,
   "id": "8ba62764",
   "metadata": {},
   "outputs": [],
   "source": [
    "import sys\n",
    "\n",
    "byAll = Window.rowsBetween(-sys.maxsize, sys.maxsize)"
   ]
  },
  {
   "cell_type": "code",
   "execution_count": 31,
   "id": "6ddf6edd",
   "metadata": {},
   "outputs": [],
   "source": [
    "from pyspark.sql import functions as F\n",
    "_marksDf = _marksDf.withColumn(\"mean\", F.avg(_marksDf['markF']).over(byAll))"
   ]
  },
  {
   "cell_type": "code",
   "execution_count": 32,
   "id": "4a557197",
   "metadata": {},
   "outputs": [],
   "source": [
    "_marksDf = _marksDf.withColumn(\"stddev\", F.stddev(_marksDf['markF']).over(byAll))"
   ]
  },
  {
   "cell_type": "code",
   "execution_count": 33,
   "id": "68db0826",
   "metadata": {},
   "outputs": [],
   "source": [
    "from pyspark.sql.window import Window\n",
    "\n",
    "bySubject = Window.partitionBy('subject')\n",
    "_marksDf = _marksDf.withColumn(\"meanBySubject\", F.avg(_marksDf['markF']).over(bySubject))"
   ]
  },
  {
   "cell_type": "markdown",
   "id": "91cb2a60",
   "metadata": {},
   "source": [
    "`_marksDf.count()` 모든행 출력"
   ]
  },
  {
   "cell_type": "code",
   "execution_count": 34,
   "id": "9ff1191a",
   "metadata": {},
   "outputs": [
    {
     "name": "stdout",
     "output_type": "stream",
     "text": [
      "+------+--------+-----+-----+-----------+-------------------+-----------------+------------------+-----------------+\n",
      "|name  |subject |mark |markF|zscore     |cdf                |mean             |stddev            |meanBySubject    |\n",
      "+------+--------+-----+-----+-----------+-------------------+-----------------+------------------+-----------------+\n",
      "|김하나| English| 100 |100.0|0.9020148  |0.8164754981807292 |88.46666717529297|12.786190172956093|84.10000101725261|\n",
      "|임하나| English| 70  |70.0 |-1.4442666 |0.0743320011235712 |88.46666717529297|12.786190172956093|84.10000101725261|\n",
      "|김갑돌| English| 82.3|82.3 |-0.48229098|0.31479962882028223|88.46666717529297|12.786190172956093|84.10000101725261|\n",
      "|김하나| Math   | 80  |80.0 |-0.6621728 |0.2539302463290559 |88.46666717529297|12.786190172956093|92.83333333333333|\n",
      "|임하나| Math   | 100 |100.0|0.9020148  |0.8164754981807292 |88.46666717529297|12.786190172956093|92.83333333333333|\n",
      "|김갑돌| Math   | 98.5|98.5 |0.78470075 |0.7836854740814176 |88.46666717529297|12.786190172956093|92.83333333333333|\n",
      "+------+--------+-----+-----+-----------+-------------------+-----------------+------------------+-----------------+\n",
      "\n"
     ]
    }
   ],
   "source": [
    "_marksDf.show(_marksDf.count(), truncate=False)"
   ]
  },
  {
   "cell_type": "code",
   "execution_count": 35,
   "id": "47e75dba",
   "metadata": {},
   "outputs": [],
   "source": [
    "_marksDf = _marksDf.withColumn(\"zscore1\", (F.col('markF')-F.col('mean'))/F.col('stddev'))"
   ]
  },
  {
   "cell_type": "markdown",
   "id": "39d7d2ea",
   "metadata": {},
   "source": [
    "부분만 출력"
   ]
  },
  {
   "cell_type": "code",
   "execution_count": 36,
   "id": "ea697b5a",
   "metadata": {},
   "outputs": [
    {
     "name": "stdout",
     "output_type": "stream",
     "text": [
      "+-----------+-------------------+\n",
      "|     zscore|            zscore1|\n",
      "+-----------+-------------------+\n",
      "|  0.9020148|  0.902014804151829|\n",
      "| -0.6621728| -0.662172786480269|\n",
      "| -1.4442666| -1.444266581796318|\n",
      "|  0.9020148|  0.902014804151829|\n",
      "|-0.48229098|-0.4822909748814927|\n",
      "| 0.78470075| 0.7847007348544217|\n",
      "+-----------+-------------------+\n",
      "\n"
     ]
    }
   ],
   "source": [
    "_marksDf.select('zscore', 'zscore1').show(_marksDf.count())"
   ]
  },
  {
   "cell_type": "markdown",
   "id": "2510bc8d",
   "metadata": {},
   "source": [
    "#### 컬럼을 만들지 않고 평균, 표준편차 계산"
   ]
  },
  {
   "cell_type": "code",
   "execution_count": 37,
   "id": "364ab844",
   "metadata": {},
   "outputs": [],
   "source": [
    "_marksDf = _marksDf.withColumn(\"zscore2\", (F.col('markF')-F.avg('markF').over(byAll))/F.stddev('markF').over(byAll))"
   ]
  },
  {
   "cell_type": "code",
   "execution_count": 38,
   "id": "0628e218",
   "metadata": {},
   "outputs": [
    {
     "name": "stdout",
     "output_type": "stream",
     "text": [
      "+-----------+-------------------+-------------------+\n",
      "|     zscore|            zscore1|            zscore2|\n",
      "+-----------+-------------------+-------------------+\n",
      "|  0.9020148|  0.902014804151829|  0.902014804151829|\n",
      "| -0.6621728| -0.662172786480269| -0.662172786480269|\n",
      "| -1.4442666| -1.444266581796318| -1.444266581796318|\n",
      "|  0.9020148|  0.902014804151829|  0.902014804151829|\n",
      "|-0.48229098|-0.4822909748814927|-0.4822909748814927|\n",
      "| 0.78470075| 0.7847007348544217| 0.7847007348544217|\n",
      "+-----------+-------------------+-------------------+\n",
      "\n"
     ]
    }
   ],
   "source": [
    "_marksDf.select('zscore', 'zscore1', 'zscore2').show()"
   ]
  },
  {
   "cell_type": "markdown",
   "id": "98b443ef",
   "metadata": {},
   "source": [
    "## 추론"
   ]
  },
  {
   "cell_type": "markdown",
   "id": "780e0201",
   "metadata": {},
   "source": [
    "### Kolmogorov-Smirnov 검증 (KS 검증)\n",
    "spark 필요"
   ]
  },
  {
   "cell_type": "code",
   "execution_count": 39,
   "id": "56e0a877",
   "metadata": {},
   "outputs": [],
   "source": [
    "xRdd = spark.sparkContext.parallelize([1.0, 2.0, 5.0, 4.0, 3.0, 3.3, 5.5])"
   ]
  },
  {
   "cell_type": "code",
   "execution_count": 40,
   "id": "d0eeff26",
   "metadata": {},
   "outputs": [],
   "source": [
    "from pyspark.mllib.stat import Statistics\n",
    "\n",
    "testResult = Statistics.kolmogorovSmirnovTest(xRdd, \"norm\")"
   ]
  },
  {
   "cell_type": "code",
   "execution_count": 41,
   "id": "61a4fb0b",
   "metadata": {
    "scrolled": true
   },
   "outputs": [
    {
     "name": "stdout",
     "output_type": "stream",
     "text": [
      "Kolmogorov-Smirnov test summary:\n",
      "degrees of freedom = 0 \n",
      "statistic = 0.841344746068543 \n",
      "pValue = 5.06089025353873E-6 \n",
      "Very strong presumption against null hypothesis: Sample follows theoretical distribution.\n"
     ]
    }
   ],
   "source": [
    "print(testResult)"
   ]
  },
  {
   "cell_type": "markdown",
   "id": "4d658825",
   "metadata": {},
   "source": [
    "### Scipy Kolmogorov-Smirnov"
   ]
  },
  {
   "cell_type": "code",
   "execution_count": 42,
   "id": "87e54343",
   "metadata": {},
   "outputs": [
    {
     "data": {
      "text/plain": [
       "KstestResult(statistic=0.8413447460685429, pvalue=5.060890253444183e-06)"
      ]
     },
     "execution_count": 42,
     "metadata": {},
     "output_type": "execute_result"
    }
   ],
   "source": [
    "from scipy.stats import kstest\n",
    "\n",
    "kstest([1.0, 2.0, 5.0, 4.0, 3.0, 3.3, 5.5], 'norm')"
   ]
  },
  {
   "cell_type": "markdown",
   "id": "37529a2a",
   "metadata": {},
   "source": [
    "집단간의 차이"
   ]
  },
  {
   "cell_type": "code",
   "execution_count": 43,
   "id": "77c15cb1",
   "metadata": {},
   "outputs": [
    {
     "data": {
      "text/plain": [
       "KstestResult(statistic=1.0, pvalue=0.0005827505827505828)"
      ]
     },
     "execution_count": 43,
     "metadata": {},
     "output_type": "execute_result"
    }
   ],
   "source": [
    "kstest([1.0, 2.0, 5.0, 4.0, 3.0, 3.3, 5.5], [11.0, 12.0, 15.0, 14.0, 13.0, 13.3, 15.5])"
   ]
  },
  {
   "cell_type": "code",
   "execution_count": 44,
   "id": "71bb3190",
   "metadata": {},
   "outputs": [
    {
     "data": {
      "text/plain": [
       "KstestResult(statistic=0.14285714285714285, pvalue=0.9999609537692629)"
      ]
     },
     "execution_count": 44,
     "metadata": {},
     "output_type": "execute_result"
    }
   ],
   "source": [
    "kstest([1.0, 2.0, 5.0, 4.0, 3.0, 3.3, 5.5], [1.1, 2.1, 5.1, 4.1, 3.1, 3.4, 5.6])"
   ]
  },
  {
   "cell_type": "markdown",
   "id": "aa36dcb2",
   "metadata": {},
   "source": [
    "### ANOVA\n",
    "표준편차의 차이\n",
    "\n",
    "p<0.005 이면 차이가 있다 : 유의미"
   ]
  },
  {
   "cell_type": "code",
   "execution_count": 47,
   "id": "850a8544",
   "metadata": {},
   "outputs": [],
   "source": [
    "import statsmodels.api as sm\n",
    "\n",
    "moore=sm.datasets.get_rdataset(\"Moore\",\"carData\")"
   ]
  },
  {
   "cell_type": "code",
   "execution_count": 48,
   "id": "1f8ab463",
   "metadata": {},
   "outputs": [
    {
     "data": {
      "text/html": [
       "<div>\n",
       "<style scoped>\n",
       "    .dataframe tbody tr th:only-of-type {\n",
       "        vertical-align: middle;\n",
       "    }\n",
       "\n",
       "    .dataframe tbody tr th {\n",
       "        vertical-align: top;\n",
       "    }\n",
       "\n",
       "    .dataframe thead th {\n",
       "        text-align: right;\n",
       "    }\n",
       "</style>\n",
       "<table border=\"1\" class=\"dataframe\">\n",
       "  <thead>\n",
       "    <tr style=\"text-align: right;\">\n",
       "      <th></th>\n",
       "      <th>partner.status</th>\n",
       "      <th>conformity</th>\n",
       "      <th>fcategory</th>\n",
       "      <th>fscore</th>\n",
       "    </tr>\n",
       "  </thead>\n",
       "  <tbody>\n",
       "    <tr>\n",
       "      <th>0</th>\n",
       "      <td>low</td>\n",
       "      <td>8</td>\n",
       "      <td>low</td>\n",
       "      <td>37</td>\n",
       "    </tr>\n",
       "    <tr>\n",
       "      <th>1</th>\n",
       "      <td>low</td>\n",
       "      <td>4</td>\n",
       "      <td>high</td>\n",
       "      <td>57</td>\n",
       "    </tr>\n",
       "    <tr>\n",
       "      <th>2</th>\n",
       "      <td>low</td>\n",
       "      <td>8</td>\n",
       "      <td>high</td>\n",
       "      <td>65</td>\n",
       "    </tr>\n",
       "    <tr>\n",
       "      <th>3</th>\n",
       "      <td>low</td>\n",
       "      <td>7</td>\n",
       "      <td>low</td>\n",
       "      <td>20</td>\n",
       "    </tr>\n",
       "    <tr>\n",
       "      <th>4</th>\n",
       "      <td>low</td>\n",
       "      <td>10</td>\n",
       "      <td>low</td>\n",
       "      <td>36</td>\n",
       "    </tr>\n",
       "  </tbody>\n",
       "</table>\n",
       "</div>"
      ],
      "text/plain": [
       "  partner.status  conformity fcategory  fscore\n",
       "0            low           8       low      37\n",
       "1            low           4      high      57\n",
       "2            low           8      high      65\n",
       "3            low           7       low      20\n",
       "4            low          10       low      36"
      ]
     },
     "execution_count": 48,
     "metadata": {},
     "output_type": "execute_result"
    }
   ],
   "source": [
    "moore.data.head()"
   ]
  },
  {
   "cell_type": "code",
   "execution_count": 49,
   "id": "17dc323d",
   "metadata": {},
   "outputs": [
    {
     "data": {
      "text/plain": [
       "Index(['status', 'conformity', 'fcategory', 'fscore'], dtype='object')"
      ]
     },
     "execution_count": 49,
     "metadata": {},
     "output_type": "execute_result"
    }
   ],
   "source": [
    "moore.data.columns=['status','conformity', 'fcategory', 'fscore']\n",
    "moore.data.columns"
   ]
  },
  {
   "cell_type": "markdown",
   "id": "63e09377",
   "metadata": {},
   "source": [
    "#### R 스타일 모델링\n",
    "- fscore : 종속변수\n",
    "- statusm fcategory : 연속변수 \n",
    "파트너의 신분이 높고 낮은지 fcategory가 high, low, medium인지"
   ]
  },
  {
   "cell_type": "code",
   "execution_count": 50,
   "id": "29fc9369",
   "metadata": {},
   "outputs": [],
   "source": [
    "from statsmodels.formula.api import ols\n",
    "\n",
    "formula='fscore~C(status)*C(fcategory)'\n",
    "model=ols(formula, data=moore.data).fit()"
   ]
  },
  {
   "cell_type": "markdown",
   "id": "c0d057e9",
   "metadata": {},
   "source": [
    "#### ANOVA에 모델 적용\n",
    "선형모델 : anova_lm"
   ]
  },
  {
   "cell_type": "code",
   "execution_count": 51,
   "id": "f66c3142",
   "metadata": {},
   "outputs": [],
   "source": [
    "from statsmodels.stats.anova import anova_lm\n",
    "\n",
    "result = anova_lm(model)"
   ]
  },
  {
   "cell_type": "code",
   "execution_count": 52,
   "id": "72b7134b",
   "metadata": {},
   "outputs": [
    {
     "data": {
      "text/html": [
       "<div>\n",
       "<style scoped>\n",
       "    .dataframe tbody tr th:only-of-type {\n",
       "        vertical-align: middle;\n",
       "    }\n",
       "\n",
       "    .dataframe tbody tr th {\n",
       "        vertical-align: top;\n",
       "    }\n",
       "\n",
       "    .dataframe thead th {\n",
       "        text-align: right;\n",
       "    }\n",
       "</style>\n",
       "<table border=\"1\" class=\"dataframe\">\n",
       "  <thead>\n",
       "    <tr style=\"text-align: right;\">\n",
       "      <th></th>\n",
       "      <th>df</th>\n",
       "      <th>sum_sq</th>\n",
       "      <th>mean_sq</th>\n",
       "      <th>F</th>\n",
       "      <th>PR(&gt;F)</th>\n",
       "    </tr>\n",
       "  </thead>\n",
       "  <tbody>\n",
       "    <tr>\n",
       "      <th>C(status)</th>\n",
       "      <td>1.0</td>\n",
       "      <td>7.932587</td>\n",
       "      <td>7.932587</td>\n",
       "      <td>0.231555</td>\n",
       "      <td>6.330623e-01</td>\n",
       "    </tr>\n",
       "    <tr>\n",
       "      <th>C(fcategory)</th>\n",
       "      <td>2.0</td>\n",
       "      <td>7561.365635</td>\n",
       "      <td>3780.682818</td>\n",
       "      <td>110.359336</td>\n",
       "      <td>8.768957e-17</td>\n",
       "    </tr>\n",
       "    <tr>\n",
       "      <th>C(status):C(fcategory)</th>\n",
       "      <td>2.0</td>\n",
       "      <td>29.086807</td>\n",
       "      <td>14.543403</td>\n",
       "      <td>0.424527</td>\n",
       "      <td>6.570656e-01</td>\n",
       "    </tr>\n",
       "    <tr>\n",
       "      <th>Residual</th>\n",
       "      <td>39.0</td>\n",
       "      <td>1336.059416</td>\n",
       "      <td>34.257934</td>\n",
       "      <td>NaN</td>\n",
       "      <td>NaN</td>\n",
       "    </tr>\n",
       "  </tbody>\n",
       "</table>\n",
       "</div>"
      ],
      "text/plain": [
       "                          df       sum_sq      mean_sq           F  \\\n",
       "C(status)                1.0     7.932587     7.932587    0.231555   \n",
       "C(fcategory)             2.0  7561.365635  3780.682818  110.359336   \n",
       "C(status):C(fcategory)   2.0    29.086807    14.543403    0.424527   \n",
       "Residual                39.0  1336.059416    34.257934         NaN   \n",
       "\n",
       "                              PR(>F)  \n",
       "C(status)               6.330623e-01  \n",
       "C(fcategory)            8.768957e-17  \n",
       "C(status):C(fcategory)  6.570656e-01  \n",
       "Residual                         NaN  "
      ]
     },
     "execution_count": 52,
     "metadata": {},
     "output_type": "execute_result"
    }
   ],
   "source": [
    "result"
   ]
  },
  {
   "cell_type": "markdown",
   "id": "6ce2d713",
   "metadata": {},
   "source": [
    "#### 평균\n",
    "판다스"
   ]
  },
  {
   "cell_type": "code",
   "execution_count": 53,
   "id": "ea3cfe80",
   "metadata": {},
   "outputs": [],
   "source": [
    "moorePd = moore.data"
   ]
  },
  {
   "cell_type": "markdown",
   "id": "faae6add",
   "metadata": {},
   "source": [
    "fcategory의 그룹별"
   ]
  },
  {
   "cell_type": "code",
   "execution_count": 54,
   "id": "f132a5aa",
   "metadata": {},
   "outputs": [
    {
     "data": {
      "text/html": [
       "<div>\n",
       "<style scoped>\n",
       "    .dataframe tbody tr th:only-of-type {\n",
       "        vertical-align: middle;\n",
       "    }\n",
       "\n",
       "    .dataframe tbody tr th {\n",
       "        vertical-align: top;\n",
       "    }\n",
       "\n",
       "    .dataframe thead th {\n",
       "        text-align: right;\n",
       "    }\n",
       "</style>\n",
       "<table border=\"1\" class=\"dataframe\">\n",
       "  <thead>\n",
       "    <tr style=\"text-align: right;\">\n",
       "      <th></th>\n",
       "      <th>conformity</th>\n",
       "      <th>fscore</th>\n",
       "    </tr>\n",
       "    <tr>\n",
       "      <th>fcategory</th>\n",
       "      <th></th>\n",
       "      <th></th>\n",
       "    </tr>\n",
       "  </thead>\n",
       "  <tbody>\n",
       "    <tr>\n",
       "      <th>high</th>\n",
       "      <td>12.266667</td>\n",
       "      <td>58.533333</td>\n",
       "    </tr>\n",
       "    <tr>\n",
       "      <th>low</th>\n",
       "      <td>11.733333</td>\n",
       "      <td>26.933333</td>\n",
       "    </tr>\n",
       "    <tr>\n",
       "      <th>medium</th>\n",
       "      <td>12.400000</td>\n",
       "      <td>43.866667</td>\n",
       "    </tr>\n",
       "  </tbody>\n",
       "</table>\n",
       "</div>"
      ],
      "text/plain": [
       "           conformity     fscore\n",
       "fcategory                       \n",
       "high        12.266667  58.533333\n",
       "low         11.733333  26.933333\n",
       "medium      12.400000  43.866667"
      ]
     },
     "execution_count": 54,
     "metadata": {},
     "output_type": "execute_result"
    }
   ],
   "source": [
    "moorePd.groupby('fcategory').mean()"
   ]
  },
  {
   "cell_type": "markdown",
   "id": "2f386c9d",
   "metadata": {},
   "source": [
    "fcategory의 그룹별의 fscore 변수의 평균만"
   ]
  },
  {
   "cell_type": "code",
   "execution_count": 55,
   "id": "fafa9cc7",
   "metadata": {},
   "outputs": [
    {
     "data": {
      "text/plain": [
       "fcategory\n",
       "high      58.533333\n",
       "low       26.933333\n",
       "medium    43.866667\n",
       "Name: fscore, dtype: float64"
      ]
     },
     "execution_count": 55,
     "metadata": {},
     "output_type": "execute_result"
    }
   ],
   "source": [
    "moorePd.groupby('fcategory')['fscore'].mean()"
   ]
  },
  {
   "cell_type": "markdown",
   "id": "5c11f7a0",
   "metadata": {},
   "source": [
    "#### 그래프"
   ]
  },
  {
   "cell_type": "code",
   "execution_count": 56,
   "id": "594ccf28",
   "metadata": {},
   "outputs": [
    {
     "data": {
      "text/plain": [
       "<AxesSubplot:>"
      ]
     },
     "execution_count": 56,
     "metadata": {},
     "output_type": "execute_result"
    },
    {
     "data": {
      "image/png": "[encoded data removed]",
      "text/plain": [
       "<Figure size 432x288 with 1 Axes>"
      ]
     },
     "metadata": {
      "needs_background": "light"
     },
     "output_type": "display_data"
    }
   ],
   "source": [
    "moorePd.boxplot()"
   ]
  },
  {
   "cell_type": "markdown",
   "id": "83213e9d",
   "metadata": {},
   "source": [
    "#### fcategory 별 fscore 그래프\n",
    "유의미한 값만 평균값 분석"
   ]
  },
  {
   "cell_type": "code",
   "execution_count": 61,
   "id": "a45b7545",
   "metadata": {},
   "outputs": [],
   "source": [
    "_fscore = moorePd.groupby('fcategory')['fscore'].mean()"
   ]
  },
  {
   "cell_type": "code",
   "execution_count": 62,
   "id": "ba6e0d42",
   "metadata": {},
   "outputs": [
    {
     "data": {
      "text/plain": [
       "<AxesSubplot:title={'center':'fscore by fcategory'}, xlabel='fcategory'>"
      ]
     },
     "execution_count": 62,
     "metadata": {},
     "output_type": "execute_result"
    },
    {
     "data": {
      "image/png": "[encoded data removed]",
      "text/plain": [
       "<Figure size 432x288 with 1 Axes>"
      ]
     },
     "metadata": {
      "needs_background": "light"
     },
     "output_type": "display_data"
    }
   ],
   "source": [
    "_fscore.plot(x=\"fcategory\", y=_fscore,  title=\"fscore by fcategory\")"
   ]
  }
 ],
 "metadata": {
  "kernelspec": {
   "display_name": "Python 3 (ipykernel)",
   "language": "python",
   "name": "python3"
  },
  "language_info": {
   "codemirror_mode": {
    "name": "ipython",
    "version": 3
   },
   "file_extension": ".py",
   "mimetype": "text/x-python",
   "name": "python",
   "nbconvert_exporter": "python",
   "pygments_lexer": "ipython3",
   "version": "3.8.11"
  },
  "toc": {
   "base_numbering": 1,
   "nav_menu": {},
   "number_sections": true,
   "sideBar": true,
   "skip_h1_title": true,
   "title_cell": "Table of Contents",
   "title_sidebar": "Contents",
   "toc_cell": true,
   "toc_position": {},
   "toc_section_display": true,
   "toc_window_display": false
  }
 },
 "nbformat": 4,
 "nbformat_minor": 5
}
