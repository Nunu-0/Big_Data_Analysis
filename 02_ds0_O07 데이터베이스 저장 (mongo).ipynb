{
 "cells": [
  {
   "cell_type": "markdown",
   "id": "chicken-allen",
   "metadata": {},
   "source": [
    "# O.07 데이터베이스 저장\n",
    "(ds0_open_data)\n",
    "\n",
    "mongo, pymongo 사용하기\n",
    "\n",
    "---"
   ]
  },
  {
   "cell_type": "markdown",
   "id": "composite-savage",
   "metadata": {
    "toc": true
   },
   "source": [
    "<h1>Table of Contents<span class=\"tocSkip\"></span></h1>\n",
    "<div class=\"toc\"><ul class=\"toc-item\"><li><span><a href=\"#1)-cmd의-경로-이동\" data-toc-modified-id=\"1)-cmd의-경로-이동-1\">1) cmd의 경로 이동</a></span></li><li><span><a href=\"#2)-mongo-서버-실행\" data-toc-modified-id=\"2)-mongo-서버-실행-2\">2) mongo 서버 실행</a></span><ul class=\"toc-item\"><li><span><a href=\"#mongod---dbpath-data/---port-27017\" data-toc-modified-id=\"mongod---dbpath-data/---port-27017-2.1\"><code>mongod --dbpath data/ --port 27017</code></a></span></li></ul></li><li><span><a href=\"#3)-pymongo-실행\" data-toc-modified-id=\"3)-pymongo-실행-3\">3) pymongo 실행</a></span></li><li><span><a href=\"#4)-클라이언트-생성\" data-toc-modified-id=\"4)-클라이언트-생성-4\">4) 클라이언트 생성</a></span></li><li><span><a href=\"#5)-DB-생성\" data-toc-modified-id=\"5)-DB-생성-5\">5) DB 생성</a></span></li><li><span><a href=\"#6)-Collection생성-/-데이터-입력\" data-toc-modified-id=\"6)-Collection생성-/-데이터-입력-6\">6) Collection생성 / 데이터 입력</a></span></li><li><span><a href=\"#7)-검색해보기\" data-toc-modified-id=\"7)-검색해보기-7\">7) 검색해보기</a></span></li></ul></div>"
   ]
  },
  {
   "cell_type": "markdown",
   "id": "ranking-reference",
   "metadata": {},
   "source": [
    "---\n",
    "### 1) cmd의 경로 이동"
   ]
  },
  {
   "cell_type": "code",
   "execution_count": 2,
   "id": "accredited-solution",
   "metadata": {},
   "outputs": [
    {
     "data": {
      "text/plain": [
       "'C:\\\\Users\\\\Nunu\\\\BigData'"
      ]
     },
     "execution_count": 2,
     "metadata": {},
     "output_type": "execute_result"
    }
   ],
   "source": [
    "import os\n",
    "os.getcwd() # 홈디렉토리"
   ]
  },
  {
   "cell_type": "markdown",
   "id": "focal-great",
   "metadata": {},
   "source": [
    "### 2) mongo 서버 실행\n",
    "다음을 입력 (port 생략 가능)\n",
    "#### `mongod --dbpath data/ --port 27017`\n",
    "\n",
    "### 3) pymongo 실행"
   ]
  },
  {
   "cell_type": "code",
   "execution_count": 3,
   "id": "rocky-karma",
   "metadata": {},
   "outputs": [],
   "source": [
    "import pymongo"
   ]
  },
  {
   "cell_type": "markdown",
   "id": "african-young",
   "metadata": {},
   "source": [
    "### 4) 클라이언트 생성"
   ]
  },
  {
   "cell_type": "code",
   "execution_count": 4,
   "id": "sized-community",
   "metadata": {},
   "outputs": [],
   "source": [
    "Client = pymongo.MongoClient('mongodb://localhost:27017')\n",
    "# or Client = pymongo.MongoClient()|"
   ]
  },
  {
   "cell_type": "markdown",
   "id": "compliant-tanzania",
   "metadata": {},
   "source": [
    "### 5) DB 생성"
   ]
  },
  {
   "cell_type": "code",
   "execution_count": 5,
   "id": "varying-liquid",
   "metadata": {},
   "outputs": [],
   "source": [
    "db=Client.myDB"
   ]
  },
  {
   "cell_type": "markdown",
   "id": "verbal-wyoming",
   "metadata": {},
   "source": [
    "현재는 데이터 입력을 하지 않아 DB를 볼 수 없다"
   ]
  },
  {
   "cell_type": "code",
   "execution_count": 6,
   "id": "alike-savings",
   "metadata": {},
   "outputs": [
    {
     "name": "stdout",
     "output_type": "stream",
     "text": [
      "['admin', 'config', 'ds_open_subwayPassengersDb', 'local', 'myDB']\n"
     ]
    }
   ],
   "source": [
    "print(Client.list_database_names())"
   ]
  },
  {
   "cell_type": "markdown",
   "id": "entitled-concentrate",
   "metadata": {},
   "source": [
    "### 6) Collection생성 / 데이터 입력"
   ]
  },
  {
   "cell_type": "code",
   "execution_count": 7,
   "id": "north-fancy",
   "metadata": {},
   "outputs": [
    {
     "data": {
      "text/plain": [
       "<pymongo.results.InsertOneResult at 0x249a8e8c5c8>"
      ]
     },
     "execution_count": 7,
     "metadata": {},
     "output_type": "execute_result"
    }
   ],
   "source": [
    "_id=1\n",
    "_name='Yanu'\n",
    "_age=11\n",
    "_country='ko'\n",
    "\n",
    "db.myPyCol.insert_one({\n",
    "    \"id\": _id,\n",
    "    \"name\": _name,\n",
    "    \"age\": _age,\n",
    "    \"country\": _country\n",
    "})"
   ]
  },
  {
   "cell_type": "markdown",
   "id": "numerical-musician",
   "metadata": {},
   "source": [
    "데이터를 입력 후 myDB가 생성됨"
   ]
  },
  {
   "cell_type": "code",
   "execution_count": 8,
   "id": "residential-librarian",
   "metadata": {},
   "outputs": [
    {
     "name": "stdout",
     "output_type": "stream",
     "text": [
      "['admin', 'config', 'ds_open_subwayPassengersDb', 'local', 'myDB']\n"
     ]
    }
   ],
   "source": [
    "print(Client.list_database_names())"
   ]
  },
  {
   "cell_type": "markdown",
   "id": "organizational-disability",
   "metadata": {},
   "source": [
    "Collection이 잘 생성됐는지 확인"
   ]
  },
  {
   "cell_type": "code",
   "execution_count": 9,
   "id": "logical-australia",
   "metadata": {},
   "outputs": [
    {
     "name": "stdout",
     "output_type": "stream",
     "text": [
      "['myPyCol']\n"
     ]
    }
   ],
   "source": [
    "print(db.list_collection_names())"
   ]
  },
  {
   "cell_type": "markdown",
   "id": "combined-highway",
   "metadata": {},
   "source": [
    "### 7) 검색해보기"
   ]
  },
  {
   "cell_type": "code",
   "execution_count": 10,
   "id": "confused-dancing",
   "metadata": {},
   "outputs": [],
   "source": [
    "results = db.myPyCol.find()"
   ]
  },
  {
   "cell_type": "code",
   "execution_count": 11,
   "id": "harmful-cartridge",
   "metadata": {
    "scrolled": true
   },
   "outputs": [
    {
     "name": "stdout",
     "output_type": "stream",
     "text": [
      "js\n",
      "Yanu\n",
      "Yanu\n"
     ]
    }
   ],
   "source": [
    "for r in results:\n",
    "        print (r['name'])"
   ]
  }
 ],
 "metadata": {
  "kernelspec": {
   "display_name": "Python 3",
   "language": "python",
   "name": "python3"
  },
  "language_info": {
   "codemirror_mode": {
    "name": "ipython",
    "version": 3
   },
   "file_extension": ".py",
   "mimetype": "text/x-python",
   "name": "python",
   "nbconvert_exporter": "python",
   "pygments_lexer": "ipython3",
   "version": "3.6.12"
  },
  "toc": {
   "base_numbering": 1,
   "nav_menu": {},
   "number_sections": false,
   "sideBar": true,
   "skip_h1_title": true,
   "title_cell": "Table of Contents",
   "title_sidebar": "Contents",
   "toc_cell": true,
   "toc_position": {},
   "toc_section_display": true,
   "toc_window_display": true
  }
 },
 "nbformat": 4,
 "nbformat_minor": 5
}
