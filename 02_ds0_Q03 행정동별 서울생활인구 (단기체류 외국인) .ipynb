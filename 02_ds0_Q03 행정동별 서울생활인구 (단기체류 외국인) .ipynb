{
 "cells": [
  {
   "cell_type": "markdown",
   "id": "reserved-triumph",
   "metadata": {},
   "source": [
    "# 문제 3 :행정동별 서울생활인구 (단기체류 외국인) \n",
    "(ds0_open_data)\n",
    "* 이용API : http://data.seoul.go.kr/dataList/OA-14993/S/1/datasetView.do\n",
    "---"
   ]
  },
  {
   "cell_type": "markdown",
   "id": "genuine-candidate",
   "metadata": {
    "toc": true
   },
   "source": [
    "<h1>Table of Contents<span class=\"tocSkip\"></span></h1>\n",
    "<div class=\"toc\"><ul class=\"toc-item\"><li><ul class=\"toc-item\"><li><span><a href=\"#1.-인증키-읽기\" data-toc-modified-id=\"1.-인증키-읽기-0.1\">1. 인증키 읽기</a></span></li><li><span><a href=\"#2.-요청인자-설정-(xml)\" data-toc-modified-id=\"2.-요청인자-설정-(xml)-0.2\">2. 요청인자 설정 (xml)</a></span></li><li><span><a href=\"#3.-url-만들기-/-호출\" data-toc-modified-id=\"3.-url-만들기-/-호출-0.3\">3. url 만들기 / 호출</a></span></li><li><span><a href=\"#4.-XML-파싱\" data-toc-modified-id=\"4.-XML-파싱-0.4\">4. XML 파싱</a></span></li></ul></li><li><span><a href=\"#코드-통합-(XML)\" data-toc-modified-id=\"코드-통합-(XML)-1\">코드 통합 (XML)</a></span></li></ul></div>"
   ]
  },
  {
   "cell_type": "markdown",
   "id": "minute-reproduction",
   "metadata": {},
   "source": [
    "---\n",
    "### 1. 인증키 읽기"
   ]
  },
  {
   "cell_type": "code",
   "execution_count": 1,
   "id": "infinite-cyprus",
   "metadata": {},
   "outputs": [],
   "source": [
    "import os\n",
    "import src.mylib\n",
    "keyPath=os.path.join(os.getcwd(), 'src', 'key.properties')\n",
    "key=src.mylib.getKey(keyPath)\n",
    "KEY=str(key['02_03'])"
   ]
  },
  {
   "cell_type": "markdown",
   "id": "secondary-genome",
   "metadata": {},
   "source": [
    "### 2. 요청인자 설정 (xml)"
   ]
  },
  {
   "cell_type": "code",
   "execution_count": 2,
   "id": "vanilla-attack",
   "metadata": {},
   "outputs": [
    {
     "name": "stdout",
     "output_type": "stream",
     "text": [
      "/xml/SPOP_FORN_TEMP_RESD_DONG/1/5/20200617\n"
     ]
    }
   ],
   "source": [
    "TYPE='xml'\n",
    "SERVICE='SPOP_FORN_TEMP_RESD_DONG'\n",
    "START_INDEX=str(1)\n",
    "END_INDEX=str(5)\n",
    "STDR_DE_ID=str(20200617)\n",
    "\n",
    "#params=os.path.join(KEY,TYPE,SERVICE,START_INDEX,END_INDEX)\n",
    "params=\"/\".join([KEY,TYPE,SERVICE,START_INDEX,END_INDEX,STDR_DE_ID])\n",
    "\n",
    "print (params[30:])"
   ]
  },
  {
   "cell_type": "markdown",
   "id": "productive-stanley",
   "metadata": {},
   "source": [
    "\n",
    "### 3. url 만들기 / 호출"
   ]
  },
  {
   "cell_type": "code",
   "execution_count": 3,
   "id": "balanced-scanning",
   "metadata": {},
   "outputs": [
    {
     "name": "stdout",
     "output_type": "stream",
     "text": [
      "http://openapi.seoul.go.kr:8088/41764d52446c797535394452456345/xml/SPOP_FORN_TEMP_RESD_DONG/1/5/20200617\n"
     ]
    }
   ],
   "source": [
    "import urllib\n",
    "_url='http://openapi.seoul.go.kr:8088/'\n",
    "url=urllib.parse.urljoin(_url,params)\n",
    "print(url) # http://openapi.seoul.go.kr:8088/(인증키)/xml/SPOP_FORN_TEMP_RESD_DONG/1/5/20200617"
   ]
  },
  {
   "cell_type": "code",
   "execution_count": 4,
   "id": "headed-ground",
   "metadata": {},
   "outputs": [
    {
     "name": "stdout",
     "output_type": "stream",
     "text": [
      "<?xml version=\"1.0\" encoding=\"UTF-8\"?>\n",
      "<SPOP_FORN_TEMP_RESD_DONG>\n",
      "<list_total_count>9849</list_total_count>\n",
      "<RESULT>\n",
      "<CODE>INFO-000</CODE>\n",
      "<MESSAGE>정상 처리되었습니다</MESSAGE>\n",
      "</RESULT>\n",
      "<row>\n",
      "<STDR_DE_ID>20200617</STDR_DE_ID>\n",
      "<TMZON_PD_SE>00</TMZON_PD_SE>\n",
      "<ADSTRD_CODE_SE>11110515</ADSTRD_CODE_SE>\n",
      "<TOT_LVPOP_CO>248.866</TOT_LVPOP_CO>\n",
      "<CHINA_STAYPOP_CO>86.4335</CHINA_STAYPOP_CO>\n",
      "<ETC_STAYPOP_CO>162.432</ETC_STAYPOP_CO>\n",
      "</row>\n",
      "<row>\n",
      "<STDR_DE_ID>20200617</STDR_DE_ID>\n",
      "<TMZON_PD_SE>00</TMZON_PD_SE>\n",
      "<ADSTRD_CODE_SE>11110530</ADSTRD_CODE_SE>\n",
      "<TOT_LVPOP_CO>71.2628</TOT_LVPOP_CO>\n",
      "<CHINA_STAYPOP_CO>0</CHINA_STAYPOP_CO>\n",
      "<ETC_STAYPOP_CO>71.2627</ETC_STAYPOP_CO>\n",
      "</row>\n",
      "<row>\n",
      "<STDR_DE_ID>20200617</STDR_DE_ID>\n",
      "<TMZON_PD_SE>00</TMZON_PD_SE>\n",
      "<ADSTRD_CODE_SE>11110540</ADSTRD_CODE_SE>\n",
      "<TOT_LVPOP_CO>150.1777</TOT_LVPOP_CO>\n",
      "<CHINA_STAYPOP_CO>86.2246</CHINA_STAYPOP_CO>\n",
      "<ETC_STAYPOP_CO>63.9532</ETC_STAYPOP_CO>\n",
      "</row>\n",
      "<row>\n",
      "<STDR_DE_ID>20200617</STDR_DE_ID>\n",
      "<TMZON_PD_SE>00</TMZON_PD_SE>\n",
      "<ADSTRD_CODE_SE>11110550</ADSTRD_CODE_SE>\n",
      "<TOT_LVPOP_CO>136.7137</TOT_LVPOP_CO>\n",
      "<CHINA_STAYPOP_CO>79.3833</CHINA_STAYPOP_CO>\n",
      "<ETC_STAYPOP_CO>57.3305</ETC_STAYPOP_CO>\n",
      "</row>\n",
      "<row>\n",
      "<STDR_DE_ID>20200617</STDR_DE_ID>\n",
      "<TMZON_PD_SE>00</TMZON_PD_SE>\n",
      "<ADSTRD_CODE_SE>11110560</ADSTRD_CODE_SE>\n",
      "<TOT_LVPOP_CO>174.824</TOT_LVPOP_CO>\n",
      "<CHINA_STAYPOP_CO>0</CHINA_STAYPOP_CO>\n",
      "<ETC_STAYPOP_CO>174.8241</ETC_STAYPOP_CO>\n",
      "</row>\n",
      "</SPOP_FORN_TEMP_RESD_DONG>\n",
      "\n"
     ]
    }
   ],
   "source": [
    "import requests\n",
    "\n",
    "data=requests.get(url).text\n",
    "print (data)"
   ]
  },
  {
   "cell_type": "markdown",
   "id": "engaged-tribe",
   "metadata": {},
   "source": [
    "### 4. XML 파싱"
   ]
  },
  {
   "cell_type": "code",
   "execution_count": 5,
   "id": "collective-things",
   "metadata": {},
   "outputs": [
    {
     "name": "stdout",
     "output_type": "stream",
     "text": [
      "248.866\n",
      "71.2628\n",
      "150.1777\n",
      "136.7137\n",
      "174.824\n"
     ]
    }
   ],
   "source": [
    "import lxml\n",
    "import lxml.etree\n",
    "\n",
    "tree=lxml.etree.fromstring(data.encode('utf-8'))\n",
    "nodes=tree.xpath('//TOT_LVPOP_CO')\n",
    "for node in nodes:\n",
    "    print (node.text)"
   ]
  },
  {
   "cell_type": "markdown",
   "id": "ignored-community",
   "metadata": {},
   "source": [
    "---\n",
    "## 코드 통합 (XML)"
   ]
  },
  {
   "cell_type": "code",
   "execution_count": 6,
   "id": "saving-russian",
   "metadata": {},
   "outputs": [
    {
     "name": "stdout",
     "output_type": "stream",
     "text": [
      "Writing src/ds_open_foreigners_xml.py\n"
     ]
    }
   ],
   "source": [
    "%%writefile src/ds_open_foreigners_xml.py\n",
    "import os\n",
    "import urllib\n",
    "import requests\n",
    "import lxml\n",
    "import lxml.etree\n",
    "import mylib #from src import mylib\n",
    "\n",
    "def doIt():\n",
    "    keyPath=os.path.join(os.getcwd(), 'src', 'key.properties')\n",
    "    key=mylib.getKey(keyPath)\n",
    "    KEY=str(key['02_03'])\n",
    "    TYPE='xml'\n",
    "    SERVICE='SPOP_FORN_TEMP_RESD_DONG'\n",
    "    START_INDEX=str(1)\n",
    "    END_INDEX=str(10)\n",
    "    STDR_DE_ID=str(20200617)\n",
    "    #params=\"/\".join([KEY,TYPE,SERVICE,START_INDEX,END_INDEX,STDR_DE_ID])\n",
    "\n",
    "    #_url='http://openAPI.seoul.go.kr:8088/'\n",
    "    _url='http://openAPI.seoul.go.kr:8088' # NOTE: the slash at the end removed\n",
    "    #url=urllib.parse.urljoin(_url,params)\n",
    "    url=\"/\".join([_url,KEY,TYPE,SERVICE,START_INDEX,END_INDEX,STDR_DE_ID])\n",
    "    data=requests.get(url).text\n",
    "    #tree=lxml.etree.parse(StringIO.StringIO(data.encode('utf-8')))\n",
    "    tree=lxml.etree.fromstring(data.encode('utf-8'))\n",
    "    nodes=tree.xpath('//TOT_LVPOP_CO')\n",
    "    for node in nodes:\n",
    "        print (node.text)\n",
    "\n",
    "if __name__ == \"__main__\":\n",
    "    doIt()"
   ]
  },
  {
   "cell_type": "code",
   "execution_count": 7,
   "id": "inappropriate-combine",
   "metadata": {},
   "outputs": [
    {
     "name": "stdout",
     "output_type": "stream",
     "text": [
      "248.866\n",
      "71.2628\n",
      "150.1777\n",
      "136.7137\n",
      "174.824\n",
      "0.4833\n",
      "0.2163\n",
      "35.2093\n",
      "756.5433\n",
      "87.6117\n"
     ]
    }
   ],
   "source": [
    "!python src/ds_open_foreigners_xml.py"
   ]
  }
 ],
 "metadata": {
  "kernelspec": {
   "display_name": "Python 3",
   "language": "python",
   "name": "python3"
  },
  "language_info": {
   "codemirror_mode": {
    "name": "ipython",
    "version": 3
   },
   "file_extension": ".py",
   "mimetype": "text/x-python",
   "name": "python",
   "nbconvert_exporter": "python",
   "pygments_lexer": "ipython3",
   "version": "3.6.12"
  },
  "toc": {
   "base_numbering": 1,
   "nav_menu": {},
   "number_sections": false,
   "sideBar": true,
   "skip_h1_title": true,
   "title_cell": "Table of Contents",
   "title_sidebar": "Contents",
   "toc_cell": true,
   "toc_position": {},
   "toc_section_display": true,
   "toc_window_display": true
  }
 },
 "nbformat": 4,
 "nbformat_minor": 5
}
