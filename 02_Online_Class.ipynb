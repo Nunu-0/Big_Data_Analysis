{
 "cells": [
  {
   "cell_type": "markdown",
   "id": "cultural-columbia",
   "metadata": {},
   "source": [
    "# Week02 Online Class\n",
    "(21.09.14 12:00 Gitter)\n"
   ]
  },
  {
   "cell_type": "markdown",
   "id": "finnish-bishop",
   "metadata": {
    "toc": true
   },
   "source": [
    "<h1>Table of Contents<span class=\"tocSkip\"></span></h1>\n",
    "<div class=\"toc\"><ul class=\"toc-item\"><li><span><a href=\"#1.-[열린데이터-vs-공공데이터]-의-차이\" data-toc-modified-id=\"1.-[열린데이터-vs-공공데이터]-의-차이-1\">1. [열린데이터 vs 공공데이터] 의 차이</a></span></li><li><span><a href=\"#2.-URL-연결\" data-toc-modified-id=\"2.-URL-연결-2\">2. URL 연결</a></span></li><li><span><a href=\"#3.-URL\" data-toc-modified-id=\"3.-URL-3\">3. URL</a></span><ul class=\"toc-item\"><li><span><a href=\"#1)-URL-설명\" data-toc-modified-id=\"1)-URL-설명-3.1\">1) URL 설명</a></span></li><li><span><a href=\"#2)-URL-호출\" data-toc-modified-id=\"2)-URL-호출-3.2\">2) URL 호출</a></span></li></ul></li><li><span><a href=\"#4.-파일-쓰기\" data-toc-modified-id=\"4.-파일-쓰기-4\">4. 파일 쓰기</a></span><ul class=\"toc-item\"><li><span><a href=\"#1)-파일-쓰기-함수\" data-toc-modified-id=\"1)-파일-쓰기-함수-4.1\">1) 파일 쓰기 함수</a></span></li><li><span><a href=\"#2)-함수-호출\" data-toc-modified-id=\"2)-함수-호출-4.2\">2) 함수 호출</a></span></li></ul></li></ul></div>"
   ]
  },
  {
   "cell_type": "markdown",
   "id": "female-passage",
   "metadata": {},
   "source": [
    "---\n",
    "### 1. [열린데이터 vs 공공데이터] 의 차이\n",
    "\n",
    "* 열린데이터 :\n",
    "    > - '/'를 사용하여 연결한다\n",
    "    >\n",
    "    > - _ex) 'http://openAPI.seoul.go.kr:8088/'_\n",
    "    \n",
    "* 공공데이터 :\n",
    "    > - url에 query parameters를 추가해서 사용한다\n",
    "    >\n",
    "    > - '?'로 시작하며 key, value의 쌍을 '&'로 묶는다 _ex) '?k1=v1&k2=v2'_\n",
    "    >\n",
    "    > - 포털이라 url이 서로 다름\n"
   ]
  },
  {
   "cell_type": "markdown",
   "id": "interracial-burning",
   "metadata": {},
   "source": [
    "___\n",
    "### 2. URL 연결\n",
    "' ' 작은 쉼표를 주의할 것!\n",
    "\n",
    "`\"/\".join( [a, b, c] )`\n",
    "`\"/\".join( ['1', , '3'] )`\n",
    "\n",
    "output : ERROR\n",
    "\n",
    "`\"/\".join( ['a', 'b', 'c'] )` `\"/\".join( ['1', ' ', '3'] )`\n",
    "\n",
    "output : a/b/c, 1//3"
   ]
  },
  {
   "cell_type": "markdown",
   "id": "coordinate-steps",
   "metadata": {},
   "source": [
    "---\n",
    "### 3. URL\n",
    "#### 1) URL 설명\n",
    " Sample URL) http://openAPI.seoul.go.kr:8088//73725974496a736c34395757705847/json/SearchSTNBySubwayLineInfo/1/10///2\n",
    "* http :\n",
    "> * 프로토콜, `://`로 연결\n",
    ">\n",
    "> * `file://` 로 대처 가능\n",
    "* 웹페이지 (ex : openAPI.seoul.go.kr:8088 )\n",
    "> * 포트번호 `:`로 분리\n",
    "* 자원 연결\n",
    "> * `/`로 연결 (열린데이터 한정)\n",
    "\n",
    "#### 2) URL 호출\n",
    "`r = requests.get(url)`\n",
    "\n",
    "\n",
    "`type(r)`\n",
    "\n",
    "output : Response\n",
    "\n",
    "* r = 객체가 반횐된다는 것\n",
    "* `requests.models.Response`는 `headers`, `json()`, `status_cods`, `text`, `url`등 `property/Method` 제공"
   ]
  },
  {
   "cell_type": "markdown",
   "id": "governing-jewel",
   "metadata": {},
   "source": [
    "---\n",
    "\n",
    "### 4. 파일 쓰기\n",
    "#### 1) 파일 쓰기 함수\n",
    "```\n",
    "def saveFile(_fname,_data):\n",
    "    fp=open(_fname,'a')\n",
    "    fp.write(_data+\"\\n\")\n",
    "    fp.close()\n",
    "```\n",
    "#### 2) 함수 호출\n",
    "```\n",
    "_jfname='src/ds_open_subwayTime.json'\n",
    "saveFile(_jfname,_json)\n",
    "```"
   ]
  }
 ],
 "metadata": {
  "kernelspec": {
   "display_name": "Python 3",
   "language": "python",
   "name": "python3"
  },
  "language_info": {
   "codemirror_mode": {
    "name": "ipython",
    "version": 3
   },
   "file_extension": ".py",
   "mimetype": "text/x-python",
   "name": "python",
   "nbconvert_exporter": "python",
   "pygments_lexer": "ipython3",
   "version": "3.6.12"
  },
  "toc": {
   "base_numbering": 1,
   "nav_menu": {},
   "number_sections": false,
   "sideBar": true,
   "skip_h1_title": true,
   "title_cell": "Table of Contents",
   "title_sidebar": "Contents",
   "toc_cell": true,
   "toc_position": {},
   "toc_section_display": true,
   "toc_window_display": true
  }
 },
 "nbformat": 4,
 "nbformat_minor": 5
}
