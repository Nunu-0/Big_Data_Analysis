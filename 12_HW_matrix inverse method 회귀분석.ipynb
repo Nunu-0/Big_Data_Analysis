{
 "cells": [
  {
   "cell_type": "markdown",
   "id": "a986e1ef",
   "metadata": {},
   "source": [
    "# 빅데이터분석(21_2)\n",
    "### 휴먼지능정보공학과 201810793 이연우\n",
    "* 12주차 과제\n",
    "---"
   ]
  },
  {
   "cell_type": "markdown",
   "id": "8150fcc5",
   "metadata": {},
   "source": [
    "# matrix inverse method 회귀분석"
   ]
  },
  {
   "cell_type": "markdown",
   "id": "39e766d0",
   "metadata": {},
   "source": [
    "## 1. matrix inverse method로 계수 계산"
   ]
  },
  {
   "cell_type": "markdown",
   "id": "a90e1ed3",
   "metadata": {},
   "source": [
    "### 1) 데이터"
   ]
  },
  {
   "cell_type": "code",
   "execution_count": 1,
   "id": "2f74288f",
   "metadata": {},
   "outputs": [],
   "source": [
    "import numpy as np\n",
    "x = np.matrix([[1,2],[1,4],[1,6]])\n",
    "y = np.matrix([3,6,7])"
   ]
  },
  {
   "cell_type": "markdown",
   "id": "538b586d",
   "metadata": {},
   "source": [
    "### 2) 계산"
   ]
  },
  {
   "cell_type": "code",
   "execution_count": 2,
   "id": "22cbadaa",
   "metadata": {},
   "outputs": [],
   "source": [
    "xTx = x.T*x\n",
    "xTxI = xTx.I\n",
    "xTyT = x.T*y.T"
   ]
  },
  {
   "cell_type": "code",
   "execution_count": 3,
   "id": "8ae0d181",
   "metadata": {},
   "outputs": [],
   "source": [
    "weights = xTxI*xTyT"
   ]
  },
  {
   "cell_type": "code",
   "execution_count": 4,
   "id": "2d1acafd",
   "metadata": {},
   "outputs": [],
   "source": [
    "w0 = weights.A1[0]\n",
    "w1 = weights.A1[1]"
   ]
  },
  {
   "cell_type": "code",
   "execution_count": 5,
   "id": "f4e9387b",
   "metadata": {},
   "outputs": [
    {
     "data": {
      "text/plain": [
       "'w0:1.3333333333333286 w1:1.0'"
      ]
     },
     "execution_count": 5,
     "metadata": {},
     "output_type": "execute_result"
    }
   ],
   "source": [
    "f\"w0:{w0} w1:{w1}\""
   ]
  },
  {
   "cell_type": "markdown",
   "id": "874d7c1a",
   "metadata": {},
   "source": [
    "## 2. 예측과 실제의 오류 합계 계산"
   ]
  },
  {
   "cell_type": "markdown",
   "id": "aacb57e6",
   "metadata": {},
   "source": [
    "### 1) 예측\n",
    "#### - 항목별 예측 계산"
   ]
  },
  {
   "cell_type": "code",
   "execution_count": 6,
   "id": "ba1a3f7e",
   "metadata": {},
   "outputs": [],
   "source": [
    "x1 = x.A[:,1]"
   ]
  },
  {
   "cell_type": "code",
   "execution_count": 7,
   "id": "ee8ceccf",
   "metadata": {},
   "outputs": [],
   "source": [
    "yhat = w1*x1+w0"
   ]
  },
  {
   "cell_type": "code",
   "execution_count": 8,
   "id": "397d542f",
   "metadata": {},
   "outputs": [
    {
     "data": {
      "text/plain": [
       "'predicted yhat: [3.33333333 5.33333333 7.33333333]'"
      ]
     },
     "execution_count": 8,
     "metadata": {},
     "output_type": "execute_result"
    }
   ],
   "source": [
    "f\"predicted yhat: {yhat}\""
   ]
  },
  {
   "cell_type": "markdown",
   "id": "c5d07fd4",
   "metadata": {},
   "source": [
    "### 2) 오류 계산"
   ]
  },
  {
   "cell_type": "code",
   "execution_count": 9,
   "id": "20dd1e33",
   "metadata": {
    "scrolled": true
   },
   "outputs": [
    {
     "name": "stdout",
     "output_type": "stream",
     "text": [
      "SSE sum of squared errors: 0.6666666666666666\n"
     ]
    }
   ],
   "source": [
    "print(\"SSE sum of squared errors: {}\".format(np.sum(np.power(yhat-y, 2))))"
   ]
  },
  {
   "cell_type": "markdown",
   "id": "b4f3fcb5",
   "metadata": {},
   "source": [
    "## 3. 입력 데이터 & 회귀선 그래프"
   ]
  },
  {
   "cell_type": "code",
   "execution_count": 10,
   "id": "3dbb3c2a",
   "metadata": {},
   "outputs": [],
   "source": [
    "y1 = y.A1"
   ]
  },
  {
   "cell_type": "code",
   "execution_count": 11,
   "id": "deda2edd",
   "metadata": {},
   "outputs": [
    {
     "data": {
      "image/png": "[encoded data removed]",
      "text/plain": [
       "<Figure size 432x288 with 1 Axes>"
      ]
     },
     "metadata": {
      "needs_background": "light"
     },
     "output_type": "display_data"
    }
   ],
   "source": [
    "%matplotlib inline\n",
    "import matplotlib.pyplot as plt\n",
    "\n",
    "plt.plot(x1,yhat,'r-',x1, y1,'bo')\n",
    "plt.show()"
   ]
  }
 ],
 "metadata": {
  "kernelspec": {
   "display_name": "Python 3 (ipykernel)",
   "language": "python",
   "name": "python3"
  },
  "language_info": {
   "codemirror_mode": {
    "name": "ipython",
    "version": 3
   },
   "file_extension": ".py",
   "mimetype": "text/x-python",
   "name": "python",
   "nbconvert_exporter": "python",
   "pygments_lexer": "ipython3",
   "version": "3.8.11"
  },
  "toc": {
   "base_numbering": 1,
   "nav_menu": {},
   "number_sections": false,
   "sideBar": false,
   "skip_h1_title": false,
   "title_cell": "Table of Contents",
   "title_sidebar": "Contents",
   "toc_cell": false,
   "toc_position": {},
   "toc_section_display": false,
   "toc_window_display": false
  }
 },
 "nbformat": 4,
 "nbformat_minor": 5
}
