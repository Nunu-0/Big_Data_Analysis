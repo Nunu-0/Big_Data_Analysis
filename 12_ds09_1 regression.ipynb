{
 "cells": [
  {
   "cell_type": "markdown",
   "id": "932706ff",
   "metadata": {
    "toc": true
   },
   "source": [
    "<h1>Table of Contents<span class=\"tocSkip\"></span></h1>\n",
    "<div class=\"toc\"><ul class=\"toc-item\"><li><span><a href=\"#OLS-계산\" data-toc-modified-id=\"OLS-계산-1\"><span class=\"toc-item-num\">1&nbsp;&nbsp;</span>OLS 계산</a></span><ul class=\"toc-item\"><li><span><a href=\"#데이터-생성\" data-toc-modified-id=\"데이터-생성-1.1\"><span class=\"toc-item-num\">1.1&nbsp;&nbsp;</span>데이터 생성</a></span></li><li><span><a href=\"#그래프\" data-toc-modified-id=\"그래프-1.2\"><span class=\"toc-item-num\">1.2&nbsp;&nbsp;</span>그래프</a></span></li><li><span><a href=\"#선형-회귀식-풀기\" data-toc-modified-id=\"선형-회귀식-풀기-1.3\"><span class=\"toc-item-num\">1.3&nbsp;&nbsp;</span>선형 회귀식 풀기</a></span></li><li><span><a href=\"#Python으로-미분하여-풀기\" data-toc-modified-id=\"Python으로-미분하여-풀기-1.4\"><span class=\"toc-item-num\">1.4&nbsp;&nbsp;</span>Python으로 미분하여 풀기</a></span></li></ul></li><li><span><a href=\"#$R^2$\" data-toc-modified-id=\"$R^2$-2\"><span class=\"toc-item-num\">2&nbsp;&nbsp;</span>$R^2$</a></span><ul class=\"toc-item\"><li><span><a href=\"#데이터\" data-toc-modified-id=\"데이터-2.1\"><span class=\"toc-item-num\">2.1&nbsp;&nbsp;</span>데이터</a></span></li><li><span><a href=\"#numpy-listq\" data-toc-modified-id=\"numpy-listq-2.2\"><span class=\"toc-item-num\">2.2&nbsp;&nbsp;</span>numpy listq</a></span></li><li><span><a href=\"#예측값-계산\" data-toc-modified-id=\"예측값-계산-2.3\"><span class=\"toc-item-num\">2.3&nbsp;&nbsp;</span>예측값 계산</a></span></li><li><span><a href=\"#그래프\" data-toc-modified-id=\"그래프-2.4\"><span class=\"toc-item-num\">2.4&nbsp;&nbsp;</span>그래프</a></span></li><li><span><a href=\"#R-squared-계산\" data-toc-modified-id=\"R-squared-계산-2.5\"><span class=\"toc-item-num\">2.5&nbsp;&nbsp;</span>R squared 계산</a></span></li><li><span><a href=\"#statsmodels로-R-squared\" data-toc-modified-id=\"statsmodels로-R-squared-2.6\"><span class=\"toc-item-num\">2.6&nbsp;&nbsp;</span>statsmodels로 R squared</a></span></li></ul></li><li><span><a href=\"#Matrix-inverse-method-(2번째-방법)\" data-toc-modified-id=\"Matrix-inverse-method-(2번째-방법)-3\"><span class=\"toc-item-num\">3&nbsp;&nbsp;</span>Matrix inverse method (2번째 방법)</a></span><ul class=\"toc-item\"><li><span><a href=\"#데이터\" data-toc-modified-id=\"데이터-3.1\"><span class=\"toc-item-num\">3.1&nbsp;&nbsp;</span>데이터</a></span></li><li><span><a href=\"#identity-matrix\" data-toc-modified-id=\"identity-matrix-3.2\"><span class=\"toc-item-num\">3.2&nbsp;&nbsp;</span>identity matrix</a></span></li></ul></li><li><span><a href=\"#$β-Beta$\" data-toc-modified-id=\"$β-Beta$-4\"><span class=\"toc-item-num\">4&nbsp;&nbsp;</span>$β Beta$</a></span><ul class=\"toc-item\"><li><span><a href=\"#inverse-계산\" data-toc-modified-id=\"inverse-계산-4.1\"><span class=\"toc-item-num\">4.1&nbsp;&nbsp;</span>inverse 계산</a></span></li><li><span><a href=\"#inverse로-beta계산\" data-toc-modified-id=\"inverse로-beta계산-4.2\"><span class=\"toc-item-num\">4.2&nbsp;&nbsp;</span>inverse로 beta계산</a></span></li><li><span><a href=\"#numpy-solve\" data-toc-modified-id=\"numpy-solve-4.3\"><span class=\"toc-item-num\">4.3&nbsp;&nbsp;</span>numpy solve</a></span></li></ul></li><li><span><a href=\"#Matrix-Inverse-Method-회귀모델\" data-toc-modified-id=\"Matrix-Inverse-Method-회귀모델-5\"><span class=\"toc-item-num\">5&nbsp;&nbsp;</span>Matrix Inverse Method 회귀모델</a></span><ul class=\"toc-item\"><li><span><a href=\"#데이터\" data-toc-modified-id=\"데이터-5.1\"><span class=\"toc-item-num\">5.1&nbsp;&nbsp;</span>데이터</a></span></li><li><span><a href=\"#항목별-계산\" data-toc-modified-id=\"항목별-계산-5.2\"><span class=\"toc-item-num\">5.2&nbsp;&nbsp;</span>항목별 계산</a></span><ul class=\"toc-item\"><li><span><a href=\"#$X^TX$-계산\" data-toc-modified-id=\"$X^TX$-계산-5.2.1\"><span class=\"toc-item-num\">5.2.1&nbsp;&nbsp;</span>$X^TX$ 계산</a></span></li><li><span><a href=\"#$(X^TX)^-1$-계산\" data-toc-modified-id=\"$(X^TX)^-1$-계산-5.2.2\"><span class=\"toc-item-num\">5.2.2&nbsp;&nbsp;</span>$(X^TX)^-1$ 계산</a></span></li><li><span><a href=\"#$X^Ty$-계산\" data-toc-modified-id=\"$X^Ty$-계산-5.2.3\"><span class=\"toc-item-num\">5.2.3&nbsp;&nbsp;</span>$X^Ty$ 계산</a></span></li><li><span><a href=\"#$(X^X)^-1X^Ty$-계산\" data-toc-modified-id=\"$(X^X)^-1X^Ty$-계산-5.2.4\"><span class=\"toc-item-num\">5.2.4&nbsp;&nbsp;</span>$(X^X)^-1X^Ty$ 계산</a></span></li><li><span><a href=\"#한-줄로-계산\" data-toc-modified-id=\"한-줄로-계산-5.2.5\"><span class=\"toc-item-num\">5.2.5&nbsp;&nbsp;</span>한 줄로 계산</a></span></li></ul></li><li><span><a href=\"#numpy-최소자승법\" data-toc-modified-id=\"numpy-최소자승법-5.3\"><span class=\"toc-item-num\">5.3&nbsp;&nbsp;</span>numpy 최소자승법</a></span><ul class=\"toc-item\"><li><span><a href=\"#정리하면\" data-toc-modified-id=\"정리하면-5.3.1\"><span class=\"toc-item-num\">5.3.1&nbsp;&nbsp;</span>정리하면</a></span></li></ul></li></ul></li></ul></div>"
   ]
  },
  {
   "cell_type": "markdown",
   "id": "f38ba9f9",
   "metadata": {},
   "source": [
    "# 회귀 분석\n",
    "예측값을 구하는데 그 값에 영향을 미치는 변수들이 있다. \n",
    "- 예측값 : 출력변수 or 목표변수\n",
    "- 영향변수 : 입력변수\n",
    "\n",
    "beta값을 구하는 것이 목표\n",
    "- argmin : 오류를 최소화"
   ]
  },
  {
   "cell_type": "markdown",
   "id": "6cb0bf40",
   "metadata": {},
   "source": [
    "## OLS 계산\n",
    "w값 구하기"
   ]
  },
  {
   "cell_type": "markdown",
   "id": "f9e8b8c8",
   "metadata": {},
   "source": [
    "### 데이터 생성"
   ]
  },
  {
   "cell_type": "code",
   "execution_count": 1,
   "id": "6542b40c",
   "metadata": {},
   "outputs": [],
   "source": [
    "import numpy as np\n",
    "\n",
    "x=np.array([1,2,3,4])\n",
    "y=np.array([6,5,7,10])"
   ]
  },
  {
   "cell_type": "markdown",
   "id": "994a0d56",
   "metadata": {},
   "source": [
    "### 그래프"
   ]
  },
  {
   "cell_type": "code",
   "execution_count": 2,
   "id": "16bf4289",
   "metadata": {},
   "outputs": [
    {
     "data": {
      "text/plain": [
       "<matplotlib.collections.PathCollection at 0x1bdfe5ca310>"
      ]
     },
     "execution_count": 2,
     "metadata": {},
     "output_type": "execute_result"
    },
    {
     "data": {
      "image/png": "[encoded data removed]",
      "text/plain": [
       "<Figure size 432x288 with 1 Axes>"
      ]
     },
     "metadata": {
      "needs_background": "light"
     },
     "output_type": "display_data"
    }
   ],
   "source": [
    "%matplotlib inline\n",
    "import matplotlib.pyplot as plt\n",
    "\n",
    "fig=plt.figure()\n",
    "ax=fig.add_subplot(111)\n",
    "ax.scatter(x,y)"
   ]
  },
  {
   "cell_type": "markdown",
   "id": "10af65af",
   "metadata": {},
   "source": [
    "### 선형 회귀식 풀기\n",
    "미분을 해서 기울기가 0일 때 2차방정식의 최솟값을 구할 수 있다\n",
    "\n",
    "yhat=x*기울기+y절편"
   ]
  },
  {
   "cell_type": "code",
   "execution_count": 3,
   "id": "5b436992",
   "metadata": {},
   "outputs": [],
   "source": [
    "yhat=x*1.4+3.5 # x * beta1 + beta0"
   ]
  },
  {
   "cell_type": "code",
   "execution_count": 4,
   "id": "83e414f5",
   "metadata": {},
   "outputs": [
    {
     "data": {
      "text/plain": [
       "'predicted: [4.9 6.3 7.7 9.1]'"
      ]
     },
     "execution_count": 4,
     "metadata": {},
     "output_type": "execute_result"
    }
   ],
   "source": [
    "f\"predicted: {yhat}\""
   ]
  },
  {
   "cell_type": "code",
   "execution_count": 5,
   "id": "82899730",
   "metadata": {},
   "outputs": [
    {
     "data": {
      "text/plain": [
       "'predicted - actual: [-1.1  1.3  0.7 -0.9]'"
      ]
     },
     "execution_count": 5,
     "metadata": {},
     "output_type": "execute_result"
    }
   ],
   "source": [
    "f\"predicted - actual: {yhat-y}\""
   ]
  },
  {
   "cell_type": "code",
   "execution_count": 6,
   "id": "cf69129e",
   "metadata": {},
   "outputs": [
    {
     "data": {
      "text/plain": [
       "'error: 4.199999999999998'"
      ]
     },
     "execution_count": 6,
     "metadata": {},
     "output_type": "execute_result"
    }
   ],
   "source": [
    "f\"error: {np.sum(np.power(yhat-y,2))}\""
   ]
  },
  {
   "cell_type": "markdown",
   "id": "e87c9961",
   "metadata": {},
   "source": [
    "### Python으로 미분하여 풀기"
   ]
  },
  {
   "cell_type": "code",
   "execution_count": 7,
   "id": "048c4b65",
   "metadata": {},
   "outputs": [],
   "source": [
    "import sympy as sp\n",
    "b0,b1=sp.symbols('b0 b1')"
   ]
  },
  {
   "cell_type": "code",
   "execution_count": 8,
   "id": "87f15adb",
   "metadata": {},
   "outputs": [],
   "source": [
    "f=210 + 4*b0**2 + 30*b1**2 + 20*b0*b1 - 56*b0 - 154*b1"
   ]
  },
  {
   "cell_type": "markdown",
   "id": "d1b3ae2b",
   "metadata": {},
   "source": [
    "`diff()` : 미분"
   ]
  },
  {
   "cell_type": "code",
   "execution_count": 9,
   "id": "2fbc2539",
   "metadata": {},
   "outputs": [],
   "source": [
    "fdiff_b0=sp.diff(f,b0)\n",
    "fdiff_b1=sp.diff(f,b1)"
   ]
  },
  {
   "cell_type": "code",
   "execution_count": 10,
   "id": "40c62b79",
   "metadata": {},
   "outputs": [
    {
     "name": "stdout",
     "output_type": "stream",
     "text": [
      "fdiff with b0: 8*b0 + 20*b1 - 56\n",
      "fdiff with b1: 20*b0 + 60*b1 - 154\n"
     ]
    }
   ],
   "source": [
    "print (\"fdiff with b0: {}\\nfdiff with b1: {}\".format(fdiff_b0, fdiff_b1))"
   ]
  },
  {
   "cell_type": "code",
   "execution_count": 11,
   "id": "3c22d1f7",
   "metadata": {},
   "outputs": [],
   "source": [
    "exp=sp.solve([fdiff_b0, fdiff_b1],[b0,b1])"
   ]
  },
  {
   "cell_type": "markdown",
   "id": "734d19e0",
   "metadata": {},
   "source": [
    "- beta0 = 3.5\n",
    "- beta1 = 1.4"
   ]
  },
  {
   "cell_type": "code",
   "execution_count": 12,
   "id": "902ee76e",
   "metadata": {
    "scrolled": true
   },
   "outputs": [
    {
     "name": "stdout",
     "output_type": "stream",
     "text": [
      "exp={b0: 7/2, b1: 7/5}\n"
     ]
    }
   ],
   "source": [
    "print(\"exp={0}\".format(exp))"
   ]
  },
  {
   "cell_type": "markdown",
   "id": "5bf13029",
   "metadata": {},
   "source": [
    "## $R^2$\n",
    "회귀분석, 종속변수가 분산돼 있음. \n",
    "\n",
    "잔여오류/전체오류"
   ]
  },
  {
   "cell_type": "markdown",
   "id": "18be5fb7",
   "metadata": {},
   "source": [
    "### 데이터"
   ]
  },
  {
   "cell_type": "code",
   "execution_count": 13,
   "id": "258db99a",
   "metadata": {},
   "outputs": [],
   "source": [
    "import numpy as np\n",
    "\n",
    "x=np.arange(0,9)\n",
    "y=np.array([19, 20, 20.5, 21.5, 22, 23, 23, 25.5, 24])"
   ]
  },
  {
   "cell_type": "markdown",
   "id": "9fea8451",
   "metadata": {},
   "source": [
    "절편구하기"
   ]
  },
  {
   "cell_type": "code",
   "execution_count": 14,
   "id": "6b081325",
   "metadata": {},
   "outputs": [],
   "source": [
    "A=np.array([x, np.ones(9)])"
   ]
  },
  {
   "cell_type": "code",
   "execution_count": 15,
   "id": "4c01b516",
   "metadata": {},
   "outputs": [
    {
     "name": "stdout",
     "output_type": "stream",
     "text": [
      "[[0. 1. 2. 3. 4. 5. 6. 7. 8.]\n",
      " [1. 1. 1. 1. 1. 1. 1. 1. 1.]]\n"
     ]
    }
   ],
   "source": [
    "print (A)"
   ]
  },
  {
   "cell_type": "markdown",
   "id": "84497072",
   "metadata": {},
   "source": [
    "### numpy listq\n",
    "`listq()` : w0, w1 계산"
   ]
  },
  {
   "cell_type": "code",
   "execution_count": 16,
   "id": "9c63c0cd",
   "metadata": {},
   "outputs": [],
   "source": [
    "w0, w1=np.linalg.lstsq(A.T, y, rcond=None)[0]"
   ]
  },
  {
   "cell_type": "code",
   "execution_count": 17,
   "id": "7244793e",
   "metadata": {},
   "outputs": [
    {
     "name": "stdout",
     "output_type": "stream",
     "text": [
      "w0: 0.7166666666666667\n",
      "w1: 19.188888888888897\n"
     ]
    }
   ],
   "source": [
    "print (\"w0: {}\\nw1: {}\".format(w0, w1))"
   ]
  },
  {
   "cell_type": "markdown",
   "id": "b1f28c6d",
   "metadata": {},
   "source": [
    "### 예측값 계산"
   ]
  },
  {
   "cell_type": "code",
   "execution_count": 18,
   "id": "bdf888af",
   "metadata": {},
   "outputs": [],
   "source": [
    "yhat=w0*x+w1"
   ]
  },
  {
   "cell_type": "code",
   "execution_count": 19,
   "id": "81e3ed00",
   "metadata": {},
   "outputs": [
    {
     "name": "stdout",
     "output_type": "stream",
     "text": [
      "예측: [19.18888889 19.90555556 20.62222222 21.33888889 22.05555556 22.77222222\n",
      " 23.48888889 24.20555556 24.92222222]\n"
     ]
    }
   ],
   "source": [
    "print (\"예측: {}\".format(yhat))"
   ]
  },
  {
   "cell_type": "markdown",
   "id": "cba60717",
   "metadata": {},
   "source": [
    "### 그래프"
   ]
  },
  {
   "cell_type": "code",
   "execution_count": 20,
   "id": "460f6d5e",
   "metadata": {},
   "outputs": [
    {
     "data": {
      "image/png": "[encoded data removed]",
      "text/plain": [
       "<Figure size 432x288 with 1 Axes>"
      ]
     },
     "metadata": {
      "needs_background": "light"
     },
     "output_type": "display_data"
    }
   ],
   "source": [
    "%matplotlib inline\n",
    "import matplotlib.pyplot as plt\n",
    "plt.plot(x,yhat,'r-',x,y,'bo')\n",
    "plt.show()"
   ]
  },
  {
   "cell_type": "markdown",
   "id": "39ce05ca",
   "metadata": {},
   "source": [
    "### R squared 계산\n",
    "총오류(TSS)와 잔여오류(RSS) 계산"
   ]
  },
  {
   "cell_type": "code",
   "execution_count": 21,
   "id": "696660a4",
   "metadata": {},
   "outputs": [],
   "source": [
    "RSS = sum((y-yhat)**2)\n",
    "TSS = sum((y-np.mean(y))**2)"
   ]
  },
  {
   "cell_type": "code",
   "execution_count": 22,
   "id": "f7c55252",
   "metadata": {},
   "outputs": [],
   "source": [
    "r_squared = 1 - (float(RSS))/TSS"
   ]
  },
  {
   "cell_type": "code",
   "execution_count": 23,
   "id": "f52dd872",
   "metadata": {},
   "outputs": [
    {
     "data": {
      "text/plain": [
       "'r_squared: 0.9138385502471168'"
      ]
     },
     "execution_count": 23,
     "metadata": {},
     "output_type": "execute_result"
    }
   ],
   "source": [
    "f\"r_squared: {r_squared}\""
   ]
  },
  {
   "cell_type": "markdown",
   "id": "795d739d",
   "metadata": {},
   "source": [
    "독립변수의 개수에 따라 과도해질 수도 있으니 보정해주기"
   ]
  },
  {
   "cell_type": "code",
   "execution_count": 24,
   "id": "5d3b12da",
   "metadata": {},
   "outputs": [],
   "source": [
    "adjusted_r_squared = 1 - (1-r_squared)*(len(y)-1)/(len(y)-A.shape[0]-1)   # 0.9015 without -1"
   ]
  },
  {
   "cell_type": "code",
   "execution_count": 25,
   "id": "2cf426ba",
   "metadata": {},
   "outputs": [
    {
     "data": {
      "text/plain": [
       "'adjusted_r_squared: 0.8851180669961557'"
      ]
     },
     "execution_count": 25,
     "metadata": {},
     "output_type": "execute_result"
    }
   ],
   "source": [
    "f\"adjusted_r_squared: {adjusted_r_squared}\""
   ]
  },
  {
   "cell_type": "markdown",
   "id": "1054d975",
   "metadata": {},
   "source": [
    "### statsmodels로 R squared"
   ]
  },
  {
   "cell_type": "code",
   "execution_count": 26,
   "id": "6e63d6fd",
   "metadata": {},
   "outputs": [],
   "source": [
    "import statsmodels.api as sm\n",
    "result = sm.OLS(y, A.T).fit()"
   ]
  },
  {
   "cell_type": "markdown",
   "id": "79a3d504",
   "metadata": {},
   "source": [
    "개수가 적어 warning"
   ]
  },
  {
   "cell_type": "code",
   "execution_count": 27,
   "id": "4972f8c1",
   "metadata": {
    "scrolled": true
   },
   "outputs": [
    {
     "name": "stderr",
     "output_type": "stream",
     "text": [
      "C:\\Users\\Nunu\\anaconda3\\envs\\py3.8\\lib\\site-packages\\scipy\\stats\\stats.py:1541: UserWarning: kurtosistest only valid for n>=20 ... continuing anyway, n=9\n",
      "  warnings.warn(\"kurtosistest only valid for n>=20 ... continuing \"\n"
     ]
    },
    {
     "data": {
      "text/html": [
       "<table class=\"simpletable\">\n",
       "<caption>OLS Regression Results</caption>\n",
       "<tr>\n",
       "  <th>Dep. Variable:</th>            <td>y</td>        <th>  R-squared:         </th> <td>   0.914</td>\n",
       "</tr>\n",
       "<tr>\n",
       "  <th>Model:</th>                   <td>OLS</td>       <th>  Adj. R-squared:    </th> <td>   0.902</td>\n",
       "</tr>\n",
       "<tr>\n",
       "  <th>Method:</th>             <td>Least Squares</td>  <th>  F-statistic:       </th> <td>   74.24</td>\n",
       "</tr>\n",
       "<tr>\n",
       "  <th>Date:</th>             <td>Fri, 17 Dec 2021</td> <th>  Prob (F-statistic):</th> <td>5.66e-05</td>\n",
       "</tr>\n",
       "<tr>\n",
       "  <th>Time:</th>                 <td>22:02:20</td>     <th>  Log-Likelihood:    </th> <td> -7.6827</td>\n",
       "</tr>\n",
       "<tr>\n",
       "  <th>No. Observations:</th>      <td>     9</td>      <th>  AIC:               </th> <td>   19.37</td>\n",
       "</tr>\n",
       "<tr>\n",
       "  <th>Df Residuals:</th>          <td>     7</td>      <th>  BIC:               </th> <td>   19.76</td>\n",
       "</tr>\n",
       "<tr>\n",
       "  <th>Df Model:</th>              <td>     1</td>      <th>                     </th>     <td> </td>   \n",
       "</tr>\n",
       "<tr>\n",
       "  <th>Covariance Type:</th>      <td>nonrobust</td>    <th>                     </th>     <td> </td>   \n",
       "</tr>\n",
       "</table>\n",
       "<table class=\"simpletable\">\n",
       "<tr>\n",
       "    <td></td>       <th>coef</th>     <th>std err</th>      <th>t</th>      <th>P>|t|</th>  <th>[0.025</th>    <th>0.975]</th>  \n",
       "</tr>\n",
       "<tr>\n",
       "  <th>x1</th>    <td>    0.7167</td> <td>    0.083</td> <td>    8.616</td> <td> 0.000</td> <td>    0.520</td> <td>    0.913</td>\n",
       "</tr>\n",
       "<tr>\n",
       "  <th>const</th> <td>   19.1889</td> <td>    0.396</td> <td>   48.458</td> <td> 0.000</td> <td>   18.253</td> <td>   20.125</td>\n",
       "</tr>\n",
       "</table>\n",
       "<table class=\"simpletable\">\n",
       "<tr>\n",
       "  <th>Omnibus:</th>       <td> 4.624</td> <th>  Durbin-Watson:     </th> <td>   3.078</td>\n",
       "</tr>\n",
       "<tr>\n",
       "  <th>Prob(Omnibus):</th> <td> 0.099</td> <th>  Jarque-Bera (JB):  </th> <td>   1.154</td>\n",
       "</tr>\n",
       "<tr>\n",
       "  <th>Skew:</th>          <td> 0.773</td> <th>  Prob(JB):          </th> <td>   0.561</td>\n",
       "</tr>\n",
       "<tr>\n",
       "  <th>Kurtosis:</th>      <td> 3.830</td> <th>  Cond. No.          </th> <td>    9.06</td>\n",
       "</tr>\n",
       "</table><br/><br/>Notes:<br/>[1] Standard Errors assume that the covariance matrix of the errors is correctly specified."
      ],
      "text/plain": [
       "<class 'statsmodels.iolib.summary.Summary'>\n",
       "\"\"\"\n",
       "                            OLS Regression Results                            \n",
       "==============================================================================\n",
       "Dep. Variable:                      y   R-squared:                       0.914\n",
       "Model:                            OLS   Adj. R-squared:                  0.902\n",
       "Method:                 Least Squares   F-statistic:                     74.24\n",
       "Date:                Fri, 17 Dec 2021   Prob (F-statistic):           5.66e-05\n",
       "Time:                        22:02:20   Log-Likelihood:                -7.6827\n",
       "No. Observations:                   9   AIC:                             19.37\n",
       "Df Residuals:                       7   BIC:                             19.76\n",
       "Df Model:                           1                                         \n",
       "Covariance Type:            nonrobust                                         \n",
       "==============================================================================\n",
       "                 coef    std err          t      P>|t|      [0.025      0.975]\n",
       "------------------------------------------------------------------------------\n",
       "x1             0.7167      0.083      8.616      0.000       0.520       0.913\n",
       "const         19.1889      0.396     48.458      0.000      18.253      20.125\n",
       "==============================================================================\n",
       "Omnibus:                        4.624   Durbin-Watson:                   3.078\n",
       "Prob(Omnibus):                  0.099   Jarque-Bera (JB):                1.154\n",
       "Skew:                           0.773   Prob(JB):                        0.561\n",
       "Kurtosis:                       3.830   Cond. No.                         9.06\n",
       "==============================================================================\n",
       "\n",
       "Notes:\n",
       "[1] Standard Errors assume that the covariance matrix of the errors is correctly specified.\n",
       "\"\"\""
      ]
     },
     "execution_count": 27,
     "metadata": {},
     "output_type": "execute_result"
    }
   ],
   "source": [
    "result.summary()"
   ]
  },
  {
   "cell_type": "markdown",
   "id": "b009b553",
   "metadata": {},
   "source": [
    "## Matrix inverse method (2번째 방법)"
   ]
  },
  {
   "cell_type": "markdown",
   "id": "7a288bcd",
   "metadata": {},
   "source": [
    "### 데이터"
   ]
  },
  {
   "cell_type": "code",
   "execution_count": 28,
   "id": "4b3a84ab",
   "metadata": {},
   "outputs": [],
   "source": [
    "import numpy as np\n",
    "\n",
    "y=[8,9]\n",
    "x=[[2,-4],[3,6]]"
   ]
  },
  {
   "cell_type": "code",
   "execution_count": 29,
   "id": "dde59577",
   "metadata": {
    "scrolled": true
   },
   "outputs": [
    {
     "data": {
      "text/plain": [
       "'x: [[2, -4], [3, 6]] y: [8, 9]'"
      ]
     },
     "execution_count": 29,
     "metadata": {},
     "output_type": "execute_result"
    }
   ],
   "source": [
    "f\"x: {x} y: {y}\""
   ]
  },
  {
   "cell_type": "markdown",
   "id": "e3bb399d",
   "metadata": {},
   "source": [
    "자릿수 2까지 출력"
   ]
  },
  {
   "cell_type": "code",
   "execution_count": 30,
   "id": "aab23d5c",
   "metadata": {},
   "outputs": [],
   "source": [
    "np.set_printoptions(precision=2, suppress=True)"
   ]
  },
  {
   "cell_type": "code",
   "execution_count": 31,
   "id": "a7762010",
   "metadata": {},
   "outputs": [
    {
     "name": "stdout",
     "output_type": "stream",
     "text": [
      "x inv:\n",
      "[[ 0.25  0.17]\n",
      " [-0.12  0.08]]\n"
     ]
    }
   ],
   "source": [
    "xI = np.linalg.inv(x) \n",
    "print(\"x inv:\\n{}\".format(xI))"
   ]
  },
  {
   "cell_type": "markdown",
   "id": "08189ed1",
   "metadata": {},
   "source": [
    "### identity matrix\n",
    "단위 행렬, 행렬 x 역행렬 = 1"
   ]
  },
  {
   "cell_type": "code",
   "execution_count": 32,
   "id": "00a09f47",
   "metadata": {},
   "outputs": [
    {
     "name": "stdout",
     "output_type": "stream",
     "text": [
      "identity matrix 'x * xI':\n",
      "[[1. 0.]\n",
      " [0. 1.]]\n"
     ]
    }
   ],
   "source": [
    "print (\"identity matrix 'x * xI':\\n{}\".format(np.dot(x,xI)))"
   ]
  },
  {
   "cell_type": "markdown",
   "id": "137eb2c0",
   "metadata": {},
   "source": [
    "`np.eye()`로도 구할 수 있음"
   ]
  },
  {
   "cell_type": "code",
   "execution_count": 33,
   "id": "249f1d81",
   "metadata": {},
   "outputs": [
    {
     "data": {
      "text/plain": [
       "array([[1., 0.],\n",
       "       [0., 1.]])"
      ]
     },
     "execution_count": 33,
     "metadata": {},
     "output_type": "execute_result"
    }
   ],
   "source": [
    "np.eye(2)"
   ]
  },
  {
   "cell_type": "code",
   "execution_count": 34,
   "id": "285e8712",
   "metadata": {},
   "outputs": [
    {
     "data": {
      "text/plain": [
       "array([[ True,  True],\n",
       "       [ True,  True]])"
      ]
     },
     "execution_count": 34,
     "metadata": {},
     "output_type": "execute_result"
    }
   ],
   "source": [
    "np.eye(2) == np.dot(x,xI)"
   ]
  },
  {
   "cell_type": "markdown",
   "id": "1ecbf908",
   "metadata": {},
   "source": [
    "## $β Beta$"
   ]
  },
  {
   "cell_type": "markdown",
   "id": "937fb3b3",
   "metadata": {},
   "source": [
    "### inverse 계산"
   ]
  },
  {
   "cell_type": "code",
   "execution_count": 35,
   "id": "c6492b18",
   "metadata": {},
   "outputs": [],
   "source": [
    "# matrix inverse\n",
    "v=np.array([[2,3],[4,5]])\n",
    "vI=np.linalg.inv(v)"
   ]
  },
  {
   "cell_type": "code",
   "execution_count": 36,
   "id": "02fc598f",
   "metadata": {},
   "outputs": [
    {
     "name": "stdout",
     "output_type": "stream",
     "text": [
      "v=\n",
      "[[2 3]\n",
      " [4 5]]\n",
      "v.I=\n",
      "[[-2.5  1.5]\n",
      " [ 2.  -1. ]]\n"
     ]
    }
   ],
   "source": [
    "print (\"v=\\n{0}\\nv.I=\\n{1}\".format(v,vI)) #([[-2.5, 1.5], [ 2. , -1. ]])"
   ]
  },
  {
   "cell_type": "code",
   "execution_count": 37,
   "id": "23ccfdff",
   "metadata": {},
   "outputs": [
    {
     "data": {
      "text/plain": [
       "'[-2.5  1.5  2.  -1. ]'"
      ]
     },
     "execution_count": 37,
     "metadata": {},
     "output_type": "execute_result"
    }
   ],
   "source": [
    "left=1./(2*5-3*4)\n",
    "right=np.array([5,-3,-4,2])\n",
    "f\"{left*right}\" #([-2.5,  1.5,  2. , -1. ])"
   ]
  },
  {
   "cell_type": "markdown",
   "id": "8d00a5d9",
   "metadata": {},
   "source": [
    "### inverse로 beta계산"
   ]
  },
  {
   "cell_type": "code",
   "execution_count": 38,
   "id": "dc87f0cf",
   "metadata": {},
   "outputs": [],
   "source": [
    "import numpy as np\n",
    "\n",
    "x=np.array([[2,-4],[3,6]])\n",
    "y=np.array([8,9])"
   ]
  },
  {
   "cell_type": "code",
   "execution_count": 39,
   "id": "fdef18fe",
   "metadata": {},
   "outputs": [],
   "source": [
    "xI=np.linalg.inv(x)"
   ]
  },
  {
   "cell_type": "code",
   "execution_count": 40,
   "id": "d0845ec8",
   "metadata": {},
   "outputs": [
    {
     "name": "stdout",
     "output_type": "stream",
     "text": [
      "3.5 -0.25\n"
     ]
    }
   ],
   "source": [
    "w1,w2=np.dot(xI,y)\n",
    "print(w1,w2)"
   ]
  },
  {
   "cell_type": "code",
   "execution_count": 41,
   "id": "1a0ff37e",
   "metadata": {},
   "outputs": [
    {
     "data": {
      "text/plain": [
       "'8.0'"
      ]
     },
     "execution_count": 41,
     "metadata": {},
     "output_type": "execute_result"
    }
   ],
   "source": [
    "f\"{2*w1+(-4)*w2}\""
   ]
  },
  {
   "cell_type": "code",
   "execution_count": 42,
   "id": "8853f01d",
   "metadata": {},
   "outputs": [
    {
     "data": {
      "text/plain": [
       "'9.0'"
      ]
     },
     "execution_count": 42,
     "metadata": {},
     "output_type": "execute_result"
    }
   ],
   "source": [
    "f\"{3*w1+6*w2}\""
   ]
  },
  {
   "cell_type": "markdown",
   "id": "430dea62",
   "metadata": {},
   "source": [
    "### numpy solve\n",
    "선형 벡터 식 풀기"
   ]
  },
  {
   "cell_type": "code",
   "execution_count": 43,
   "id": "4ac01b6f",
   "metadata": {},
   "outputs": [
    {
     "data": {
      "text/plain": [
       "array([ 3.5 , -0.25])"
      ]
     },
     "execution_count": 43,
     "metadata": {},
     "output_type": "execute_result"
    }
   ],
   "source": [
    "np.linalg.solve(x,y)"
   ]
  },
  {
   "cell_type": "markdown",
   "id": "64e17d3d",
   "metadata": {},
   "source": [
    "## Matrix Inverse Method 회귀모델"
   ]
  },
  {
   "cell_type": "markdown",
   "id": "9b2a897e",
   "metadata": {},
   "source": [
    "### 데이터"
   ]
  },
  {
   "cell_type": "code",
   "execution_count": 44,
   "id": "bba4feb8",
   "metadata": {},
   "outputs": [],
   "source": [
    "import numpy as np\n",
    "\n",
    "x=np.array([1,2,3,4])\n",
    "y=np.array([6,5,7,10])"
   ]
  },
  {
   "cell_type": "code",
   "execution_count": 45,
   "id": "01559c96",
   "metadata": {},
   "outputs": [],
   "source": [
    "x=np.array([x, np.ones(len(x))])\n",
    "x=x.T"
   ]
  },
  {
   "cell_type": "code",
   "execution_count": 46,
   "id": "d51b3b6f",
   "metadata": {},
   "outputs": [
    {
     "name": "stdout",
     "output_type": "stream",
     "text": [
      "[[1. 1.]\n",
      " [2. 1.]\n",
      " [3. 1.]\n",
      " [4. 1.]]\n"
     ]
    }
   ],
   "source": [
    "print(x)"
   ]
  },
  {
   "cell_type": "markdown",
   "id": "723daf75",
   "metadata": {},
   "source": [
    "###  항목별 계산"
   ]
  },
  {
   "cell_type": "markdown",
   "id": "74fc7995",
   "metadata": {},
   "source": [
    "#### $X^TX$ 계산"
   ]
  },
  {
   "cell_type": "code",
   "execution_count": 47,
   "id": "be4176f1",
   "metadata": {},
   "outputs": [
    {
     "data": {
      "text/plain": [
       "'x shape: (4, 2) xT shape:(2, 4)'"
      ]
     },
     "execution_count": 47,
     "metadata": {},
     "output_type": "execute_result"
    }
   ],
   "source": [
    "f\"x shape: {x.shape} xT shape:{x.T.shape}\""
   ]
  },
  {
   "cell_type": "code",
   "execution_count": 48,
   "id": "2fd7e3cd",
   "metadata": {},
   "outputs": [
    {
     "data": {
      "text/plain": [
       "array([[ 2.,  3.,  4.,  5.],\n",
       "       [ 3.,  5.,  7.,  9.],\n",
       "       [ 4.,  7., 10., 13.],\n",
       "       [ 5.,  9., 13., 17.]])"
      ]
     },
     "execution_count": 48,
     "metadata": {},
     "output_type": "execute_result"
    }
   ],
   "source": [
    "np.dot(x,x.T)"
   ]
  },
  {
   "cell_type": "markdown",
   "id": "a6d43179",
   "metadata": {},
   "source": [
    "singular matrix는 inverse()를 할 수 없다"
   ]
  },
  {
   "cell_type": "code",
   "execution_count": 49,
   "id": "b4540e6e",
   "metadata": {},
   "outputs": [
    {
     "name": "stdout",
     "output_type": "stream",
     "text": [
      "xTx= [[30. 10.]\n",
      " [10.  4.]]\n"
     ]
    }
   ],
   "source": [
    "xTx=np.dot(x.T,x)\n",
    "print(\"xTx=\",xTx)"
   ]
  },
  {
   "cell_type": "markdown",
   "id": "0d240311",
   "metadata": {},
   "source": [
    "#### $(X^TX)^-1$ 계산"
   ]
  },
  {
   "cell_type": "code",
   "execution_count": 50,
   "id": "362b2543",
   "metadata": {},
   "outputs": [
    {
     "name": "stdout",
     "output_type": "stream",
     "text": [
      "xTxI= [[ 0.2 -0.5]\n",
      " [-0.5  1.5]]\n"
     ]
    }
   ],
   "source": [
    "xTxI=np.linalg.inv(xTx)\n",
    "print(\"xTxI=\",xTxI)"
   ]
  },
  {
   "cell_type": "markdown",
   "id": "c00a099e",
   "metadata": {},
   "source": [
    "#### $X^Ty$ 계산"
   ]
  },
  {
   "cell_type": "code",
   "execution_count": 51,
   "id": "ec34ef34",
   "metadata": {},
   "outputs": [
    {
     "name": "stdout",
     "output_type": "stream",
     "text": [
      "xTyT= [77. 28.]\n"
     ]
    }
   ],
   "source": [
    "xTyT=np.dot(x.T,y)\n",
    "print(\"xTyT=\",xTyT)"
   ]
  },
  {
   "cell_type": "markdown",
   "id": "05ce18fb",
   "metadata": {},
   "source": [
    "#### $(X^X)^-1X^Ty$ 계산"
   ]
  },
  {
   "cell_type": "code",
   "execution_count": 52,
   "id": "303357f9",
   "metadata": {},
   "outputs": [
    {
     "name": "stdout",
     "output_type": "stream",
     "text": [
      "weights= [1.4 3.5]\n"
     ]
    }
   ],
   "source": [
    "print(\"weights=\",np.dot(xTxI,xTyT))"
   ]
  },
  {
   "cell_type": "markdown",
   "id": "d5639d0c",
   "metadata": {},
   "source": [
    "#### 한 줄로 계산"
   ]
  },
  {
   "cell_type": "code",
   "execution_count": 53,
   "id": "48f5417d",
   "metadata": {},
   "outputs": [],
   "source": [
    "w1, w0=np.dot(np.linalg.inv(np.dot(x.T, x)), np.dot(x.T, y))"
   ]
  },
  {
   "cell_type": "code",
   "execution_count": 54,
   "id": "3a241204",
   "metadata": {},
   "outputs": [
    {
     "data": {
      "text/plain": [
       "(3.499999999999993, 1.4000000000000021)"
      ]
     },
     "execution_count": 54,
     "metadata": {},
     "output_type": "execute_result"
    }
   ],
   "source": [
    "w0, w1"
   ]
  },
  {
   "cell_type": "markdown",
   "id": "f45d47ba",
   "metadata": {},
   "source": [
    "### numpy 최소자승법"
   ]
  },
  {
   "cell_type": "code",
   "execution_count": 55,
   "id": "ea4a29ba",
   "metadata": {},
   "outputs": [
    {
     "name": "stdout",
     "output_type": "stream",
     "text": [
      "numpy lstsq:  (array([1.4, 3.5]), array([4.2]), 2, array([5.78, 0.77]))\n"
     ]
    }
   ],
   "source": [
    "np.warnings.filterwarnings('ignore')   #suppress numpy warnings\n",
    "print(\"numpy lstsq: \",np.linalg.lstsq(x,y))"
   ]
  },
  {
   "cell_type": "code",
   "execution_count": 56,
   "id": "a102fb03",
   "metadata": {},
   "outputs": [
    {
     "name": "stdout",
     "output_type": "stream",
     "text": [
      "w1= 1.4000000000000006 \n",
      "w0= 3.499999999999998\n"
     ]
    }
   ],
   "source": [
    "np.set_printoptions(formatter={'float': '{: 0.2f}'.format})\n",
    "w1,w0=np.linalg.lstsq(x,y)[0]\n",
    "print(\"w1=\",w1,\"\\nw0=\",w0)"
   ]
  },
  {
   "cell_type": "markdown",
   "id": "ae4ad7d1",
   "metadata": {},
   "source": [
    "#### 정리하면"
   ]
  },
  {
   "cell_type": "code",
   "execution_count": 57,
   "id": "805a32b8",
   "metadata": {},
   "outputs": [
    {
     "data": {
      "text/plain": [
       "[<matplotlib.lines.Line2D at 0x1bd92764cd0>]"
      ]
     },
     "execution_count": 57,
     "metadata": {},
     "output_type": "execute_result"
    },
    {
     "data": {
      "image/png": "[encoded data removed]",
      "text/plain": [
       "<Figure size 432x288 with 1 Axes>"
      ]
     },
     "metadata": {
      "needs_background": "light"
     },
     "output_type": "display_data"
    }
   ],
   "source": [
    "%matplotlib inline\n",
    "import matplotlib.pyplot as plt\n",
    "import numpy as np\n",
    "\n",
    "# (1) data ready\n",
    "x=np.array([1,2,3,4])\n",
    "y=np.array([6,5,7,10])\n",
    "_x=np.array([x,np.ones(len(x))]) # shape (2,4)\n",
    "# (2) change (2,4) -> (4,2), so x0:1,2,3,4 x1:1,1,1,1\n",
    "# w0 for x0, w1 for x1\n",
    "_x=_x.T # shape (4,2)\n",
    "# (3) compute w\n",
    "#w1,w0=np.linalg.lstsq(_x, y, rcond=None)[0]\n",
    "w1, w0=np.dot(np.linalg.inv(np.dot(_x.T, _x)), np.dot(_x.T, y)) #1.4 3.5\n",
    "# (4) predicted\n",
    "yhat=w0+w1*x\n",
    "# (5) graph\n",
    "fig=plt.figure()\n",
    "ax=fig.add_subplot(111)\n",
    "ax.scatter(x,y)\n",
    "ax.plot(x,yhat)"
   ]
  },
  {
   "cell_type": "code",
   "execution_count": null,
   "id": "b33ac88a",
   "metadata": {},
   "outputs": [],
   "source": []
  }
 ],
 "metadata": {
  "kernelspec": {
   "display_name": "Python 3 (ipykernel)",
   "language": "python",
   "name": "python3"
  },
  "language_info": {
   "codemirror_mode": {
    "name": "ipython",
    "version": 3
   },
   "file_extension": ".py",
   "mimetype": "text/x-python",
   "name": "python",
   "nbconvert_exporter": "python",
   "pygments_lexer": "ipython3",
   "version": "3.8.11"
  },
  "toc": {
   "base_numbering": 1,
   "nav_menu": {},
   "number_sections": true,
   "sideBar": true,
   "skip_h1_title": true,
   "title_cell": "Table of Contents",
   "title_sidebar": "Contents",
   "toc_cell": true,
   "toc_position": {},
   "toc_section_display": true,
   "toc_window_display": false
  }
 },
 "nbformat": 4,
 "nbformat_minor": 5
}
