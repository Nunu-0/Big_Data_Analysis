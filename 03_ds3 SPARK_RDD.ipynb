{
 "cells": [
  {
   "cell_type": "markdown",
   "id": "1353a4b4",
   "metadata": {
    "toc": true
   },
   "source": [
    "<h1>Table of Contents<span class=\"tocSkip\"></span></h1>\n",
    "<div class=\"toc\"><ul class=\"toc-item\"><li><span><a href=\"#SparkSession-생성\" data-toc-modified-id=\"SparkSession-생성-1\"><span class=\"toc-item-num\">1&nbsp;&nbsp;</span>SparkSession 생성</a></span></li><li><span><a href=\"#List에서-RDD-생성하기\" data-toc-modified-id=\"List에서-RDD-생성하기-2\"><span class=\"toc-item-num\">2&nbsp;&nbsp;</span>List에서 RDD 생성하기</a></span></li><li><span><a href=\"#파일에서-RDD-생성하기\" data-toc-modified-id=\"파일에서-RDD-생성하기-3\"><span class=\"toc-item-num\">3&nbsp;&nbsp;</span>파일에서 RDD 생성하기</a></span><ul class=\"toc-item\"><li><span><a href=\"#RDD와-Spark-Dataframe을-만드는-함수는-다르다\" data-toc-modified-id=\"RDD와-Spark-Dataframe을-만드는-함수는-다르다-3.1\"><span class=\"toc-item-num\">3.1&nbsp;&nbsp;</span>RDD와 Spark Dataframe을 만드는 함수는 다르다</a></span></li></ul></li><li><span><a href=\"#CSV에서-RDD-생성\" data-toc-modified-id=\"CSV에서-RDD-생성-4\"><span class=\"toc-item-num\">4&nbsp;&nbsp;</span>CSV에서 RDD 생성</a></span></li></ul></div>"
   ]
  },
  {
   "cell_type": "markdown",
   "id": "3d4a2b01",
   "metadata": {},
   "source": [
    "## SparkSession 생성\n",
    "클라이언트 실행\n",
    "* local = spark를 로컬에서 실행\n",
    "* appName = 앱이름"
   ]
  },
  {
   "cell_type": "code",
   "execution_count": 1,
   "id": "fc3f7512",
   "metadata": {},
   "outputs": [],
   "source": [
    "import pyspark\n",
    "myConf=pyspark.SparkConf()\n",
    "spark = pyspark.sql.SparkSession\\\n",
    "    .builder\\\n",
    "    .master(\"local\")\\\n",
    "    .appName(\"myApp\")\\\n",
    "    .config(conf=myConf)\\\n",
    "    .getOrCreate()"
   ]
  },
  {
   "cell_type": "code",
   "execution_count": 2,
   "id": "4e7e2ddd",
   "metadata": {
    "scrolled": true
   },
   "outputs": [
    {
     "name": "stdout",
     "output_type": "stream",
     "text": [
      "Spark version \t: 3.0.3\n",
      "Spark App \t: myApp\n",
      "Spark Master \t: local\n",
      "Spark Host \t: DESKTOP-7TC72N3\n"
     ]
    }
   ],
   "source": [
    "print (\"Spark version \\t: {}\".format(spark.version))\n",
    "print (\"Spark App \\t: {}\".format(spark.conf.get('spark.app.name')))\n",
    "print (\"Spark Master \\t: {}\".format(spark.conf.get('spark.master')))\n",
    "print (\"Spark Host \\t: {}\".format(spark.conf.get('spark.driver.host')))"
   ]
  },
  {
   "cell_type": "markdown",
   "id": "91b5dbcd",
   "metadata": {},
   "source": [
    "- user working directory"
   ]
  },
  {
   "cell_type": "code",
   "execution_count": 4,
   "id": "b2fca5db",
   "metadata": {
    "scrolled": true
   },
   "outputs": [
    {
     "data": {
      "text/plain": [
       "'file:/C:/Users/Nunu/BigData/spark-warehouse'"
      ]
     },
     "execution_count": 4,
     "metadata": {},
     "output_type": "execute_result"
    }
   ],
   "source": [
    "spark.conf.get('spark.sql.warehouse.dir')"
   ]
  },
  {
   "cell_type": "markdown",
   "id": "adea90fe",
   "metadata": {},
   "source": [
    "- 모든 설정"
   ]
  },
  {
   "cell_type": "code",
   "execution_count": 5,
   "id": "2aa2e116",
   "metadata": {},
   "outputs": [
    {
     "data": {
      "text/plain": [
       "[('spark.master', 'local'),\n",
       " ('spark.driver.host', 'DESKTOP-7TC72N3'),\n",
       " ('spark.app.name', 'myApp'),\n",
       " ('spark.app.id', 'local-1634282701319'),\n",
       " ('spark.rdd.compress', 'True'),\n",
       " ('spark.serializer.objectStreamReset', '100'),\n",
       " ('spark.submit.pyFiles', ''),\n",
       " ('spark.app.startTime', '1634282697259'),\n",
       " ('spark.driver.port', '59856'),\n",
       " ('spark.executor.id', 'driver'),\n",
       " ('spark.submit.deployMode', 'client'),\n",
       " ('spark.ui.showConsoleProgress', 'true')]"
      ]
     },
     "execution_count": 5,
     "metadata": {},
     "output_type": "execute_result"
    }
   ],
   "source": [
    "spark.sparkContext.getConf().getAll()"
   ]
  },
  {
   "cell_type": "code",
   "execution_count": 6,
   "id": "bed72fdf",
   "metadata": {},
   "outputs": [
    {
     "data": {
      "text/plain": [
       "[('spark.master', 'local'),\n",
       " ('spark.driver.host', 'DESKTOP-7TC72N3'),\n",
       " ('spark.app.name', 'myApp'),\n",
       " ('spark.app.id', 'local-1634282701319'),\n",
       " ('spark.rdd.compress', 'True'),\n",
       " ('spark.serializer.objectStreamReset', '100'),\n",
       " ('spark.submit.pyFiles', ''),\n",
       " ('spark.app.startTime', '1634282697259'),\n",
       " ('spark.driver.port', '59856'),\n",
       " ('spark.executor.id', 'driver'),\n",
       " ('spark.submit.deployMode', 'client'),\n",
       " ('spark.ui.showConsoleProgress', 'true')]"
      ]
     },
     "execution_count": 6,
     "metadata": {},
     "output_type": "execute_result"
    }
   ],
   "source": [
    "spark.sparkContext._conf.getAll()"
   ]
  },
  {
   "cell_type": "markdown",
   "id": "431d51b1",
   "metadata": {},
   "source": [
    "- 설정 변경\n",
    "SparkSession 을 만들고 난 후에 SparkContext를 경유해 `spark.sparkContext._conf.set()` 함수로 설정 변경 가능 "
   ]
  },
  {
   "cell_type": "code",
   "execution_count": 7,
   "id": "655b8ef3",
   "metadata": {},
   "outputs": [
    {
     "data": {
      "text/plain": [
       "<pyspark.conf.SparkConf at 0x29e930be0d0>"
      ]
     },
     "execution_count": 7,
     "metadata": {},
     "output_type": "execute_result"
    }
   ],
   "source": [
    "spark.sparkContext._conf.set(\"spark.driver.bindAddress\", \"127.0.0.1\")"
   ]
  },
  {
   "cell_type": "code",
   "execution_count": 8,
   "id": "7a8760b0",
   "metadata": {},
   "outputs": [
    {
     "data": {
      "text/plain": [
       "<pyspark.conf.SparkConf at 0x29e930be0d0>"
      ]
     },
     "execution_count": 8,
     "metadata": {},
     "output_type": "execute_result"
    }
   ],
   "source": [
    "spark.sparkContext._conf.set(\"spark.executor.memory\", '8g')\n",
    "spark.sparkContext._conf.set('spark.app.name', 'yanu')\n",
    "spark.sparkContext._conf.set('spark.executor.cores', '3')\n",
    "spark.sparkContext._conf.set('spark.cores.max', '3')\n",
    "spark.sparkContext._conf.set(\"spark.driver.memory\",'8g')"
   ]
  },
  {
   "cell_type": "code",
   "execution_count": 9,
   "id": "f36abf2e",
   "metadata": {
    "scrolled": true
   },
   "outputs": [
    {
     "data": {
      "text/plain": [
       "[('spark.master', 'local'),\n",
       " ('spark.app.name', 'yanu'),\n",
       " ('spark.driver.host', 'DESKTOP-7TC72N3'),\n",
       " ('spark.app.id', 'local-1634282701319'),\n",
       " ('spark.executor.id', 'driver'),\n",
       " ('spark.driver.port', '59856'),\n",
       " ('spark.cores.max', '3'),\n",
       " ('spark.driver.bindAddress', '127.0.0.1'),\n",
       " ('spark.rdd.compress', 'True'),\n",
       " ('spark.driver.memory', '8g'),\n",
       " ('spark.serializer.objectStreamReset', '100'),\n",
       " ('spark.executor.memory', '8g'),\n",
       " ('spark.submit.pyFiles', ''),\n",
       " ('spark.app.startTime', '1634282697259'),\n",
       " ('spark.executor.cores', '3'),\n",
       " ('spark.submit.deployMode', 'client'),\n",
       " ('spark.ui.showConsoleProgress', 'true')]"
      ]
     },
     "execution_count": 9,
     "metadata": {},
     "output_type": "execute_result"
    }
   ],
   "source": [
    "spark.sparkContext._conf.getAll()"
   ]
  },
  {
   "cell_type": "markdown",
   "id": "a7bc7647",
   "metadata": {},
   "source": [
    "## List에서 RDD 생성하기\n",
    "`sparkContext.paralleslize()`함수를 이용하여 List에서 RDD를 생성할 수 있다."
   ]
  },
  {
   "cell_type": "code",
   "execution_count": 12,
   "id": "b76662d5",
   "metadata": {},
   "outputs": [
    {
     "data": {
      "text/plain": [
       "[1, 2, 3]"
      ]
     },
     "execution_count": 12,
     "metadata": {},
     "output_type": "execute_result"
    }
   ],
   "source": [
    "import pyspark\n",
    "from pyspark import SparkConf, SparkContext\n",
    "myList=[1,2,3,4,5,6,7]\n",
    "myRdd1 = spark.sparkContext.parallelize(myList)\n",
    "\n",
    "myRdd1.take(3)"
   ]
  },
  {
   "cell_type": "markdown",
   "id": "b8ddf46c",
   "metadata": {},
   "source": [
    "* `parallelize([0, 2, 3, 4, 6], 2)` : slice의 개수를 정할 수 있다.\n",
    "* `glom()` : partition에 있는 요소를 묶어 RDD를 만들어 준다  "
   ]
  },
  {
   "cell_type": "code",
   "execution_count": 14,
   "id": "1bfce415",
   "metadata": {},
   "outputs": [
    {
     "data": {
      "text/plain": [
       "[0, 2, 3, 4, 6]"
      ]
     },
     "execution_count": 14,
     "metadata": {},
     "output_type": "execute_result"
    }
   ],
   "source": [
    "spark.sparkContext.parallelize([0, 2, 3, 4, 6], 2).collect()"
   ]
  },
  {
   "cell_type": "markdown",
   "id": "7b6c78f2",
   "metadata": {},
   "source": [
    "2개로 분할"
   ]
  },
  {
   "cell_type": "code",
   "execution_count": 15,
   "id": "cdcdd6e3",
   "metadata": {
    "scrolled": true
   },
   "outputs": [
    {
     "data": {
      "text/plain": [
       "[[1, 2, 3], [4, 5, 6, 7]]"
      ]
     },
     "execution_count": 15,
     "metadata": {},
     "output_type": "execute_result"
    }
   ],
   "source": [
    "spark.sparkContext.parallelize([1,2,3,4,5,6,7], 2).glom().collect()"
   ]
  },
  {
   "cell_type": "markdown",
   "id": "56cf7019",
   "metadata": {},
   "source": [
    "## 파일에서 RDD 생성하기\n",
    "wikipedia에서 Apache spark를 검색한 문단 일부분"
   ]
  },
  {
   "cell_type": "code",
   "execution_count": 16,
   "id": "f91e0a3a",
   "metadata": {
    "scrolled": true
   },
   "outputs": [
    {
     "name": "stdout",
     "output_type": "stream",
     "text": [
      "Overwriting data/ds_spark_wiki.txt\n"
     ]
    }
   ],
   "source": [
    "%%writefile data/ds_spark_wiki.txt\n",
    "Wikipedia\n",
    "Apache Spark is an open source cluster computing framework.\n",
    "아파치 스파크는 오픈 소스 클러스터 컴퓨팅 프레임워크이다.\n",
    "Apache Spark Apache Spark Apache Spark Apache Spark\n",
    "아파치 스파크 아파치 스파크 아파치 스파크 아파치 스파크\n",
    "Originally developed at the University of California, Berkeley's AMPLab,\n",
    "the Spark codebase was later donated to the Apache Software Foundation,\n",
    "which has maintained it since.\n",
    "Spark provides an interface for programming entire clusters with\n",
    "implicit data parallelism and fault-tolerance."
   ]
  },
  {
   "cell_type": "markdown",
   "id": "14acf4a2",
   "metadata": {},
   "source": [
    "* List와 같이 SparkContext를 사용\n",
    "* `textFile()` 함수 인자로 파일명을 넣는다"
   ]
  },
  {
   "cell_type": "code",
   "execution_count": 17,
   "id": "78a3e5a0",
   "metadata": {},
   "outputs": [],
   "source": [
    "import os\n",
    "myRdd2=spark.sparkContext\\\n",
    "    .textFile(os.path.join(\"data\",\"ds_spark_wiki.txt\"))"
   ]
  },
  {
   "cell_type": "markdown",
   "id": "d8222698",
   "metadata": {},
   "source": [
    "* `first()` == `take(1)`\n",
    "\n",
    "first()는 내부적으로 take(1)를 사용"
   ]
  },
  {
   "cell_type": "code",
   "execution_count": 16,
   "id": "81793269",
   "metadata": {
    "scrolled": true
   },
   "outputs": [
    {
     "data": {
      "text/plain": [
       "'Wikipedia'"
      ]
     },
     "execution_count": 16,
     "metadata": {},
     "output_type": "execute_result"
    }
   ],
   "source": [
    "myRdd2.first()"
   ]
  },
  {
   "cell_type": "markdown",
   "id": "95b26803",
   "metadata": {},
   "source": [
    "### RDD와 Spark Dataframe을 만드는 함수는 다르다\n",
    "* `SparkSession.sparkContext.textFile()` : 'SparkContext'를 사용하므로 RDD를 생성\n",
    "* `SparkSession.read.text()` : DataFrame을 생성"
   ]
  },
  {
   "cell_type": "code",
   "execution_count": 18,
   "id": "e7eb2cd4",
   "metadata": {},
   "outputs": [
    {
     "name": "stdout",
     "output_type": "stream",
     "text": [
      "Row(value='Wikipedia')\n"
     ]
    }
   ],
   "source": [
    "import os\n",
    "myDf=spark.read.text(os.path.join(\"data\", \"ds_spark_wiki.txt\"))\n",
    "print (myDf.first())"
   ]
  },
  {
   "cell_type": "code",
   "execution_count": 19,
   "id": "30e4c37c",
   "metadata": {},
   "outputs": [
    {
     "name": "stdout",
     "output_type": "stream",
     "text": [
      "<class 'pyspark.sql.dataframe.DataFrame'>\n"
     ]
    }
   ],
   "source": [
    "print (type(myDf))"
   ]
  },
  {
   "cell_type": "markdown",
   "id": "30cd36f9",
   "metadata": {},
   "source": [
    "## CSV에서 RDD 생성\n",
    "csv 파일은 컴마로 구분된 데이터를 저장하고 있다"
   ]
  },
  {
   "cell_type": "code",
   "execution_count": 20,
   "id": "e4dd383e",
   "metadata": {},
   "outputs": [
    {
     "name": "stdout",
     "output_type": "stream",
     "text": [
      "Overwriting ./data/ds_spark_2cols.csv\n"
     ]
    }
   ],
   "source": [
    "%%writefile ./data/ds_spark_2cols.csv\n",
    "35, 2\n",
    "40, 27\n",
    "12, 38\n",
    "15, 31\n",
    "21, 1\n",
    "14, 19\n",
    "46, 1\n",
    "10, 34\n",
    "28, 3\n",
    "48, 1\n",
    "16, 2\n",
    "30, 3\n",
    "32, 2\n",
    "48, 1\n",
    "31, 2\n",
    "22, 1\n",
    "12, 3\n",
    "39, 29\n",
    "19, 37\n",
    "25, 2"
   ]
  },
  {
   "cell_type": "code",
   "execution_count": 21,
   "id": "a9aad5dd",
   "metadata": {},
   "outputs": [],
   "source": [
    "myRdd4 = spark.sparkContext\\\n",
    "    .textFile(os.path.join(\"data\",\"ds_spark_2cols.csv\"))"
   ]
  },
  {
   "cell_type": "markdown",
   "id": "71e8de82",
   "metadata": {},
   "source": [
    "- `take()`를 하면 결과는 리스트가 된다"
   ]
  },
  {
   "cell_type": "code",
   "execution_count": 22,
   "id": "e9e41971",
   "metadata": {},
   "outputs": [
    {
     "name": "stdout",
     "output_type": "stream",
     "text": [
      "<class 'list'>\n"
     ]
    }
   ],
   "source": [
    "myList=myRdd4.take(5)\n",
    "print (type(myList))"
   ]
  }
 ],
 "metadata": {
  "kernelspec": {
   "display_name": "Python 3 (ipykernel)",
   "language": "python",
   "name": "python3"
  },
  "language_info": {
   "codemirror_mode": {
    "name": "ipython",
    "version": 3
   },
   "file_extension": ".py",
   "mimetype": "text/x-python",
   "name": "python",
   "nbconvert_exporter": "python",
   "pygments_lexer": "ipython3",
   "version": "3.8.11"
  },
  "toc": {
   "base_numbering": 1,
   "nav_menu": {},
   "number_sections": true,
   "sideBar": true,
   "skip_h1_title": true,
   "title_cell": "Table of Contents",
   "title_sidebar": "Contents",
   "toc_cell": true,
   "toc_position": {},
   "toc_section_display": true,
   "toc_window_display": false
  }
 },
 "nbformat": 4,
 "nbformat_minor": 5
}
