{
 "cells": [
  {
   "cell_type": "markdown",
   "id": "10b4d1b5",
   "metadata": {
    "toc": true
   },
   "source": [
    "<h1>Table of Contents<span class=\"tocSkip\"></span></h1>\n",
    "<div class=\"toc\"><ul class=\"toc-item\"><li><span><a href=\"#1.-PYTHON으로-함수-이해하기\" data-toc-modified-id=\"1.-PYTHON으로-함수-이해하기-1\">1. PYTHON으로 함수 이해하기</a></span><ul class=\"toc-item\"><li><span><a href=\"#--RRD-데이터-변환-(Transformations)\" data-toc-modified-id=\"--RRD-데이터-변환-(Transformations)-1.1\">- RRD 데이터 변환 (Transformations)</a></span></li><li><span><a href=\"#--RRD-연산-(Action)\" data-toc-modified-id=\"--RRD-연산-(Action)-1.2\">- RRD 연산 (Action)</a></span></li><li><span><a href=\"#1)-map()\" data-toc-modified-id=\"1)-map()-1.3\">1) map()</a></span><ul class=\"toc-item\"><li><span><a href=\"#--map()-사용안하기\" data-toc-modified-id=\"--map()-사용안하기-1.3.1\">- map() 사용안하기</a></span></li><li><span><a href=\"#--map()-사용하기\" data-toc-modified-id=\"--map()-사용하기-1.3.2\">- map() 사용하기</a></span></li><li><span><a href=\"#※-lambda\" data-toc-modified-id=\"※-lambda-1.3.3\">※ lambda</a></span></li><li><span><a href=\"#--map()-문자열\" data-toc-modified-id=\"--map()-문자열-1.3.4\">- map() 문자열</a></span></li></ul></li><li><span><a href=\"#2)-filter()\" data-toc-modified-id=\"2)-filter()-1.4\">2) filter()</a></span></li><li><span><a href=\"#3)-reduce()\" data-toc-modified-id=\"3)-reduce()-1.5\">3) reduce()</a></span></li></ul></li></ul></div>"
   ]
  },
  {
   "cell_type": "markdown",
   "id": "86b06a8f",
   "metadata": {},
   "source": [
    "---\n",
    "## 1. PYTHON으로 함수 이해하기\n",
    "### - RRD 데이터 변환 (Transformations)\n",
    "> - map(fn) : 요소별로 fn을 적용하여 결과 RDD를 돌려줌 `.map(lambda x: x.split(' ')`\n",
    "> - filter(fn) : 요소별로 선별하여 fn을 적용해서 결과 RDD 돌려줌 `.filter(lambda x: \"Spark\" in x)`\n",
    "\n",
    "### - RRD 연산 (Action)\n",
    "> - reduce(fn) : 요소별로 fn을 사용해서 줄여서 결과 list를 돌려줌 `reduce(lambda x,y:x+y)`\n",
    "\n",
    "### 1) map()\n",
    "섭씨 > 화씨 함수\n",
    "#### - map() 사용안하기\n",
    " \n",
    "    for문을 사용함"
   ]
  },
  {
   "cell_type": "code",
   "execution_count": 1,
   "id": "9fd7452f",
   "metadata": {},
   "outputs": [
    {
     "name": "stdout",
     "output_type": "stream",
     "text": [
      "[102.56, 97.7, 99.14, 100.03999999999999]\n"
     ]
    }
   ],
   "source": [
    "celsius = [39.2, 36.5, 37.3, 37.8]\n",
    "def c2f(c):\n",
    "    f=list()\n",
    "    for i in c:\n",
    "        _f=(float(9)/5)*i + 32\n",
    "        f.append(_f)\n",
    "    return f\n",
    "\n",
    "print (c2f(celsius))"
   ]
  },
  {
   "cell_type": "markdown",
   "id": "efbb46f4",
   "metadata": {},
   "source": [
    "#### - map() 사용하기"
   ]
  },
  {
   "cell_type": "code",
   "execution_count": 2,
   "id": "897e8538",
   "metadata": {},
   "outputs": [
    {
     "name": "stdout",
     "output_type": "stream",
     "text": [
      "[102.56, 97.7, 99.14, 100.03999999999999]\n"
     ]
    }
   ],
   "source": [
    "celsius = [39.2, 36.5, 37.3, 37.8]\n",
    "def c2f(c):\n",
    "    return (float(9)/5)*c + 32\n",
    "\n",
    "f=map(c2f, celsius)\n",
    "print (list(f))"
   ]
  },
  {
   "cell_type": "markdown",
   "id": "d001b5b1",
   "metadata": {},
   "source": [
    "#### ※ lambda \n",
    "함수를 정의하는 명령어로 이름이 없다"
   ]
  },
  {
   "cell_type": "code",
   "execution_count": 3,
   "id": "fc05a7b8",
   "metadata": {},
   "outputs": [
    {
     "name": "stdout",
     "output_type": "stream",
     "text": [
      "2\n"
     ]
    }
   ],
   "source": [
    "y = lambda x : x * 2\n",
    "print (y(1))"
   ]
  },
  {
   "cell_type": "code",
   "execution_count": 4,
   "id": "37221e60",
   "metadata": {},
   "outputs": [
    {
     "name": "stdout",
     "output_type": "stream",
     "text": [
      "2\n"
     ]
    }
   ],
   "source": [
    "def f(x):\n",
    "    return x * 2\n",
    "y=f(1)\n",
    "print (y)"
   ]
  },
  {
   "cell_type": "code",
   "execution_count": 5,
   "id": "d9a52989",
   "metadata": {},
   "outputs": [
    {
     "name": "stdout",
     "output_type": "stream",
     "text": [
      "3\n"
     ]
    }
   ],
   "source": [
    "x = lambda x, y : x + y\n",
    "print(x(1, 2))"
   ]
  },
  {
   "cell_type": "code",
   "execution_count": 6,
   "id": "a9e81cd3",
   "metadata": {},
   "outputs": [
    {
     "name": "stdout",
     "output_type": "stream",
     "text": [
      "[102.56, 97.7, 99.14, 100.03999999999999]\n"
     ]
    }
   ],
   "source": [
    "f=map(lambda c:(float(9)/5)*c + 32, celsius)\n",
    "print(list(f))"
   ]
  },
  {
   "cell_type": "markdown",
   "id": "b9f4487f",
   "metadata": {},
   "source": [
    "#### - map() 문자열 "
   ]
  },
  {
   "cell_type": "code",
   "execution_count": 7,
   "id": "bb058e1b",
   "metadata": {},
   "outputs": [
    {
     "data": {
      "text/plain": [
       "[['H'], ['e'], ['l'], ['l'], ['o'], [], ['W'], ['o'], ['r'], ['l'], ['d']]"
      ]
     },
     "execution_count": 7,
     "metadata": {},
     "output_type": "execute_result"
    }
   ],
   "source": [
    "sentence = \"Hello World\"\n",
    "list(map(lambda x:x.split(), sentence))"
   ]
  },
  {
   "cell_type": "code",
   "execution_count": 9,
   "id": "a8c7a055",
   "metadata": {},
   "outputs": [
    {
     "data": {
      "text/plain": [
       "<map at 0x1e8c34eea60>"
      ]
     },
     "execution_count": 9,
     "metadata": {},
     "output_type": "execute_result"
    }
   ],
   "source": [
    "sentence = [\"Hello World\", \"Good Morining\"]\n",
    "map(lambda x:x.split(), sentence)"
   ]
  },
  {
   "cell_type": "markdown",
   "id": "41a46ce1",
   "metadata": {},
   "source": [
    "### 2) filter()\n",
    "데이터 선별\n",
    "\n",
    "0 = false, 1 = true"
   ]
  },
  {
   "cell_type": "code",
   "execution_count": 10,
   "id": "86e6e95e",
   "metadata": {},
   "outputs": [
    {
     "name": "stdout",
     "output_type": "stream",
     "text": [
      "[1, 1, 3, 5, 13, 21, 55]\n"
     ]
    }
   ],
   "source": [
    "fib = [0,1,1,2,3,5,8,13,21,34,55]\n",
    "result = filter(lambda x: x % 2, fib)\n",
    "print (list(result))"
   ]
  },
  {
   "cell_type": "markdown",
   "id": "9d522afd",
   "metadata": {},
   "source": [
    "### 3) reduce()"
   ]
  },
  {
   "cell_type": "code",
   "execution_count": 11,
   "id": "5c966206",
   "metadata": {},
   "outputs": [
    {
     "data": {
      "text/plain": [
       "5050"
      ]
     },
     "execution_count": 11,
     "metadata": {},
     "output_type": "execute_result"
    }
   ],
   "source": [
    "from functools import reduce\n",
    "reduce(lambda x, y: x + y, range(1,101))"
   ]
  }
 ],
 "metadata": {
  "kernelspec": {
   "display_name": "Python 3 (ipykernel)",
   "language": "python",
   "name": "python3"
  },
  "language_info": {
   "codemirror_mode": {
    "name": "ipython",
    "version": 3
   },
   "file_extension": ".py",
   "mimetype": "text/x-python",
   "name": "python",
   "nbconvert_exporter": "python",
   "pygments_lexer": "ipython3",
   "version": "3.8.11"
  },
  "toc": {
   "base_numbering": 1,
   "nav_menu": {},
   "number_sections": false,
   "sideBar": true,
   "skip_h1_title": true,
   "title_cell": "Table of Contents",
   "title_sidebar": "Contents",
   "toc_cell": true,
   "toc_position": {},
   "toc_section_display": true,
   "toc_window_display": false
  }
 },
 "nbformat": 4,
 "nbformat_minor": 5
}
