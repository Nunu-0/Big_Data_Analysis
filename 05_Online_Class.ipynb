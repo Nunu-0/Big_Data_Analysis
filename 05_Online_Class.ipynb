{
 "cells": [
  {
   "cell_type": "markdown",
   "id": "e4981bc4",
   "metadata": {},
   "source": [
    "# Week05 Online Class\n",
    "(21.10.05 12:00 Gitter)"
   ]
  },
  {
   "cell_type": "markdown",
   "id": "8e40a2c8",
   "metadata": {
    "toc": true
   },
   "source": [
    "<h1>Table of Contents<span class=\"tocSkip\"></span></h1>\n",
    "<div class=\"toc\"><ul class=\"toc-item\"><li><span><a href=\"#filter\" data-toc-modified-id=\"filter-1\"><span class=\"toc-item-num\">1&nbsp;&nbsp;</span>filter</a></span></li><li><span><a href=\"#불용어\" data-toc-modified-id=\"불용어-2\"><span class=\"toc-item-num\">2&nbsp;&nbsp;</span>불용어</a></span></li><li><span><a href=\"#파이프라인\" data-toc-modified-id=\"파이프라인-3\"><span class=\"toc-item-num\">3&nbsp;&nbsp;</span>파이프라인</a></span></li><li><span><a href=\"#파일에-쓰기\" data-toc-modified-id=\"파일에-쓰기-4\"><span class=\"toc-item-num\">4&nbsp;&nbsp;</span>파일에 쓰기</a></span></li><li><span><a href=\"#groupBy\" data-toc-modified-id=\"groupBy-5\"><span class=\"toc-item-num\">5&nbsp;&nbsp;</span>groupBy</a></span></li><li><span><a href=\"#Paired-RDD\" data-toc-modified-id=\"Paired-RDD-6\"><span class=\"toc-item-num\">6&nbsp;&nbsp;</span>Paired RDD</a></span><ul class=\"toc-item\"><li><span><a href=\"#groupByKey\" data-toc-modified-id=\"groupByKey-6.1\"><span class=\"toc-item-num\">6.1&nbsp;&nbsp;</span>groupByKey</a></span></li></ul></li><li><span><a href=\"#그래프\" data-toc-modified-id=\"그래프-7\"><span class=\"toc-item-num\">7&nbsp;&nbsp;</span>그래프</a></span></li><li><span><a href=\"#DF\" data-toc-modified-id=\"DF-8\"><span class=\"toc-item-num\">8&nbsp;&nbsp;</span>DF</a></span><ul class=\"toc-item\"><li><span><a href=\"#타입-가져오기\" data-toc-modified-id=\"타입-가져오기-8.1\"><span class=\"toc-item-num\">8.1&nbsp;&nbsp;</span>타입 가져오기</a></span></li><li><span><a href=\"#RRD에서-DF-만들기\" data-toc-modified-id=\"RRD에서-DF-만들기-8.2\"><span class=\"toc-item-num\">8.2&nbsp;&nbsp;</span>RRD에서 DF 만들기</a></span></li><li><span><a href=\"#스키마-정의\" data-toc-modified-id=\"스키마-정의-8.3\"><span class=\"toc-item-num\">8.3&nbsp;&nbsp;</span>스키마 정의</a></span></li><li><span><a href=\"#csv에서-읽기\" data-toc-modified-id=\"csv에서-읽기-8.4\"><span class=\"toc-item-num\">8.4&nbsp;&nbsp;</span>csv에서 읽기</a></span></li><li><span><a href=\"#csv함수로-tsv-읽기\" data-toc-modified-id=\"csv함수로-tsv-읽기-8.5\"><span class=\"toc-item-num\">8.5&nbsp;&nbsp;</span>csv함수로 tsv 읽기</a></span></li><li><span><a href=\"#json-읽기\" data-toc-modified-id=\"json-읽기-8.6\"><span class=\"toc-item-num\">8.6&nbsp;&nbsp;</span>json 읽기</a></span></li></ul></li></ul></div>"
   ]
  },
  {
   "cell_type": "markdown",
   "id": "a9b4a3e5",
   "metadata": {},
   "source": [
    "## filter\n",
    "`myRdd2.filter(lambda line: u\"스파크\" in line)`\n",
    "-> `스파크가 있는 line의 RDD`\n",
    "- `u스파크`의 `u` = 유니코드"
   ]
  },
  {
   "cell_type": "markdown",
   "id": "88efea1d",
   "metadata": {},
   "source": [
    "## 불용어\n",
    "자연어 처리할 때 의미가 없어 제거하는 단어\n",
    "- 불용어 정의\n",
    "\n",
    "`stopwords = ['is','am','are','the','for','a', 'an', 'at']`\n",
    "- 불용어를 filter로 가려내기\n",
    "```\n",
    "myRdd_stop = myRdd2.flatMap(lambda x:x.split())\\\n",
    "                    .filter(lambda x: x not in stopwords)\n",
    "```"
   ]
  },
  {
   "cell_type": "markdown",
   "id": "52e37621",
   "metadata": {},
   "source": [
    "## 파이프라인\n",
    "연속적으로 명령어를 연결하여 실행하는 것\n",
    "`upper2list=wordsRdd.map(lambda x: [i.upper() for i in x]).collect()` < X\n",
    "```\n",
    "wordsLength = wordsRdd\\\n",
    "    .map(len)\\\n",
    "    .collect()\n",
    "```\n",
    "< O"
   ]
  },
  {
   "cell_type": "markdown",
   "id": "7a633194",
   "metadata": {},
   "source": [
    "## 파일에 쓰기\n",
    "`spark.sparkContext.parallelize(upper2list).saveAsTextFile(os.path.join(\"data\", \"ds_spark_wiki_out2\"))`\n",
    "\n",
    "오류가 있으면 `winutils.exe` 설치"
   ]
  },
  {
   "cell_type": "markdown",
   "id": "540c155c",
   "metadata": {},
   "source": [
    "## groupBy\n",
    "- `groupByKey()`와 비교하여 상대적으로 빠르지 않다\n",
    "- `groupBy` : unpaired\n",
    "- `groupByKey` : paired\n",
    "```\n",
    "_testList=[(\"Seoul\",1),(\"Seoul\",1),(\"Seoul\",1),(\"Busan\",1),(\"Busan\",1),\n",
    "           (\"Seoul\",1),(\"Busan\",1),\n",
    "           (\"Seoul\",1),(\"Seoul\",1),(\"Busan\",1),(\"Busan\",1)]\n",
    "```\n",
    "\n",
    "-> paired (데이터는 리스트가 밖에 있고, 안에는 튜플로 구성됨 : 튜플의 리스트(2차원))\n",
    "\n",
    "RDD를 구성하려면 : \n",
    "`_testRdd=spark.sparkContext.parallelize(_testList)`\n",
    "\n",
    "- groupby는 인자가 있다. groupbykey는 인자가 없다\n",
    "\n",
    "`_testRdd.groupBy(lambda x:x[0]).collect()`\n",
    "\n",
    "-> Resultlterable(그룹만 만듬)\n",
    "\n",
    "- 결과 출력\n",
    "\n",
    "`_testRdd.groupBy(lambda x:x[0]).mapValues(lambda x: list(x)).collect()` mapValues()사용\n",
    "\n",
    "or\n",
    "\n",
    "`_testRdd.groupBy(lambda x:x[0]).mapValues(list).collect()` mapVaules() 안에는 함수가 들어감\n",
    "\n",
    "두번째 list는 함수다"
   ]
  },
  {
   "cell_type": "markdown",
   "id": "4f16157a",
   "metadata": {},
   "source": [
    "## Paired RDD\n",
    "\n",
    "```\n",
    "_testList=[(\"key1\",1),(\"key1\",1),(\"key1\",1),(\"key2\",1),(\"key2\",1),\n",
    "           (\"key1\",1),(\"key2\",1),\n",
    "           (\"key1\",1),(\"key1\",1),(\"key2\",1),(\"key2\",1)]\n",
    "```\n",
    "\n",
    "byKey 함수는 Pair RDD로 구성을 해 놓아야 한다.\n",
    "\n",
    "- RDD 생성\n",
    "\n",
    "`_testRdd=spark.sparkContext.parallelize(_testList, 2)` \n",
    "\n",
    "2 : 파티션 수 (데이터가 적으면 별의미 없음)\n",
    "\n",
    "### groupByKey\n",
    "`_testRdd.groupByKey().collect()`\n",
    "\n",
    "-> ResultIterable\n",
    "\n",
    "결과를 보려면`mapValues()`사용\n",
    "\n",
    "`_testRdd.groupByKey().mapValues(list).collect()`\n",
    "\n",
    "groupby하고 출력하려면 `mapValues()`가 필요\n",
    "\n",
    "```\n",
    "# 단어세기\n",
    "wc=myRdd2\\\n",
    "    .flatMap(lambda x:x.split())\\\n",
    "    .map(lambda x:(x,1))\\\n",
    "    .groupByKey()\\\n",
    "    .mapValues(sum)\n",
    "```\n",
    "\n",
    "reduceByKey는 `mapValues()`가 필요하지 않다\n",
    "\n",
    "```\n",
    "# 단어세기\n",
    "myRdd2\\\n",
    "    .flatMap(lambda x:x.split())\\\n",
    "    .map(lambda x:(x,1))\\\n",
    "    .reduceByKey(lambda x,y:x+y)\n",
    "```\n",
    "\n",
    "`_testRdd.reduceByKey(lambda x,y:x+y).collect()`"
   ]
  },
  {
   "cell_type": "markdown",
   "id": "5a46d8dd",
   "metadata": {},
   "source": [
    "## 그래프\n",
    "```\n",
    "import matplotlib.pyplot as plt\n",
    "plt.rc('font', family='NanumMyeongjo')       # 폰트 깨짐\n",
    "plt.barh(range(len(v)), v, color = 'black')  # x는 v (밸류)로 설정\n",
    "plt.yticks(range(len(v)), k)                 # y는 k (키)로 설정\n",
    "plt.show()\n",
    "```"
   ]
  },
  {
   "cell_type": "markdown",
   "id": "a15f580c",
   "metadata": {},
   "source": [
    "## DF\n",
    "- df : 구조적 데이터 (ex 엑셀)\n",
    "- RDD : 비구조적 데이터\n",
    "\n",
    "스키마 정해서 만들기\n",
    "### 타입 가져오기\n",
    "`from pyspark.sql.types import *`\n",
    "### RRD에서 DF 만들기\n",
    "`myRdd=spark.sparkContext.parallelize([(1, 'kim', 50.0), (2, 'lee', 60.0), (3, 'park', 70.0)])`\n",
    "### 스키마 정의\n",
    "```\n",
    "schema = StructType([\n",
    "    StructField(\"id\", IntegerType(), True),\n",
    "    StructField(\"name\", StringType(), True),\n",
    "    StructField(\"height\", DoubleType(), True)\n",
    "])\n",
    "```\n",
    "\n",
    "`_myDf = spark.createDataFrame(myRdd, schema)`\n",
    "### csv에서 읽기\n",
    "```\n",
    "df = spark\\\n",
    "        .read\\\n",
    "        .format('com.databricks.spark.csv')\\\n",
    "        .options(header='true', inferschema='true', delimiter=',')\\\n",
    "        .load(os.path.join('data','ds_spark.csv'))\n",
    "```\n",
    "### csv함수로 tsv 읽기\n",
    "```\n",
    "tDf = spark\\\n",
    "    .read\\\n",
    "    .options(header='false', inferschema='true', delimiter='\\t')\\\n",
    "    .csv(os.path.join('data', 'ds_spark_heightweight.txt'))\n",
    "tDf.show()\n",
    "```\n",
    "### json 읽기\n",
    "```\n",
    "jfile= os.path.join('src','ds_twitter_seoul_3.json')\n",
    "tweetDf= spark.read.json(jfile)\n",
    "```"
   ]
  }
 ],
 "metadata": {
  "kernelspec": {
   "display_name": "Python 3 (ipykernel)",
   "language": "python",
   "name": "python3"
  },
  "language_info": {
   "codemirror_mode": {
    "name": "ipython",
    "version": 3
   },
   "file_extension": ".py",
   "mimetype": "text/x-python",
   "name": "python",
   "nbconvert_exporter": "python",
   "pygments_lexer": "ipython3",
   "version": "3.8.11"
  },
  "toc": {
   "base_numbering": 1,
   "nav_menu": {},
   "number_sections": true,
   "sideBar": true,
   "skip_h1_title": true,
   "title_cell": "Table of Contents",
   "title_sidebar": "Contents",
   "toc_cell": true,
   "toc_position": {},
   "toc_section_display": true,
   "toc_window_display": false
  }
 },
 "nbformat": 4,
 "nbformat_minor": 5
}
