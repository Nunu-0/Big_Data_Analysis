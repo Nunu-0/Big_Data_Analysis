{
 "cells": [
  {
   "cell_type": "markdown",
   "id": "b1cec62d",
   "metadata": {
    "toc": true
   },
   "source": [
    "<h1>Table of Contents<span class=\"tocSkip\"></span></h1>\n",
    "<div class=\"toc\"><ul class=\"toc-item\"><li><span><a href=\"#combineByKey\" data-toc-modified-id=\"combineByKey-1\"><span class=\"toc-item-num\">1&nbsp;&nbsp;</span>combineByKey</a></span><ul class=\"toc-item\"><li><span><a href=\"#데이터-생성\" data-toc-modified-id=\"데이터-생성-1.1\"><span class=\"toc-item-num\">1.1&nbsp;&nbsp;</span>데이터 생성</a></span></li><li><span><a href=\"#partition이-1개일-경우-combiner,-mergeValues만-작동\" data-toc-modified-id=\"partition이-1개일-경우-combiner,-mergeValues만-작동-1.2\"><span class=\"toc-item-num\">1.2&nbsp;&nbsp;</span>partition이 1개일 경우 combiner, mergeValues만 작동</a></span></li><li><span><a href=\"#partition이-복수면-mergeCombiner가-작동\" data-toc-modified-id=\"partition이-복수면-mergeCombiner가-작동-1.3\"><span class=\"toc-item-num\">1.3&nbsp;&nbsp;</span>partition이 복수면 mergeCombiner가 작동</a></span><ul class=\"toc-item\"><li><span><a href=\"#앞서-사용한-기호를-연산자로-변경해-실행\" data-toc-modified-id=\"앞서-사용한-기호를-연산자로-변경해-실행-1.3.1\"><span class=\"toc-item-num\">1.3.1&nbsp;&nbsp;</span>앞서 사용한 기호를 연산자로 변경해 실행</a></span></li></ul></li></ul></li><li><span><a href=\"#다른-데이터\" data-toc-modified-id=\"다른-데이터-2\"><span class=\"toc-item-num\">2&nbsp;&nbsp;</span>다른 데이터</a></span></li></ul></div>"
   ]
  },
  {
   "cell_type": "code",
   "execution_count": 1,
   "id": "6fc0a87b",
   "metadata": {},
   "outputs": [],
   "source": [
    "import pyspark\n",
    "\n",
    "myConf=pyspark.SparkConf()\n",
    "spark = pyspark.sql.SparkSession\\\n",
    "    .builder\\\n",
    "    .master(\"local\")\\\n",
    "    .appName(\"myApp\")\\\n",
    "    .config(conf=myConf)\\\n",
    "    .getOrCreate()"
   ]
  },
  {
   "cell_type": "markdown",
   "id": "8bf390ca",
   "metadata": {},
   "source": [
    "### combineByKey\n",
    "키별로 합계 및 개수 (key, (sum, count))를 계산\n",
    "#### 데이터 생성"
   ]
  },
  {
   "cell_type": "code",
   "execution_count": 2,
   "id": "5da67bbd",
   "metadata": {},
   "outputs": [],
   "source": [
    "_testList=[(\"key1\",1),(\"key1\",3),(\"key2\",2),(\"key1\",2),(\"key2\",4),\n",
    "           (\"key1\",5),(\"key2\",6),\n",
    "           (\"key1\",7),(\"key1\",8),(\"key2\",9),(\"key2\",3)]"
   ]
  },
  {
   "cell_type": "markdown",
   "id": "ad2bb289",
   "metadata": {},
   "source": [
    "#### partition이 1개일 경우 combiner, mergeValues만 작동"
   ]
  },
  {
   "cell_type": "code",
   "execution_count": 3,
   "id": "477fcf08",
   "metadata": {},
   "outputs": [],
   "source": [
    "_testRdd=spark.sparkContext.parallelize(_testList)"
   ]
  },
  {
   "cell_type": "code",
   "execution_count": 4,
   "id": "5793507b",
   "metadata": {
    "scrolled": false
   },
   "outputs": [
    {
     "data": {
      "text/plain": [
       "1"
      ]
     },
     "execution_count": 4,
     "metadata": {},
     "output_type": "execute_result"
    }
   ],
   "source": [
    "_testRdd.getNumPartitions()"
   ]
  },
  {
   "cell_type": "markdown",
   "id": "e921962d",
   "metadata": {},
   "source": [
    "- key1의 첫째 값은 1이다. combiner (\\*표기), 다음은 merge values (# 표기)로 계산이 된다. `1*#3#2#5#7#8` 가 출력된다.\n",
    "- key2는 `2*#4#6#9#3`가 출력된다."
   ]
  },
  {
   "cell_type": "code",
   "execution_count": 5,
   "id": "02a9b969",
   "metadata": {},
   "outputs": [
    {
     "data": {
      "text/plain": [
       "[('key1', '1*#3#2#5#7#8'), ('key2', '2*#4#6#9#3')]"
      ]
     },
     "execution_count": 5,
     "metadata": {},
     "output_type": "execute_result"
    }
   ],
   "source": [
    "_testRdd.combineByKey(lambda v : str(v)+\"*\", lambda c, v : c+\"#\"+str(v), lambda c1, c2 : c1+'&'+c2).collect()"
   ]
  },
  {
   "cell_type": "markdown",
   "id": "5a963815",
   "metadata": {},
   "source": [
    "#### partition이 복수면 mergeCombiner가 작동\n",
    "partition = 2"
   ]
  },
  {
   "cell_type": "code",
   "execution_count": 6,
   "id": "7e61f46c",
   "metadata": {},
   "outputs": [
    {
     "name": "stdout",
     "output_type": "stream",
     "text": [
      "Partitions 0 -> [('key1', 1), ('key1', 3), ('key2', 2), ('key1', 2), ('key2', 4)]\n",
      "Partitions 1 -> [('key1', 5), ('key2', 6), ('key1', 7), ('key1', 8), ('key2', 9), ('key2', 3)]\n"
     ]
    }
   ],
   "source": [
    "_testRdd=spark.sparkContext.parallelize(_testList, 2)\n",
    "\n",
    "partitions = _testRdd.glom().collect()\n",
    "for num, partition in enumerate(partitions):\n",
    "    print(f'Partitions {num} -> {partition}')"
   ]
  },
  {
   "cell_type": "markdown",
   "id": "7a110465",
   "metadata": {},
   "source": [
    "partition이 분할 되었으므로, partition별로 합산된다.\n",
    "\n",
    "- key1은 partition 0에서 `1,3,2` , partition 1에서 `5,7,8`이 연산. `1*#3#2&5*#7#8` 출력\n",
    "- key2는 `2,4,6`과 `6,9,3`이 각각 다른 partition에서 연산. `2*#4&6*#9#3` 출력"
   ]
  },
  {
   "cell_type": "code",
   "execution_count": 7,
   "id": "e5cf2ecd",
   "metadata": {},
   "outputs": [
    {
     "data": {
      "text/plain": [
       "[('key1', '1*#3#2&5*#7#8'), ('key2', '2*#4&6*#9#3')]"
      ]
     },
     "execution_count": 7,
     "metadata": {},
     "output_type": "execute_result"
    }
   ],
   "source": [
    "_testRdd.combineByKey(lambda v : str(v)+\"*\", lambda c, v : c+\"#\"+str(v), lambda c1, c2 : c1+'&'+c2).collect()"
   ]
  },
  {
   "cell_type": "markdown",
   "id": "a7024d93",
   "metadata": {},
   "source": [
    "##### 앞서 사용한 기호를 연산자로 변경해 실행"
   ]
  },
  {
   "cell_type": "code",
   "execution_count": 8,
   "id": "d8591129",
   "metadata": {},
   "outputs": [
    {
     "data": {
      "text/plain": [
       "[('key1', (26, 6)), ('key2', (24, 5))]"
      ]
     },
     "execution_count": 8,
     "metadata": {},
     "output_type": "execute_result"
    }
   ],
   "source": [
    "_testRdd.combineByKey(lambda value: (value,1),\n",
    "                     lambda x,value: (x[0]+value, x[1]+1),\n",
    "                     lambda x,y: (x[0]+y[0], x[1]+y[1])) \\\n",
    "        .collect()"
   ]
  },
  {
   "cell_type": "markdown",
   "id": "6ce547b1",
   "metadata": {},
   "source": [
    "- 평균계산\n",
    "\n",
    "`combineByKey()` 로 sum, count를 구한 후 sum / count"
   ]
  },
  {
   "cell_type": "code",
   "execution_count": 9,
   "id": "e278e689",
   "metadata": {},
   "outputs": [],
   "source": [
    "_testCbkRdd=_testRdd.combineByKey(lambda value: (value,1),\n",
    "                     lambda x,value: (x[0]+value, x[1]+1),                      \n",
    "                     lambda x,y: (x[0]+y[0], x[1]+y[1]))"
   ]
  },
  {
   "cell_type": "code",
   "execution_count": 10,
   "id": "4d734830",
   "metadata": {},
   "outputs": [
    {
     "data": {
      "text/plain": [
       "{'key1': 4.333333333333333, 'key2': 4.8}"
      ]
     },
     "execution_count": 10,
     "metadata": {},
     "output_type": "execute_result"
    }
   ],
   "source": [
    "averageByKey = _testCbkRdd.map(lambda x:(x[0],x[1][0]/x[1][1]))\n",
    "averageByKey.collectAsMap()"
   ]
  },
  {
   "cell_type": "markdown",
   "id": "eeb2ea16",
   "metadata": {},
   "source": [
    "### 다른 데이터"
   ]
  },
  {
   "cell_type": "code",
   "execution_count": 11,
   "id": "e5ddb1b8",
   "metadata": {},
   "outputs": [],
   "source": [
    "marks = spark.sparkContext.parallelize([('kim',86),('lim',87),('kim',75),\n",
    "                                      ('kim',91),('lim',78),('lim',92),\n",
    "                                      ('lim',79),('lee',99)])"
   ]
  },
  {
   "cell_type": "code",
   "execution_count": 12,
   "id": "ff7e76ba",
   "metadata": {},
   "outputs": [],
   "source": [
    "marksByKey = marks.combineByKey(lambda value: (value,1),\n",
    "                             lambda x,value: (x[0]+value, x[1]+1),\n",
    "                             lambda x,y: (x[0]+y[0], x[1]+y[1]))"
   ]
  },
  {
   "cell_type": "code",
   "execution_count": 13,
   "id": "def6a477",
   "metadata": {},
   "outputs": [
    {
     "data": {
      "text/plain": [
       "[('kim', (252, 3)), ('lim', (336, 4)), ('lee', (99, 1))]"
      ]
     },
     "execution_count": 13,
     "metadata": {},
     "output_type": "execute_result"
    }
   ],
   "source": [
    "marksByKey.collect()"
   ]
  },
  {
   "cell_type": "code",
   "execution_count": 14,
   "id": "6d3acbb3",
   "metadata": {},
   "outputs": [],
   "source": [
    "heights = spark.sparkContext.parallelize([\n",
    "        ('M',182.),('F',164.),('M',180.),('M',185.),('M',171.),('F',162.)\n",
    "    ])"
   ]
  },
  {
   "cell_type": "code",
   "execution_count": 15,
   "id": "2fb7310e",
   "metadata": {},
   "outputs": [],
   "source": [
    "heightsByKey = heights.combineByKey(lambda value: (value,1),\n",
    "                             lambda x,value: (x[0]+value, x[1]+1),\n",
    "                             lambda x,y: (x[0]+y[0], x[1]+y[1]))"
   ]
  },
  {
   "cell_type": "code",
   "execution_count": 16,
   "id": "a9ce6c9f",
   "metadata": {},
   "outputs": [
    {
     "data": {
      "text/plain": [
       "[('M', (718.0, 4)), ('F', (326.0, 2))]"
      ]
     },
     "execution_count": 16,
     "metadata": {},
     "output_type": "execute_result"
    }
   ],
   "source": [
    "heightsByKey.collect()"
   ]
  },
  {
   "cell_type": "code",
   "execution_count": 17,
   "id": "8b331566",
   "metadata": {},
   "outputs": [
    {
     "name": "stdout",
     "output_type": "stream",
     "text": [
      "{'M': 179.5, 'F': 163.0}\n"
     ]
    }
   ],
   "source": [
    "avgByKey = heightsByKey.map(lambda x: (x[0],x[1][0]/x[1][1]))\n",
    "\n",
    "print (avgByKey.collectAsMap())"
   ]
  }
 ],
 "metadata": {
  "kernelspec": {
   "display_name": "Python 3 (ipykernel)",
   "language": "python",
   "name": "python3"
  },
  "language_info": {
   "codemirror_mode": {
    "name": "ipython",
    "version": 3
   },
   "file_extension": ".py",
   "mimetype": "text/x-python",
   "name": "python",
   "nbconvert_exporter": "python",
   "pygments_lexer": "ipython3",
   "version": "3.8.11"
  },
  "toc": {
   "base_numbering": 1,
   "nav_menu": {},
   "number_sections": true,
   "sideBar": true,
   "skip_h1_title": true,
   "title_cell": "Table of Contents",
   "title_sidebar": "Contents",
   "toc_cell": true,
   "toc_position": {},
   "toc_section_display": true,
   "toc_window_display": false
  }
 },
 "nbformat": 4,
 "nbformat_minor": 5
}
