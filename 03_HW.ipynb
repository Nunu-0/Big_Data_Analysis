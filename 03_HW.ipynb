{
 "cells": [
  {
   "cell_type": "markdown",
   "id": "e90f2864",
   "metadata": {},
   "source": [
    "# 빅데이터분석(21_2)\n",
    "### 휴먼지능정보공학과 201810793 이연우\n",
    "* 3주차 과제\n",
    "---"
   ]
  },
  {
   "cell_type": "markdown",
   "id": "f4145a2b",
   "metadata": {
    "toc": true
   },
   "source": [
    "<h1>Table of Contents<span class=\"tocSkip\"></span></h1>\n",
    "<div class=\"toc\"><ul class=\"toc-item\"><li><ul class=\"toc-item\"><li><span><a href=\"#휴먼지능정보공학과-201810793-이연우\" data-toc-modified-id=\"휴먼지능정보공학과-201810793-이연우-0.1\">휴먼지능정보공학과 201810793 이연우</a></span></li></ul></li><li><span><a href=\"#문제-1\" data-toc-modified-id=\"문제-1-1\">문제 1</a></span></li><li><span><a href=\"#문제-2\" data-toc-modified-id=\"문제-2-2\">문제 2</a></span></li><li><span><a href=\"#문제-3:\" data-toc-modified-id=\"문제-3:-3\">문제 3:</a></span><ul class=\"toc-item\"><li><ul class=\"toc-item\"><li><span><a href=\"#1)-경기도-의정부시-인구현황\" data-toc-modified-id=\"1)-경기도-의정부시-인구현황-3.0.1\">1) 경기도 의정부시 인구현황</a></span></li><li><span><a href=\"#2)-제주특별자치도-서귀포시-내-연도별-65세이상-인구수-및-고령화비율,-노령화지수-현황\" data-toc-modified-id=\"2)-제주특별자치도-서귀포시-내-연도별-65세이상-인구수-및-고령화비율,-노령화지수-현황-3.0.2\">2) 제주특별자치도 서귀포시 내 연도별 65세이상 인구수 및 고령화비율, 노령화지수 현황</a></span></li></ul></li></ul></li></ul></div>"
   ]
  },
  {
   "cell_type": "markdown",
   "id": "e860d411",
   "metadata": {},
   "source": [
    "---\n",
    "## 문제 1\n",
    "\n",
    "오픈API를 통해 데이터를 5천 ~ 1만 건 정도 수집해서 파일로 저장한다 (초과해도 좋다).\n",
    "\n",
    "열린데이터, 공공데이터 또는 (할 수 있다면) 트위터와 같은 SNS, 댓글 등 적합한 소스를 자신이 선택한다.\n",
    "\n",
    "과정의 후반으로 가서, 이 데이터를 분석하는 과제가 주어지게 된다.\n",
    "\n",
    "프로그램에서 몇 건을 읽었는지와 마지막 줄을 화면 출력한다.\n",
    "\n",
    "!dir 명령어로 파일이 존재하는지 출력한다. 1만 건 정도 저장되었으니 파일의 크기가 적당한지 가늠해보자\n",
    "\n",
    "- 서울시 코로나19 확진자 현황 \n",
    "Open_API : http://data.seoul.go.kr/dataList/OA-20279/S/1/datasetView.do"
   ]
  },
  {
   "cell_type": "code",
   "execution_count": 1,
   "id": "110c45d4",
   "metadata": {},
   "outputs": [
    {
     "name": "stdout",
     "output_type": "stream",
     "text": [
      "Overwriting src/ds_Corona19Status.py\n"
     ]
    }
   ],
   "source": [
    "%%writefile src/ds_Corona19Status.py\n",
    "# coding: utf-8\n",
    "import os\n",
    "import requests\n",
    "import json\n",
    "from pymongo import MongoClient\n",
    "import mylib\n",
    "\n",
    "Client = MongoClient('localhost:27017') # 클라이언트 만들기\n",
    "_db=Client['ds_Corona19StatusDb'] #db created by mongo. You do not have to create this. db명 \n",
    "_table=_db['ds_Corona19StatusTable'] #collection table 명\n",
    "#db=Client.ds_rest_subwayPassengers\n",
    "\n",
    "def saveJson(_fname,_data):\n",
    "    import io\n",
    "    with io.open(_fname, 'a', encoding='utf8') as json_file: # a(append) = 붙여넣기 추가\n",
    "        #_j=json.dumps(_data, json_file, ensure_ascii=False, encoding='utf8') # python2\n",
    "        _j=json.dump(_data, json_file, ensure_ascii=False)\n",
    "        json_file.write(str(_j)+\"\\n\")\n",
    "\n",
    "def readJson(_fname):\n",
    "    for line in open(_fname, 'r').readlines():\n",
    "        _j=json.loads(line)\n",
    "        #print _j['id'],_j['text']\n",
    "        #print (_j['id'])\n",
    "\n",
    "def saveDB(_data):\n",
    "    _table.insert_one(_data)\n",
    "\n",
    "def readDB():\n",
    "    for tweet in _table.find():\n",
    "        print (tweet['id'],tweet['text'])\n",
    "\n",
    "def saveFile(_fname,_data):\n",
    "    fp=open(_fname,'a')\n",
    "    fp.write(_data+\"\\n\")\n",
    "\n",
    "def doIt():\n",
    "    keyPath=os.path.join(os.getcwd(), 'src', 'key.properties')\n",
    "    key=mylib.getKey(keyPath)  \n",
    "\n",
    "    _url='http://openAPI.seoul.go.kr:8088'\n",
    "    _key=str(key['03_HW'])\n",
    "    _type='json'\n",
    "    _service='Corona19Status'\n",
    "    _start_index=1\n",
    "    _end_index=1\n",
    "    \n",
    "    _maxIter=20\n",
    "    _iter=0\n",
    "    _jfname='src/ds_Corona19Status.json'\n",
    "    \n",
    "    while _iter<_maxIter:\n",
    "        _api=\"/\".join([_url,_key,_type,_service,str(_start_index),str(_end_index)])\n",
    "        #print _api\n",
    "        r=requests.get(_api)\n",
    "        _json=r.json()\n",
    "        #print (_json)\n",
    "        # 저장 \n",
    "        saveJson(_jfname,_json)\n",
    "        saveDB(_json)\n",
    "        # /저장\n",
    "        _start_index+=1\n",
    "        _end_index+=1\n",
    "        _iter+=1\n",
    "        if _iter >= _maxIter:\n",
    "            print(_json)\n",
    "\n",
    "if __name__ == \"__main__\":\n",
    "    doIt()"
   ]
  },
  {
   "cell_type": "markdown",
   "id": "b2fe1d95",
   "metadata": {},
   "source": [
    "- 프로그램에서 몇 건을 읽었는지와 마지막 줄\n",
    "\n",
    "total : 90532개"
   ]
  },
  {
   "cell_type": "code",
   "execution_count": 2,
   "id": "75fe5f1e",
   "metadata": {},
   "outputs": [
    {
     "name": "stdout",
     "output_type": "stream",
     "text": [
      "{'Corona19Status': {'list_total_count': 90532, 'RESULT': {'CODE': 'INFO-000', 'MESSAGE': '정상 처리되었습니다'}, 'row': [{'CORONA19_ID': '90513', 'CORONA19_DATE': '2021-09-17', 'CORONA19_NO': '', 'CORONA19_COUNTRY': '', 'CORONA19_PERSONAL': '', 'CORONA19_AREA': '강동구', 'CORONA19_TRAVEL_HISTORY': '', 'CORONA19_CONTACT_HISTORY': '감염경로 조사중', 'CORONA19_CORRECTIVE': '', 'CORONA19_LEAVE_STATUS': '-', 'CORONA19_MOVING_PATH': '', 'CORONA19_IDATE': '2021-09-18 10:54:18', 'CORONA19_MDATE': '2021-09-18 10:54:18'}]}, '_id': ObjectId('6145ff9d51d3f10355de7e60')}\n"
     ]
    }
   ],
   "source": [
    "!python src/ds_Corona19Status.py"
   ]
  },
  {
   "cell_type": "markdown",
   "id": "72181714",
   "metadata": {},
   "source": [
    "- 파일 크기\n",
    "\n",
    "2021-09-18  오후 11:56            11,072 ds_Corona19Status.json"
   ]
  },
  {
   "cell_type": "code",
   "execution_count": 3,
   "id": "dce2f98c",
   "metadata": {},
   "outputs": [
    {
     "name": "stdout",
     "output_type": "stream",
     "text": [
      " C 드라이브의 볼륨에는 이름이 없습니다."
     ]
    },
    {
     "name": "stderr",
     "output_type": "stream",
     "text": [
      "파일을 찾을 수 없습니다."
     ]
    },
    {
     "name": "stdout",
     "output_type": "stream",
     "text": [
      "\n",
      " 볼륨 일련 번호: 4E88-AB80\n",
      "\n",
      " C:\\Users\\Nunu\\BigData 디렉터리\n",
      "\n",
      "\n",
      " C:\\Users\\Nunu\\BigData\\src 디렉터리\n",
      "\n",
      "2021-09-19  오전 12:02            22,144 ds_Corona19Status.json\n",
      "2021-09-19  오전 12:02             1,918 ds_Corona19Status.py\n",
      "2021-09-18  오후 11:35               147 ds_Corona19Status_mongo.js\n",
      "               3개 파일              24,209 바이트\n",
      "               0개 디렉터리  29,289,340,928 바이트 남음\n"
     ]
    },
    {
     "name": "stderr",
     "output_type": "stream",
     "text": [
      "\n"
     ]
    }
   ],
   "source": [
    "!dir -l src\\ds_Corona19Status*"
   ]
  },
  {
   "cell_type": "markdown",
   "id": "e3cd2968",
   "metadata": {},
   "source": [
    "---\n",
    "## 문제 2\n",
    "노트북에서 pyspark 실행"
   ]
  },
  {
   "cell_type": "markdown",
   "id": "20fa2ba0",
   "metadata": {},
   "source": [
    "- pyspark 버전"
   ]
  },
  {
   "cell_type": "code",
   "execution_count": 4,
   "id": "9175c576",
   "metadata": {},
   "outputs": [
    {
     "name": "stdout",
     "output_type": "stream",
     "text": [
      "3.1.2\n"
     ]
    }
   ],
   "source": [
    "import pyspark\n",
    "print(pyspark.__version__)"
   ]
  },
  {
   "cell_type": "markdown",
   "id": "bb9c6b4b",
   "metadata": {},
   "source": [
    "- java 버전"
   ]
  },
  {
   "cell_type": "code",
   "execution_count": 5,
   "id": "abcadcd1",
   "metadata": {
    "scrolled": true
   },
   "outputs": [
    {
     "name": "stderr",
     "output_type": "stream",
     "text": [
      "java version \"1.8.0_301\"\n",
      "Java(TM) SE Runtime Environment (build 1.8.0_301-b09)\n",
      "Java HotSpot(TM) 64-Bit Server VM (build 25.301-b09, mixed mode)\n",
      "javac 1.8.0_301\n"
     ]
    }
   ],
   "source": [
    "!java -version\n",
    "!javac -version"
   ]
  },
  {
   "cell_type": "markdown",
   "id": "240ccd95",
   "metadata": {},
   "source": [
    "- python 버전"
   ]
  },
  {
   "cell_type": "code",
   "execution_count": 6,
   "id": "9defac3a",
   "metadata": {},
   "outputs": [
    {
     "name": "stdout",
     "output_type": "stream",
     "text": [
      "Python 3.8.11\n",
      "3.8.11 (default, Aug  6 2021, 09:57:55) [MSC v.1916 64 bit (AMD64)]\n"
     ]
    }
   ],
   "source": [
    "!python --version\n",
    "\n",
    "import sys\n",
    "print(sys.version)"
   ]
  },
  {
   "cell_type": "markdown",
   "id": "36ca26d2",
   "metadata": {},
   "source": [
    "- spark 실행 화면"
   ]
  },
  {
   "cell_type": "markdown",
   "id": "af966ca9",
   "metadata": {},
   "source": [
    "```\n",
    "(py3.8) C:\\Users\\Nunu>pyspark\n",
    "Python 3.8.11 (default, Aug  6 2021, 09:57:55) [MSC v.1916 64 bit (AMD64)] :: Anaconda, Inc. on win32\n",
    "Type \"help\", \"copyright\", \"credits\" or \"license\" for more information.\n",
    "21/09/18 18:55:49 WARN NativeCodeLoader: Unable to load native-hadoop library for your platform... using builtin-java classes where applicable\n",
    "Using Spark's default log4j profile: org/apache/spark/log4j-defaults.properties\n",
    "Setting default log level to \"WARN\".\n",
    "To adjust logging level use sc.setLogLevel(newLevel). For SparkR, use setLogLevel(newLevel).\n",
    "Welcome to\n",
    "      ____              __\n",
    "     / __/__  ___ _____/ /__\n",
    "    _\\ \\/ _ \\/ _ `/ __/  '_/\n",
    "   /__ / .__/\\_,_/_/ /_/\\_\\   version 3.1.2\n",
    "      /_/\n",
    "\n",
    "Using Python version 3.8.11 (default, Aug  6 2021 09:57:55)\n",
    "Spark context Web UI available at http://DESKTOP-7TC72N3:4040\n",
    "Spark context available as 'sc' (master = local[*], app id = local-1631958957728).\n",
    "SparkSession available as 'spark'.\n",
    ">>>\n",
    "```"
   ]
  },
  {
   "cell_type": "markdown",
   "id": "a1b49bc2",
   "metadata": {},
   "source": [
    "---\n",
    "## 문제 3: \n",
    "다음 파일을 읽어서 RDD를 생성하고, 5줄을 화면출력하세요.\n",
    "\n",
    "결과가 깨져보인다면, 그 이유를 간단히 적으세요.\n",
    "\n",
    "* 1) 경기도 의정부시 인구현황 (파일명: ```경기도 의정부시_인구현황_20200904```)\n",
    "\n",
    "https://www.data.go.kr/data/15009613/fileData.do\n",
    "\n",
    "\n",
    "* 2) 제주특별자치도 서귀포시 내 연도별 65세이상 인구수 및 고령화비율, 노령화지수 현황 (파일명: ```제주특별자치도 서귀포시_고령화비율및노령화지수현황_20200623```)\n",
    "\n",
    "https://www.data.go.kr/data/15051545/fileData.do"
   ]
  },
  {
   "cell_type": "markdown",
   "id": "d4d70b3c",
   "metadata": {},
   "source": [
    "- SparkSession 생성하기"
   ]
  },
  {
   "cell_type": "code",
   "execution_count": 1,
   "id": "b826c064",
   "metadata": {},
   "outputs": [],
   "source": [
    "import findspark\n",
    "findspark.init()"
   ]
  },
  {
   "cell_type": "code",
   "execution_count": 2,
   "id": "18e43865",
   "metadata": {},
   "outputs": [],
   "source": [
    "import pyspark\n",
    "\n",
    "myConf=pyspark.SparkConf()\n",
    "spark = pyspark.sql.SparkSession\\\n",
    "    .builder\\\n",
    "    .master(\"local\")\\\n",
    "    .appName(\"myApp\")\\\n",
    "    .config(conf=myConf)\\\n",
    "    .getOrCreate()"
   ]
  },
  {
   "cell_type": "markdown",
   "id": "f74f4b94",
   "metadata": {},
   "source": [
    "#### 1) 경기도 의정부시 인구현황"
   ]
  },
  {
   "cell_type": "code",
   "execution_count": 5,
   "id": "bc558930",
   "metadata": {
    "scrolled": true
   },
   "outputs": [
    {
     "data": {
      "text/plain": [
       "['�������,�α���(��),�α���(��),�α���(��),������(��),������(��),������(��),����,�����,������α�,���������,�����μ���,�μ���ȭ��ȣ,�����ͱ�������',\n",
       " '������1��,32292,16538,15754,6.97,3.57,3.4,104.98,19998,1.61,�����ν�,�ο����ǰ�,031-828-2466,2021-09-10',\n",
       " '������2��,31380,15608,15772,6.77,3.37,3.4,98.96,16410,1.91,�����ν�,�ο����ǰ�,031-828-2466,2021-09-10',\n",
       " 'ȣ��1��,36124,17595,18529,7.8,3.8,4,94.96,15653,2.31,�����ν�,�ο����ǰ�,031-828-2466,2021-09-10',\n",
       " 'ȣ��2��,34957,16923,18034,7.54,3.65,3.89,93.84,13683,2.55,�����ν�,�ο����ǰ�,031-828-2466,2021-09-10']"
      ]
     },
     "execution_count": 5,
     "metadata": {},
     "output_type": "execute_result"
    }
   ],
   "source": [
    "import os\n",
    "popRdd = spark.sparkContext\\\n",
    "    .textFile(os.path.join(\"data\",\"경기도 의정부시_인구현황_20210910.csv\"), use_unicode=True)\n",
    "\n",
    "popRdd.take(5)"
   ]
  },
  {
   "cell_type": "markdown",
   "id": "53cfd7d2",
   "metadata": {},
   "source": [
    "####  2) 제주특별자치도 서귀포시 내 연도별 65세이상 인구수 및 고령화비율, 노령화지수 현황"
   ]
  },
  {
   "cell_type": "code",
   "execution_count": 8,
   "id": "c4c4e4cf",
   "metadata": {},
   "outputs": [],
   "source": [
    "agedRdd = spark.sparkContext\\\n",
    "    .textFile(os.path.join(\"data\",\"제주특별자치도 서귀포시_고령화비율및노령화지수현황_20210831.csv\"), use_unicode=True)"
   ]
  },
  {
   "cell_type": "code",
   "execution_count": 11,
   "id": "71eb01ae",
   "metadata": {},
   "outputs": [
    {
     "data": {
      "text/plain": [
       "['������,�������� �α���,65���̻� �α��� ,14������ �α���,���ȭ����,���ȭ����,�����ͱ�������',\n",
       " '2012,154057,25826,22861,16.76,112.97,2021-08-31',\n",
       " '2013,155641,26936,22393,17.31,120.29,2021-08-31',\n",
       " '2014,158512,27877,22058,17.59,126.38,2021-08-31',\n",
       " '2015,164519,28979,22362,17.61,129.59,2021-08-31']"
      ]
     },
     "execution_count": 11,
     "metadata": {},
     "output_type": "execute_result"
    }
   ],
   "source": [
    "agedRdd.take(5)"
   ]
  },
  {
   "cell_type": "markdown",
   "id": "fda1094e",
   "metadata": {},
   "source": [
    "\n",
    "- 결과가 깨져있는 이유:\n",
    "\n",
    "    csv 파일을 다운로드 받을 때 한글이 깨지기 때문이다."
   ]
  }
 ],
 "metadata": {
  "kernelspec": {
   "display_name": "Python 3",
   "language": "python",
   "name": "python3"
  },
  "language_info": {
   "codemirror_mode": {
    "name": "ipython",
    "version": 3
   },
   "file_extension": ".py",
   "mimetype": "text/x-python",
   "name": "python",
   "nbconvert_exporter": "python",
   "pygments_lexer": "ipython3",
   "version": "3.8.8"
  },
  "toc": {
   "base_numbering": 1,
   "nav_menu": {},
   "number_sections": false,
   "sideBar": true,
   "skip_h1_title": true,
   "title_cell": "Table of Contents",
   "title_sidebar": "Contents",
   "toc_cell": true,
   "toc_position": {},
   "toc_section_display": true,
   "toc_window_display": false
  }
 },
 "nbformat": 4,
 "nbformat_minor": 5
}
