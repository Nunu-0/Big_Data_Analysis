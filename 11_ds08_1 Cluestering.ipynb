{
 "cells": [
  {
   "cell_type": "markdown",
   "id": "7b08f622",
   "metadata": {
    "toc": true
   },
   "source": [
    "<h1>Table of Contents<span class=\"tocSkip\"></span></h1>\n",
    "<div class=\"toc\"><ul class=\"toc-item\"><li><span><a href=\"#구현\" data-toc-modified-id=\"구현-1\"><span class=\"toc-item-num\">1&nbsp;&nbsp;</span>구현</a></span><ul class=\"toc-item\"><li><span><a href=\"#데이터\" data-toc-modified-id=\"데이터-1.1\"><span class=\"toc-item-num\">1.1&nbsp;&nbsp;</span>데이터</a></span></li><li><span><a href=\"#설정\" data-toc-modified-id=\"설정-1.2\"><span class=\"toc-item-num\">1.2&nbsp;&nbsp;</span>설정</a></span></li><li><span><a href=\"#할당\" data-toc-modified-id=\"할당-1.3\"><span class=\"toc-item-num\">1.3&nbsp;&nbsp;</span>할당</a></span><ul class=\"toc-item\"><li><span><a href=\"#모든-데이터의-거리-계산-and-가까운-중심점-할당\" data-toc-modified-id=\"모든-데이터의-거리-계산-and-가까운-중심점-할당-1.3.1\"><span class=\"toc-item-num\">1.3.1&nbsp;&nbsp;</span>모든 데이터의 거리 계산 and 가까운 중심점 할당</a></span></li></ul></li><li><span><a href=\"#갱신\" data-toc-modified-id=\"갱신-1.4\"><span class=\"toc-item-num\">1.4&nbsp;&nbsp;</span>갱신</a></span><ul class=\"toc-item\"><li><span><a href=\"#각-중심점의-평균으로-새로운-중심점-계산\" data-toc-modified-id=\"각-중심점의-평균으로-새로운-중심점-계산-1.4.1\"><span class=\"toc-item-num\">1.4.1&nbsp;&nbsp;</span>각 중심점의 평균으로 새로운 중심점 계산</a></span></li></ul></li><li><span><a href=\"#종료\" data-toc-modified-id=\"종료-1.5\"><span class=\"toc-item-num\">1.5&nbsp;&nbsp;</span>종료</a></span><ul class=\"toc-item\"><li><span><a href=\"#그래프\" data-toc-modified-id=\"그래프-1.5.1\"><span class=\"toc-item-num\">1.5.1&nbsp;&nbsp;</span>그래프</a></span></li></ul></li></ul></li><li><span><a href=\"#함수로-만들기\" data-toc-modified-id=\"함수로-만들기-2\"><span class=\"toc-item-num\">2&nbsp;&nbsp;</span>함수로 만들기</a></span><ul class=\"toc-item\"><li><span><a href=\"#거리-계산-함수\" data-toc-modified-id=\"거리-계산-함수-2.1\"><span class=\"toc-item-num\">2.1&nbsp;&nbsp;</span>거리 계산 함수</a></span></li><li><span><a href=\"#클라스터링-함수\" data-toc-modified-id=\"클라스터링-함수-2.2\"><span class=\"toc-item-num\">2.2&nbsp;&nbsp;</span>클라스터링 함수</a></span></li><li><span><a href=\"#그래프\" data-toc-modified-id=\"그래프-2.3\"><span class=\"toc-item-num\">2.3&nbsp;&nbsp;</span>그래프</a></span></li></ul></li></ul></div>"
   ]
  },
  {
   "cell_type": "markdown",
   "id": "2656aa15",
   "metadata": {},
   "source": [
    "# 기계학습(머신러닝)\n",
    "통계기법이나 알고리즘을 통해 데이터에 숨겨진 패턴을 찾아 분류, 예측 하는 것"
   ]
  },
  {
   "cell_type": "markdown",
   "id": "3e567530",
   "metadata": {},
   "source": [
    "# 클러스터링 "
   ]
  },
  {
   "cell_type": "markdown",
   "id": "4521d73d",
   "metadata": {},
   "source": [
    "## 구현"
   ]
  },
  {
   "cell_type": "markdown",
   "id": "d7d4f002",
   "metadata": {},
   "source": [
    "### 데이터"
   ]
  },
  {
   "cell_type": "code",
   "execution_count": 2,
   "id": "68b20374",
   "metadata": {},
   "outputs": [],
   "source": [
    "import numpy as np\n",
    "\n",
    "x = np.array([[2,5],[3,6],[2,4],[5,7],[7,2],[8,3],[9,4],[8,4],[7,3]], dtype = float)"
   ]
  },
  {
   "cell_type": "markdown",
   "id": "7bae31f3",
   "metadata": {},
   "source": [
    "### 설정\n",
    "클러스터의 개수 정하기 (몇 개의 군집), 중심점 선택"
   ]
  },
  {
   "cell_type": "code",
   "execution_count": 3,
   "id": "f5e1274e",
   "metadata": {},
   "outputs": [],
   "source": [
    "k = 2\n",
    "centroids = np.array([[2,5],[7,2]], dtype = float)"
   ]
  },
  {
   "cell_type": "markdown",
   "id": "64b7617b",
   "metadata": {},
   "source": [
    "### 할당\n",
    "각 데이터와 중심점의 거리 계산하여 클러스터에 할당\n",
    "- norm : 두 점 사이의 거리"
   ]
  },
  {
   "cell_type": "code",
   "execution_count": 4,
   "id": "3ab6815b",
   "metadata": {},
   "outputs": [],
   "source": [
    "def normDist(x1, x2):\n",
    "    #dist=np.sqrt(sum(np.power(x1 - x2, 2))) #36.406001444695193\n",
    "    dist = np.linalg.norm(x1 - x2) #36.406001444695193\n",
    "    return dist"
   ]
  },
  {
   "cell_type": "code",
   "execution_count": 5,
   "id": "7012cd6f",
   "metadata": {},
   "outputs": [
    {
     "name": "stdout",
     "output_type": "stream",
     "text": [
      "Distance 0.000 between [2. 5.] and [2. 5.]\n",
      "Distance 5.831 between [7. 2.] and [2. 5.]\n"
     ]
    }
   ],
   "source": [
    "for j in range(k):\n",
    "    # distance from centroids[j] to x[0]\n",
    "    distJ0 = normDist(centroids[j], x[0])\n",
    "    print (\"Distance {:.3f} between {} and {}\".format(distJ0, centroids[j], x[0]))"
   ]
  },
  {
   "cell_type": "markdown",
   "id": "be64a944",
   "metadata": {},
   "source": [
    "가까운 거리 쪽으로 할당되어야 함"
   ]
  },
  {
   "cell_type": "code",
   "execution_count": 6,
   "id": "59098708",
   "metadata": {},
   "outputs": [
    {
     "name": "stdout",
     "output_type": "stream",
     "text": [
      "Distance 0.000 between [2. 5.] and [2. 5.]\n",
      "Distance 5.831 between [7. 2.] and [2. 5.]\n",
      ".....Assigning [2. 5.] to 0th centroid by 0.000\n"
     ]
    }
   ],
   "source": [
    "minDist = np.inf\n",
    "for j in range(k):\n",
    "    # distance from centroids[j] to x[0]\n",
    "    distJ0 = normDist(centroids[j], x[0])\n",
    "    print (\"Distance {:.3f} between {} and {}\".format(distJ0, centroids[j], x[0]))\n",
    "    # pick the closest centroid\n",
    "    if distJ0 < minDist:\n",
    "        minDist = distJ0\n",
    "        minIndex = j\n",
    "print (\".....Assigning {} to {}th centroid by {:.3f}\".format(x[0], minIndex, minDist))"
   ]
  },
  {
   "cell_type": "markdown",
   "id": "102e357a",
   "metadata": {},
   "source": [
    "#### 모든 데이터의 거리 계산 and 가까운 중심점 할당\n",
    "저장소 생성"
   ]
  },
  {
   "cell_type": "code",
   "execution_count": 7,
   "id": "af08555b",
   "metadata": {},
   "outputs": [
    {
     "name": "stdout",
     "output_type": "stream",
     "text": [
      "[[0. 0.]\n",
      " [0. 0.]\n",
      " [0. 0.]\n",
      " [0. 0.]\n",
      " [0. 0.]\n",
      " [0. 0.]\n",
      " [0. 0.]\n",
      " [0. 0.]\n",
      " [0. 0.]]\n"
     ]
    }
   ],
   "source": [
    "clusterAssigned = np.zeros(shape = (x.shape[0],2), dtype = float)\n",
    "print (clusterAssigned)"
   ]
  },
  {
   "cell_type": "code",
   "execution_count": 8,
   "id": "83038858",
   "metadata": {},
   "outputs": [
    {
     "data": {
      "text/plain": [
       "(9, 2)"
      ]
     },
     "execution_count": 8,
     "metadata": {},
     "output_type": "execute_result"
    }
   ],
   "source": [
    "x.shape"
   ]
  },
  {
   "cell_type": "code",
   "execution_count": 9,
   "id": "9c03198e",
   "metadata": {},
   "outputs": [
    {
     "name": "stdout",
     "output_type": "stream",
     "text": [
      ".....Assigning [2. 5.] to 0th centroid by 0.000\n",
      ".....Assigning [3. 6.] to 0th centroid by 1.414\n",
      ".....Assigning [2. 4.] to 0th centroid by 1.000\n",
      ".....Assigning [5. 7.] to 0th centroid by 3.606\n",
      ".....Assigning [7. 2.] to 1th centroid by 0.000\n",
      ".....Assigning [8. 3.] to 1th centroid by 1.414\n",
      ".....Assigning [9. 4.] to 1th centroid by 2.828\n",
      ".....Assigning [8. 4.] to 1th centroid by 2.236\n",
      ".....Assigning [7. 3.] to 1th centroid by 1.000\n"
     ]
    }
   ],
   "source": [
    "row, c = x.shape\n",
    "for i in range(row):\n",
    "    minDist = np.inf   # arbitray max\n",
    "    minIndex = -1      # arbitray index\n",
    "    for j in range(k):\n",
    "        # distance from centroids[j] to x[i]\n",
    "        distJI = normDist(centroids[j], x[i])\n",
    "        # print (\"Distance {:.3f} between {} and {}\".format(distJI, centroids[j], x[i]))\n",
    "        # pick the closest centroid\n",
    "        if distJI < minDist:\n",
    "            minDist = distJI\n",
    "            minIndex = j\n",
    "    print (\".....Assigning {} to {}th centroid by {:.3f}\".format(x[i], minIndex, minDist))\n",
    "    clusterAssigned[i] = [minIndex, minDist]   #-----changed"
   ]
  },
  {
   "cell_type": "markdown",
   "id": "8310ec56",
   "metadata": {},
   "source": [
    "[index, distance]"
   ]
  },
  {
   "cell_type": "code",
   "execution_count": 10,
   "id": "97c973ed",
   "metadata": {},
   "outputs": [
    {
     "name": "stdout",
     "output_type": "stream",
     "text": [
      ".....Assigned clusters: \n",
      "[[0.         0.        ]\n",
      " [0.         1.41421356]\n",
      " [0.         1.        ]\n",
      " [0.         3.60555128]\n",
      " [1.         0.        ]\n",
      " [1.         1.41421356]\n",
      " [1.         2.82842712]\n",
      " [1.         2.23606798]\n",
      " [1.         1.        ]]\n"
     ]
    }
   ],
   "source": [
    "print (\".....Assigned clusters: \\n{}\".format(clusterAssigned))"
   ]
  },
  {
   "cell_type": "markdown",
   "id": "41db7045",
   "metadata": {},
   "source": [
    "### 갱신\n",
    "중심점을 평균을 구해 다시 계산 "
   ]
  },
  {
   "cell_type": "code",
   "execution_count": 11,
   "id": "9e53fe02",
   "metadata": {},
   "outputs": [
    {
     "data": {
      "text/plain": [
       "array([0., 0., 0., 0., 1., 1., 1., 1., 1.])"
      ]
     },
     "execution_count": 11,
     "metadata": {},
     "output_type": "execute_result"
    }
   ],
   "source": [
    "clusterAssigned[:,0]"
   ]
  },
  {
   "cell_type": "markdown",
   "id": "b4ea3151",
   "metadata": {},
   "source": [
    "첫번째 값의 0번째 index 데이터만 구해서 평균값 구하기\n",
    "\n",
    "0번째 x값 출력하기"
   ]
  },
  {
   "cell_type": "code",
   "execution_count": 12,
   "id": "ba52ffd7",
   "metadata": {},
   "outputs": [
    {
     "data": {
      "text/plain": [
       "array([[2., 5.],\n",
       "       [3., 6.],\n",
       "       [2., 4.],\n",
       "       [5., 7.]])"
      ]
     },
     "execution_count": 12,
     "metadata": {},
     "output_type": "execute_result"
    }
   ],
   "source": [
    "x[clusterAssigned[:,0]==0]"
   ]
  },
  {
   "cell_type": "code",
   "execution_count": 13,
   "id": "116ff4bc",
   "metadata": {},
   "outputs": [
    {
     "data": {
      "text/plain": [
       "array([[7., 2.],\n",
       "       [8., 3.],\n",
       "       [9., 4.],\n",
       "       [8., 4.],\n",
       "       [7., 3.]])"
      ]
     },
     "execution_count": 13,
     "metadata": {},
     "output_type": "execute_result"
    }
   ],
   "source": [
    "x[clusterAssigned[:,0]==1]"
   ]
  },
  {
   "cell_type": "markdown",
   "id": "ae061ae8",
   "metadata": {},
   "source": [
    "#### 각 중심점의 평균으로 새로운 중심점 계산"
   ]
  },
  {
   "cell_type": "code",
   "execution_count": 14,
   "id": "1c1541e9",
   "metadata": {},
   "outputs": [],
   "source": [
    "_centroids=np.zeros(shape=(k,x.shape[1]), dtype=float)"
   ]
  },
  {
   "cell_type": "markdown",
   "id": "3c2d8836",
   "metadata": {},
   "source": [
    "`axis=0` : 세로축으로 평균구하기"
   ]
  },
  {
   "cell_type": "code",
   "execution_count": 20,
   "id": "d1621030",
   "metadata": {},
   "outputs": [],
   "source": [
    "for cent in range(k):\n",
    "    _centroids[cent] = np.mean(x[clusterAssigned[:,0]==cent],axis=0)"
   ]
  },
  {
   "cell_type": "code",
   "execution_count": 21,
   "id": "6bdbf908",
   "metadata": {},
   "outputs": [
    {
     "name": "stdout",
     "output_type": "stream",
     "text": [
      "Centroids updated: \n",
      " [[3.  5.5]\n",
      " [7.8 3.2]]\n"
     ]
    }
   ],
   "source": [
    "print (\"Centroids updated: \\n\", _centroids)"
   ]
  },
  {
   "cell_type": "markdown",
   "id": "5cf08f2c",
   "metadata": {},
   "source": [
    "### 종료\n",
    "소수점을 비교하여 갱신하기 어렵다고 느껴지면 종료\n",
    "- `np.equal()` : 갱신이 되었는지 확인(True = 종료)"
   ]
  },
  {
   "cell_type": "code",
   "execution_count": 22,
   "id": "9e38be25",
   "metadata": {},
   "outputs": [
    {
     "name": "stdout",
     "output_type": "stream",
     "text": [
      "False\n"
     ]
    }
   ],
   "source": [
    "comparison = np.equal(centroids, _centroids)\n",
    "print(comparison.all())"
   ]
  },
  {
   "cell_type": "markdown",
   "id": "49b9593c",
   "metadata": {},
   "source": [
    "- `np.isclose()` : tolerence를 어느 정도 허용하면서 동인한지 비교"
   ]
  },
  {
   "cell_type": "code",
   "execution_count": 23,
   "id": "b10458ad",
   "metadata": {},
   "outputs": [
    {
     "name": "stdout",
     "output_type": "stream",
     "text": [
      "False\n"
     ]
    }
   ],
   "source": [
    "comparison = np.isclose(centroids, _centroids)\n",
    "print(comparison.all())"
   ]
  },
  {
   "cell_type": "markdown",
   "id": "859fe2c5",
   "metadata": {},
   "source": [
    "#### 그래프"
   ]
  },
  {
   "cell_type": "code",
   "execution_count": 19,
   "id": "eeb5754f",
   "metadata": {},
   "outputs": [
    {
     "data": {
      "text/plain": [
       "<matplotlib.collections.PathCollection at 0x21eb4b37b50>"
      ]
     },
     "execution_count": 19,
     "metadata": {},
     "output_type": "execute_result"
    },
    {
     "data": {
      "image/png": "[encoded data removed]",
      "text/plain": [
       "<Figure size 432x288 with 1 Axes>"
      ]
     },
     "metadata": {
      "needs_background": "light"
     },
     "output_type": "display_data"
    }
   ],
   "source": [
    "%matplotlib inline\n",
    "import matplotlib.pyplot as plt\n",
    "\n",
    "plt.scatter(x[:,0],x[:,1],color='blue')\n",
    "plt.scatter(centroids[:,0],centroids[:,1],color='red')"
   ]
  },
  {
   "cell_type": "markdown",
   "id": "4dbc9904",
   "metadata": {},
   "source": [
    "## 함수로 만들기"
   ]
  },
  {
   "cell_type": "markdown",
   "id": "0bfc67a8",
   "metadata": {},
   "source": [
    "### 거리 계산 함수"
   ]
  },
  {
   "cell_type": "code",
   "execution_count": 24,
   "id": "1565e886",
   "metadata": {},
   "outputs": [],
   "source": [
    "def normDist(x1, x2):\n",
    "    #dist=np.sqrt(sum(np.power(x1 - x2, 2))) #36.406001444695193\n",
    "    dist = np.linalg.norm(x1 - x2) #36.406001444695193\n",
    "    return dist"
   ]
  },
  {
   "cell_type": "markdown",
   "id": "0d8971db",
   "metadata": {},
   "source": [
    "### 클라스터링 함수"
   ]
  },
  {
   "cell_type": "code",
   "execution_count": 25,
   "id": "dd1081ba",
   "metadata": {},
   "outputs": [],
   "source": [
    "def cluster(x, k, centroids):\n",
    "    row, col = x.shape\n",
    "    clusterAssigned = np.zeros(shape=(row, k), dtype=float)\n",
    "    # print (clusterAssigned)\n",
    "    clusterUpdated=True\n",
    "    iter = 1\n",
    "    while(clusterUpdated):\n",
    "        print (\"\\n\\n====== Iteration {} ======\".format(iter))\n",
    "        # STEP 1: assign to closer cluster\n",
    "        for i in range(row):\n",
    "            minDist = np.inf   # set arbitray max to minDist\n",
    "            minIndex = -1      # set arbitray index to minIndex\n",
    "            # compute distance and assign to closer cluster\n",
    "            for j in range(k):\n",
    "                # distance from centroids[j] to x[0]\n",
    "                distJI = normDist(centroids[j], x[i])\n",
    "                # print (\"Distance {:.3f} between {} and {}\".format(distJI, centroids[j], x[i]))\n",
    "                # pick the closest centroid\n",
    "                if distJI < minDist:\n",
    "                    minDist = distJI\n",
    "                    minIndex = j\n",
    "            print (\".....Assigning {} to {}th centroid by {:.3f}\".format(x[i], minIndex, minDist))\n",
    "            clusterAssigned[i] = [minIndex, minDist]   #-----changed\n",
    "        print (\"\\n.....Assigned clusters: \\n {}\".format(clusterAssigned))\n",
    "        # STEP 2: update centroids\n",
    "        _centroids=np.zeros(shape = (k, x.shape[1]), dtype=float)\n",
    "        for cent in range(k):\n",
    "            # read data by index and average them\n",
    "            _centroids[cent] = np.mean(x[clusterAssigned[:,0]==cent],axis=0)\n",
    "        # print (\"Centroids updated: \\n\", _centroids)\n",
    "        # STEP 3: see if centroids is updated. STOP if NOT updated\n",
    "        comparison = np.equal(centroids, _centroids) # np.isclose() in case some tolerence is required\n",
    "        if(comparison.all() == True):\n",
    "            print (\"\\n.....NOT Updating Centroids\\n {} => \\n{}\".format(centroids, _centroids))\n",
    "            clusterUpdated = False\n",
    "            return centroids, clusterAssigned\n",
    "        else:\n",
    "            print (\"\\n.....Updating Centroids\\n {} => \\n{}\".format(centroids, _centroids))\n",
    "            centroids = _centroids\n",
    "            iter += 1"
   ]
  },
  {
   "cell_type": "markdown",
   "id": "ed320c4a",
   "metadata": {},
   "source": [
    "### 그래프"
   ]
  },
  {
   "cell_type": "code",
   "execution_count": 26,
   "id": "337e4e33",
   "metadata": {},
   "outputs": [],
   "source": [
    "def draw(x, centroids):\n",
    "    import matplotlib.pyplot as plt\n",
    "    #plt.subplot(5,2,iter)\n",
    "    plt.scatter(x[:,0], x[:,1], color='blue')\n",
    "    plt.scatter(centroids[:,0], centroids[:,1], color='red')"
   ]
  },
  {
   "cell_type": "code",
   "execution_count": 27,
   "id": "2b0d2da5",
   "metadata": {},
   "outputs": [
    {
     "name": "stdout",
     "output_type": "stream",
     "text": [
      "\n",
      "\n",
      "====== Iteration 1 ======\n",
      ".....Assigning [2. 5.] to 0th centroid by 0.000\n",
      ".....Assigning [3. 6.] to 0th centroid by 1.414\n",
      ".....Assigning [2. 4.] to 0th centroid by 1.000\n",
      ".....Assigning [5. 7.] to 0th centroid by 3.606\n",
      ".....Assigning [7. 2.] to 1th centroid by 0.000\n",
      ".....Assigning [8. 3.] to 1th centroid by 1.414\n",
      ".....Assigning [9. 4.] to 1th centroid by 2.828\n",
      ".....Assigning [8. 4.] to 1th centroid by 2.236\n",
      ".....Assigning [7. 3.] to 1th centroid by 1.000\n",
      "\n",
      ".....Assigned clusters: \n",
      " [[0.         0.        ]\n",
      " [0.         1.41421356]\n",
      " [0.         1.        ]\n",
      " [0.         3.60555128]\n",
      " [1.         0.        ]\n",
      " [1.         1.41421356]\n",
      " [1.         2.82842712]\n",
      " [1.         2.23606798]\n",
      " [1.         1.        ]]\n",
      "\n",
      ".....Updating Centroids\n",
      " [[2. 5.]\n",
      " [7. 2.]] => \n",
      "[[3.  5.5]\n",
      " [7.8 3.2]]\n",
      "\n",
      "\n",
      "====== Iteration 2 ======\n",
      ".....Assigning [2. 5.] to 0th centroid by 1.118\n",
      ".....Assigning [3. 6.] to 0th centroid by 0.500\n",
      ".....Assigning [2. 4.] to 0th centroid by 1.803\n",
      ".....Assigning [5. 7.] to 0th centroid by 2.500\n",
      ".....Assigning [7. 2.] to 1th centroid by 1.442\n",
      ".....Assigning [8. 3.] to 1th centroid by 0.283\n",
      ".....Assigning [9. 4.] to 1th centroid by 1.442\n",
      ".....Assigning [8. 4.] to 1th centroid by 0.825\n",
      ".....Assigning [7. 3.] to 1th centroid by 0.825\n",
      "\n",
      ".....Assigned clusters: \n",
      " [[0.         1.11803399]\n",
      " [0.         0.5       ]\n",
      " [0.         1.80277564]\n",
      " [0.         2.5       ]\n",
      " [1.         1.44222051]\n",
      " [1.         0.28284271]\n",
      " [1.         1.44222051]\n",
      " [1.         0.82462113]\n",
      " [1.         0.82462113]]\n",
      "\n",
      ".....NOT Updating Centroids\n",
      " [[3.  5.5]\n",
      " [7.8 3.2]] => \n",
      "[[3.  5.5]\n",
      " [7.8 3.2]]\n"
     ]
    },
    {
     "data": {
      "image/png": "[encoded data removed]",
      "text/plain": [
       "<Figure size 432x288 with 1 Axes>"
      ]
     },
     "metadata": {
      "needs_background": "light"
     },
     "output_type": "display_data"
    }
   ],
   "source": [
    "%matplotlib inline\n",
    "import matplotlib.pyplot as plt\n",
    "import numpy as np\n",
    "\n",
    "x = np.array([[2,5],[3,6],[2,4],[5,7],[7,2],[8,3],[9,4],[8,4],[7,3]], dtype = float)\n",
    "#x = np.array([[1, 2],[1, 4],[1, 0],[4, 2],[4, 4],[4, 0]])\n",
    "k = 2\n",
    "centroids = np.array([[2,5],[7,2]], dtype = float)\n",
    "#centroids = np.array([[1,1],[4,1]], dtype = float)\n",
    "centroids, clusterAssigned = cluster(x, k, centroids)\n",
    "draw(x, centroids)"
   ]
  }
 ],
 "metadata": {
  "kernelspec": {
   "display_name": "Python 3 (ipykernel)",
   "language": "python",
   "name": "python3"
  },
  "language_info": {
   "codemirror_mode": {
    "name": "ipython",
    "version": 3
   },
   "file_extension": ".py",
   "mimetype": "text/x-python",
   "name": "python",
   "nbconvert_exporter": "python",
   "pygments_lexer": "ipython3",
   "version": "3.8.11"
  },
  "toc": {
   "base_numbering": 1,
   "nav_menu": {},
   "number_sections": true,
   "sideBar": true,
   "skip_h1_title": true,
   "title_cell": "Table of Contents",
   "title_sidebar": "Contents",
   "toc_cell": true,
   "toc_position": {},
   "toc_section_display": true,
   "toc_window_display": false
  }
 },
 "nbformat": 4,
 "nbformat_minor": 5
}
