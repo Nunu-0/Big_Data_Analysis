{
 "cells": [
  {
   "cell_type": "markdown",
   "id": "august-heading",
   "metadata": {},
   "source": [
    "# 문제 11 : 공공데이터포털 서울특별시교육청 공공도서관 소장도서정보\n",
    "공공데이터포털\n",
    "(ds0_open_data)\n",
    "* 이용API : https://www.data.go.kr/tcs/dss/selectApiDataDetailView.do?publicDataPk=15001051\n",
    "---"
   ]
  },
  {
   "cell_type": "markdown",
   "id": "civil-possible",
   "metadata": {
    "toc": true
   },
   "source": [
    "<h1>Table of Contents<span class=\"tocSkip\"></span></h1>\n",
    "<div class=\"toc\"><ul class=\"toc-item\"><li><ul class=\"toc-item\"><li><span><a href=\"#1.-인증키-읽기\" data-toc-modified-id=\"1.-인증키-읽기-0.1\">1. 인증키 읽기</a></span></li><li><span><a href=\"#2.-요청-인자-등록\" data-toc-modified-id=\"2.-요청-인자-등록-0.2\">2. 요청 인자 등록</a></span></li><li><span><a href=\"#3.-URL-생성\" data-toc-modified-id=\"3.-URL-생성-0.3\">3. URL 생성</a></span></li><li><span><a href=\"#4.-URL-호출\" data-toc-modified-id=\"4.-URL-호출-0.4\">4. URL 호출</a></span></li></ul></li><li><span><a href=\"#코드-통합\" data-toc-modified-id=\"코드-통합-1\">코드 통합</a></span></li></ul></div>"
   ]
  },
  {
   "cell_type": "markdown",
   "id": "varying-italic",
   "metadata": {},
   "source": [
    "---\n",
    "### 1. 인증키 읽기"
   ]
  },
  {
   "cell_type": "code",
   "execution_count": 1,
   "id": "little-mistress",
   "metadata": {},
   "outputs": [],
   "source": [
    "import os\n",
    "from src import mylib\n",
    "keyPath=os.path.join(os.getcwd(), 'src', 'key.properties')\n",
    "key=mylib.getKey(keyPath)"
   ]
  },
  {
   "cell_type": "markdown",
   "id": "bored-david",
   "metadata": {},
   "source": [
    "### 2. 요청 인자 등록"
   ]
  },
  {
   "cell_type": "code",
   "execution_count": 3,
   "id": "primary-thinking",
   "metadata": {},
   "outputs": [
    {
     "name": "stdout",
     "output_type": "stream",
     "text": [
      "title=%EB%8F%84%EB%91%91&manageCd=MA&numOfRows=5&pageNo=2\n"
     ]
    }
   ],
   "source": [
    "import urllib\n",
    "\n",
    "_d=dict()\n",
    "_d['title']='도둑'\n",
    "_d['manageCd']='MA' #서울특별시\n",
    "_d['numOfRows']='5'\n",
    "_d['pageNo']='2'\n",
    "#params2=urllib.urlencode(_d)\n",
    "#params2=urllib.parse.urlencode(_d).encode(\"utf-8\")\n",
    "params2=urllib.parse.urlencode(_d)\n",
    "print (params2)"
   ]
  },
  {
   "cell_type": "markdown",
   "id": "sunrise-discharge",
   "metadata": {},
   "source": [
    "### 3. URL 생성\n",
    "서비스와 오퍼레이션 별도 지정X"
   ]
  },
  {
   "cell_type": "code",
   "execution_count": 6,
   "id": "relevant-grenada",
   "metadata": {},
   "outputs": [
    {
     "name": "stdout",
     "output_type": "stream",
     "text": [
      "http://openapi-lib.sen.go.kr/openapi/service/lib/openApi?serviceKey=8Bx4C1%2Bbogiu3i0M5k7aqOf%2BTA5yCWK%2BFDI7nTSJ0oAhDj1NC5CtbI1TMgFmnpuZxJ9LBoCScqBhuw5sul2tmQ%3D%3D&title=%EB%8F%84%EB%91%91&manageCd=MA&numOfRows=5&pageNo=2\n"
     ]
    }
   ],
   "source": [
    "params='?'+'serviceKey='+key['teacher']+'&'+params2\n",
    "#print params\n",
    "\n",
    "import urllib\n",
    "_url='http://openapi-lib.sen.go.kr/openapi/service/lib/openApi'\n",
    "url=urllib.parse.urljoin(_url,params)\n",
    "print (url)"
   ]
  },
  {
   "cell_type": "markdown",
   "id": "recreational-powder",
   "metadata": {},
   "source": [
    "### 4. URL 호출"
   ]
  },
  {
   "cell_type": "code",
   "execution_count": 7,
   "id": "acting-cookbook",
   "metadata": {},
   "outputs": [
    {
     "name": "stdout",
     "output_type": "stream",
     "text": [
      "<?xml version=\"1.0\" encoding=\"UTF-8\" standalone=\"yes\"?><response><header><resultCode>00</resultCode><resultMsg>NORMAL SERVICE.</resultMsg></header><body><items><item><appendixYn>N</appendixYn><author>송아주 글;한상언 그림</author><bookKey>5388757197</bookKey><callNo>유 813.5-ㅅ566ㄷ</callNo><controlNo>JMO201800117</controlNo><isbn>9791195339785</isbn><libName>강남도서관</libName><manageCode>MA</manageCode><pubYear>2018</pubYear><publisher>도토리나무</publisher><regNo>JUA000066397</regNo><rnum>6</rnum><shelfLocName>[강남]1층 도담놀이터</shelfLocName><speciesKey>5388757195</speciesKey><title>도둑 떼와 꾀 많은 꼬마</title></item><item><appendixYn>N</appendixYn><author>최용주 지음</author><bookKey>5210340360</bookKey><callNo>199.5-ㅊ574ㄱ</callNo><controlNo>KMO201304671</controlNo><isbn>9788960652866</isbn><libName>강남도서관</libName><manageCode>MA</manageCode><pubYear>2013</pubYear><publisher>공감</publisher><regNo>EMA000223336</regNo><rnum>7</rnum><shelfLocName>[강남]4서고(종합실직원문의)</shelfLocName><speciesKey>5210340357</speciesKey><title>가슴청년, 희망을 도둑맞지 마라  : 청년실업 시대, 인생 이모작 시대 자신의 성공 노하우로 방향을 제시하는 느림보 멘토, 최용주 교수의 인생 코칭</title></item><item><appendixYn>N</appendixYn><author>아르노 알메라 글;프레데릭 브나글리아 그림;하정희 옮김</author><bookKey>5108622464</bookKey><callNo>아 808.91-ㅅ116ㄱ-1-13</callNo><controlNo>JMO201000978</controlNo><isbn>9788934933618</isbn><libName>강남도서관</libName><manageCode>MA</manageCode><pubYear>2009</pubYear><publisher>주니어김영사 :김영사</publisher><regNo>JUA000039670</regNo><rnum>8</rnum><shelfLocName>[강남]1층 어린이실</shelfLocName><speciesKey>5108622461</speciesKey><title>명랑 공주와 상냥한 도둑</title><vol>1-13</vol></item><item><appendixYn>N</appendixYn><author>아르노 알메라 글;프레데릭 브나글리아 그림;하정희 옮김</author><bookKey>5108622465</bookKey><callNo>아 808.91-ㅅ116ㄱ-1-13=2</callNo><controlNo>JMO201000978</controlNo><isbn>9788934933618</isbn><libName>강남도서관</libName><manageCode>MA</manageCode><pubYear>2009</pubYear><publisher>주니어김영사 :김영사</publisher><regNo>JUA000039671</regNo><rnum>9</rnum><shelfLocName>[강남]1층 어린이실</shelfLocName><speciesKey>5108622461</speciesKey><title>명랑 공주와 상냥한 도둑</title><vol>1-13</vol></item><item><appendixYn>N</appendixYn><author>니나 파워 지음 ;김성준 옮김</author><bookKey>5397797826</bookKey><callNo>337.2-ㅍ21ㄷ</callNo><controlNo>KMO201802222</controlNo><isbn>9791196007362</isbn><libName>강남도서관</libName><manageCode>MA</manageCode><pubYear>2018</pubYear><publisher>에디투스</publisher><regNo>EMA000259099</regNo><rnum>10</rnum><shelfLocName>[강남]4층 종합자료실</shelfLocName><speciesKey>5397797824</speciesKey><title>도둑맞은 페미니즘  : 일차원적 여성</title></item></items><numOfRows>5</numOfRows><pageNo>2</pageNo><totalCount>174</totalCount></body></response>\n"
     ]
    }
   ],
   "source": [
    "import requests\n",
    "\n",
    "data=requests.get(url).text\n",
    "#print data\n",
    "\n",
    "print (data)"
   ]
  },
  {
   "cell_type": "markdown",
   "id": "16c25f01",
   "metadata": {},
   "source": [
    "---\n",
    "## 코드 통합"
   ]
  },
  {
   "cell_type": "code",
   "execution_count": 12,
   "id": "fc89d2a7",
   "metadata": {},
   "outputs": [
    {
     "name": "stdout",
     "output_type": "stream",
     "text": [
      "Overwriting src/ds_open_library.py\n"
     ]
    }
   ],
   "source": [
    "%%writefile src/ds_open_library.py\n",
    "# coding : utf-8\n",
    "import os\n",
    "import urllib\n",
    "import requests\n",
    "import mylib\n",
    "\n",
    "def saveFile(_fname,_data):\n",
    "    fp = open(_fname, 'a')\n",
    "    fp.write(_data+\"\\n\")\n",
    "    \n",
    "def doIt():\n",
    "    _d=dict()\n",
    "    _d['title']='파이썬'\n",
    "    _d['manageCd']='MA' #서울특별시\n",
    "    _d['numOfRows']='20'\n",
    "    _d['pageNo']='2'\n",
    "\n",
    "    params2=urllib.parse.urlencode(_d)\n",
    "    \n",
    "    keyPath=os.path.join(os.getcwd(), 'src', 'key.properties')\n",
    "    key=mylib.getKey(keyPath)\n",
    "    params='?'+'serviceKey='+key['teacher']+'&'+params2\n",
    "\n",
    "    _url='http://openapi-lib.sen.go.kr/openapi/service/lib/openApi'\n",
    "    url=urllib.parse.urljoin(_url,params)\n",
    "    data=requests.get(url).text\n",
    "    \n",
    "    print(data[:500]) # 500글자만 출력\n",
    "    _fname='src/ds_open_library_xml.txt'\n",
    "    saveFile(_fname, data)\n",
    "\n",
    "if __name__ == \"__main__\":\n",
    "    doIt()"
   ]
  },
  {
   "cell_type": "code",
   "execution_count": 13,
   "id": "ba9ea207",
   "metadata": {},
   "outputs": [
    {
     "name": "stdout",
     "output_type": "stream",
     "text": [
      "<?xml version=\"1.0\" encoding=\"UTF-8\" standalone=\"yes\"?><response><header><resultCode>00</resultCode><resultMsg>NORMAL SERVICE.</resultMsg></header><body><items><item><appendixYn>N</appendixYn><author>드미트리 지노비에프 지음;황준식 옮김</author><bookKey>5361612424</bookKey><callNo>005.7-ㅈ912ㅁ</callNo><controlNo>KMO201704602</controlNo><isbn>9791160502152</isbn><libName>강남도서관</libName><manageCode>MA</manageCode><pubYear>2017</pubYear><publisher>길벗</publisher><regNo>EMA000255335</regNo><rnum>21</rnum><shelfLocNam\n"
     ]
    }
   ],
   "source": [
    "!python src/ds_open_library.py"
   ]
  },
  {
   "cell_type": "code",
   "execution_count": 17,
   "id": "ba85b9ac",
   "metadata": {},
   "outputs": [
    {
     "name": "stdout",
     "output_type": "stream",
     "text": [
      "<?xml version=\"1.0\" encoding=\"UTF-8\" standalone=\"yes\"?><response><header><resultCode>00</resultCode><resultMsg>NORMAL SERVICE.</resultMsg></header><body><items><item><appendixYn>N</appendixYn><author>드미트리 지노비에프 지음;황준식 옮김</author><bookKey>5361612424</bookKey><callNo>005.7-ㅈ912ㅁ</callNo><controlNo>KMO201704602</controlNo><isbn>9791160502152</isbn><libName>강남도서관</libName><manageCode>MA</manageCode><pubYear>2017</pubYear><publisher>길벗</publisher><regNo>EMA000255335</regNo><rnum>21</rnum><shelfLocName>[강남]4층 종합자료실</shelfLocName><speciesKey>5361612422</speciesKey><title>모두의 데이터 과학 with 파이썬 : 즐거운 프로그래밍 경험</title></item><item><appendixYn>N</appendixYn><author>안드레아스 뮐러,세라 가이도 지음;박해선 옮김</author><bookKey>5360192099</bookKey><callNo>004.73-ㅁ756ㅍ</callNo><controlNo>KMO201704546</controlNo><isbn>9788968483394</isbn><libName>강남도서관</libName><manageCode>MA</manageCode><pubYear>2017</pubYear><publisher>한빛미디어</publisher><regNo>EMA000255291</regNo><rnum>22</rnum><shelfLocName>[강남]4층 종합자료실</shelfLocName><speciesKey>5360192097</speciesKey><title>파이썬 라이브러리를 활용한 머신러닝  : 사이킷런 핵심 개발자가 쓴 머신러닝과 데이터 과학 실무서</title></item><item><appendixYn>N</appendixYn><author>바스티앙 스야딘,루카 마싸론,알베르토 보스체티 지음 ;이미정 옮김</author><bookKey>5369403780</bookKey><callNo>004.73-ㅇ732ㅍ</callNo><controlNo>KMO201706121</controlNo><isbn>9791161750224</isbn><libName>강남도서관</libName><manageCode>MA</manageCode><pubYear>2017</pubYear><publisher>에이콘</publisher><regNo>EMA000256134</regNo><rnum>23</rnum><shelfLocName>[강남]4층 종합자료실</shelfLocName><speciesKey>5369403778</speciesKey><title>파이썬으로 배우는 대규모 머신 러닝  : 대규모 데이터 분석과 처리를 위한 다양한 머신 러닝 기법 활용</title></item><item><appendixYn>N</appendixYn><author>나카쿠키 켄지 지음,심효섭 지음</author><bookKey>5374183556</bookKey><callNo>005.133-ㄴ43ㅇ</callNo><controlNo>KMO201706884</controlNo><isbn>9791188621026</isbn><libName>강남도서관</libName><manageCode>MA</manageCode><pubYear>2017</pubYear><publisher>제이펍</publisher><regNo>EMA000256911</regNo><rnum>24</rnum><shelfLocName>[강남]4층 종합자료실</shelfLocName><speciesKey>5374183554</speciesKey><title>엔지니어를 위한 파이썬</title></item><item><appendixYn>N</appendixYn><author>토마스 드라바스,데니 리 지음 ;이진기 옮김</author><bookKey>5371359092</bookKey><callNo>005.76-ㄷ93ㅍ</callNo><controlNo>KMO201706486</controlNo><isbn>9791161750705</isbn><libName>강남도서관</libName><manageCode>MA</manageCode><pubYear>2017</pubYear><publisher>에이콘출판</publisher><regNo>EMA000256669</regNo><rnum>25</rnum><shelfLocName>[강남]4층 종합자료실</shelfLocName><speciesKey>5371359090</speciesKey><title>PySpark 배우기  : 파이썬과 스파크 2.0으로 대용량 처리 애플리케이션 다루기</title></item><item><appendixYn>N</appendixYn><author>김태영 지음</author><bookKey>5370777918</bookKey><callNo>004.73-ㄱ968ㅍ</callNo><controlNo>KMO201706197</controlNo><isbn>9788960882133</isbn><libName>강남도서관</libName><manageCode>MA</manageCode><pubYear>2017</pubYear><publisher>디지털북스</publisher><regNo>EMA000256194</regNo><rnum>26</rnum><shelfLocName>[강남]4층 종합자료실</shelfLocName><speciesKey>5370777916</speciesKey><title>(블록과 함께 하는) 파이썬 딥러닝 케라스</title></item><item><appendixYn>N</appendixYn><author>존 M. 젤 지음 ;심효섭 옮김</author><bookKey>5372472062</bookKey><callNo>005.133-ㅈ568ㅍ</callNo><controlNo>KMO201706611</controlNo><isbn>9788966264087</isbn><libName>강남도서관</libName><manageCode>MA</manageCode><pubYear>2017</pubYear><publisher>인사이트</publisher><regNo>EMA000256690</regNo><rnum>27</rnum><shelfLocName>[강남]4층 종합자료실</shelfLocName><speciesKey>5372472060</speciesKey><title>파이썬으로 시작하는 컴퓨터 과학 입문</title></item><item><appendixYn>N</appendixYn><author>천인국 지음</author><bookKey>5374839211</bookKey><callNo>005.133-ㅊ252ㄷ</callNo><controlNo>KMO201707511</controlNo><isbn>9788970508931</isbn><libName>강남도서관</libName><manageCode>MA</manageCode><pubYear>2017</pubYear><publisher>생능출판</publisher><regNo>EMA000256582</regNo><rnum>28</rnum><shelfLocName>[강남]4층 종합자료실</shelfLocName><speciesKey>5374839209</speciesKey><title>두근두근 파이썬  : 쉽고! 재밌고! 흥미로운 코딩 맛!</title></item><item><appendixYn>N</appendixYn><author>지은이: 스티븐 로트 ;옮긴이: 오현석</author><bookKey>5343805938</bookKey><callNo>005.133-ㄹ652ㅎ</callNo><controlNo>KMO201702298</controlNo><isbn>9788960779761</isbn><libName>강남도서관</libName><manageCode>MA</manageCode><pubYear>2017</pubYear><publisher>에이콘출판</publisher><regNo>EMA000251595</regNo><rnum>29</rnum><shelfLocName>[강남]4층 종합자료실</shelfLocName><speciesKey>5343805936</speciesKey><title>함수형 파이썬 프로그래밍  : 파이썬으로 배우는 쉬운 함수형 프로그래밍</title></item><item><appendixYn>N</appendixYn><author>지은이: 사이토 고키 ;옮긴이: 개앞맵시</author><bookKey>5347841888</bookKey><callNo>004.73-ㅅ156ㅁ</callNo><controlNo>KMO201701856</controlNo><isbn>9788968484636</isbn><libName>강남도서관</libName><manageCode>MA</manageCode><pubYear>2017</pubYear><publisher>한빛미디어</publisher><regNo>EMA000251440</regNo><rnum>30</rnum><shelfLocName>[강남]4층 종합자료실</shelfLocName><speciesKey>5347841885</speciesKey><title>밑바닥부터 시작하는 딥러닝  : 파이썬으로 익히는 딥러닝 이론과 구현</title></item><item><appendixYn>N</appendixYn><author>에릭 마테스 지음 ;한선용 옮김</author><bookKey>5351678690</bookKey><callNo>005.133-ㅁ342ㄴ</callNo><controlNo>KMO201705626</controlNo><isbn>9788968483561</isbn><libName>강남도서관</libName><manageCode>MA</manageCode><pubYear>2017</pubYear><publisher>한빛미디어</publisher><regNo>EMA000253988</regNo><rnum>31</rnum><shelfLocName>[강남]4층 종합자료실</shelfLocName><speciesKey>5351678688</speciesKey><title>나의 첫 파이썬  : 설치부터 시작하는 가장 쉬운 입문서</title></item><item><appendixYn>N</appendixYn><author>아메드 셰리프 지음 ;오지혜,이현진,허혜정 옮김</author><bookKey>5351679189</bookKey><callNo>325.27-ㅅ414ㅅ</callNo><controlNo>KMO201705608</controlNo><isbn>9788960779426</isbn><libName>강남도서관</libName><manageCode>MA</manageCode><pubYear>2017</pubYear><publisher>에이콘</publisher><regNo>EMA000253969</regNo><rnum>32</rnum><shelfLocName>[강남]4층 종합자료실</shelfLocName><speciesKey>5351679187</speciesKey><title>손에 잡히는 실전 비즈니스 인텔리전스  : power bi, 엑셀, d3.js, r, 파이썬, qlik, tableau, microsoft SQL server 툴을 활용한 비즈니스 데이터 활용법</title></item><item><appendixYn>N</appendixYn><author>스티븐 로트 지음</author><bookKey>5344619442</bookKey><callNo>005.113-ㄹ652ㄱ</callNo><controlNo>KMO201700912</controlNo><isbn>9788960779754</isbn><libName>강남도서관</libName><manageCode>MA</manageCode><pubYear>2017</pubYear><publisher>에이콘출판</publisher><regNo>EMA000250683</regNo><rnum>33</rnum><shelfLocName>[강남]4층 종합자료실</shelfLocName><speciesKey>5344619440</speciesKey><title>객체지향 파이썬 프로그래밍 : 파이썬 고급 기능으로 강력한 애플리케이션 개발</title></item><item><appendixYn>N</appendixYn><author>프라틱 조쉬 지음;남기혁,윤여찬 옮김</author><bookKey>5353681738</bookKey><callNo>005.11-ㅍ82파</callNo><controlNo>KMO201702937</controlNo><isbn>9788960778665</isbn><libName>강남도서관</libName><manageCode>MA</manageCode><pubYear>2017</pubYear><publisher>에이콘출판</publisher><regNo>EMA000253467</regNo><rnum>34</rnum><shelfLocName>[강남]4층 종합자료실</shelfLocName><speciesKey>5353681736</speciesKey><title>파이썬으로 배우는 인공지능 : 현실 세계와 지능적으로 상호 작용하는 인공지능 애플리케이션 만들기</title></item><item><appendixYn>N</appendixYn><author>키르시 라만 지음;정기연;안진규;허혜정 옮김</author><bookKey>5353681836</bookKey><callNo>005.133-ㄹ144ㅍ</callNo><controlNo>KMO201702960</controlNo><isbn>9788960776852</isbn><libName>강남도서관</libName><manageCode>MA</manageCode><pubYear>2017</pubYear><publisher>PACKT:에이콘출판주식회사</publisher><regNo>EMA000253490</regNo><rnum>35</rnum><shelfLocName>[강남]4층 종합자료실</shelfLocName><speciesKey>5353681834</speciesKey><title>파이썬 데이터 시각화 마스터</title></item><item><appendixYn>N</appendixYn><author>김주현 지음</author><bookKey>5339551075</bookKey><callNo>005.13-ㄱ934ㅍ</callNo><controlNo>KMO201700986</controlNo><isbn>9788997924271</isbn><libName>강남도서관</libName><manageCode>MA</manageCode><pubYear>2016</pubYear><publisher>로드북</publisher><regNo>EMA000250705</regNo><rnum>36</rnum><shelfLocName>[강남]4층 종합자료실</shelfLocName><speciesKey>5339551069</speciesKey><title>파이썬의 神  : 프로그래밍 언어를 배운다는 것</title></item><item><appendixYn>N</appendixYn><author>지은이: 조훈,김종숙</author><bookKey>5349619990</bookKey><callNo>005.133-ㅈ712ㅍ</callNo><controlNo>KMO201701976</controlNo><isbn>9791158390532</isbn><libName>강남도서관</libName><manageCode>MA</manageCode><pubYear>2017</pubYear><publisher>위키북스</publisher><regNo>EMA000251557</regNo><rnum>37</rnum><shelfLocName>[강남]4층 종합자료실</shelfLocName><speciesKey>5349619988</speciesKey><title>파이썬 실무 프로그래밍  : 시스템/네트워크 관리자를 위한</title></item><item><appendixYn>N</appendixYn><author>이승찬 지음</author><bookKey>5353944151</bookKey><callNo>005.1-ㅇ785ㅁ</callNo><controlNo>KMO201706969</controlNo><isbn>9791160501728</isbn><libName>강남도서관</libName><manageCode>MA</manageCode><pubYear>2017</pubYear><publisher>길벗</publisher><regNo>EMA000254739</regNo><rnum>38</rnum><shelfLocName>[강남]4층 종합자료실</shelfLocName><speciesKey>5353944149</speciesKey><title>모두의 알고리즘  = Algorithms for everyone  : with 파이썬  : 컴퓨팅 사고를 위한 기초 알고리즘</title></item><item><appendixYn>N</appendixYn><author>조대표 지음</author><bookKey>5353944580</bookKey><callNo>005.133-ㅈ592ㅇ</callNo><controlNo>KMO201706967</controlNo><isbn>9791158390631</isbn><libName>강남도서관</libName><manageCode>MA</manageCode><pubYear>2017</pubYear><publisher>위키북스</publisher><regNo>EMA000254737</regNo><rnum>39</rnum><shelfLocName>[강남]4층 종합자료실</shelfLocName><speciesKey>5353944578</speciesKey><title>(파이썬으로 배우는) 알고리즘 트레이딩  : 내 손으로 만드는 자동 주식 거래 시스템</title></item><item><appendixYn>N</appendixYn><author>미샤 고렐릭;이안 오스발트 지음;김영근;오현석 옮김</author><bookKey>5319229672</bookKey><callNo>005.133-ㄱ337ㄱ</callNo><controlNo>KMO201605442</controlNo><isbn>9788968484995</isbn><libName>강남도서관</libName><manageCode>MA</manageCode><pubYear>2016</pubYear><publisher>한빛미디어</publisher><regNo>EMA000247401</regNo><rnum>40</rnum><shelfLocName>[강남]4층 종합자료실</shelfLocName><speciesKey>5319229670</speciesKey><title>고성능 파이썬 : 파이썬 성능 잠재력을 끌어내는 실용적인 개발 전략서</title></item></items><numOfRows>20</numOfRows><pageNo>2</pageNo><totalCount>161</totalCount></body></response>\n"
     ]
    }
   ],
   "source": [
    "!type src\\ds_open_library_xml.txt"
   ]
  }
 ],
 "metadata": {
  "kernelspec": {
   "display_name": "Python 3 (ipykernel)",
   "language": "python",
   "name": "python3"
  },
  "language_info": {
   "codemirror_mode": {
    "name": "ipython",
    "version": 3
   },
   "file_extension": ".py",
   "mimetype": "text/x-python",
   "name": "python",
   "nbconvert_exporter": "python",
   "pygments_lexer": "ipython3",
   "version": "3.8.11"
  },
  "toc": {
   "base_numbering": 1,
   "nav_menu": {},
   "number_sections": false,
   "sideBar": true,
   "skip_h1_title": true,
   "title_cell": "Table of Contents",
   "title_sidebar": "Contents",
   "toc_cell": true,
   "toc_position": {},
   "toc_section_display": true,
   "toc_window_display": false
  }
 },
 "nbformat": 4,
 "nbformat_minor": 5
}
