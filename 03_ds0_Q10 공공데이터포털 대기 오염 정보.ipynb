{
 "cells": [
  {
   "cell_type": "markdown",
   "id": "august-heading",
   "metadata": {},
   "source": [
    "# 문제 10: 공공데이터포털 대기 오염 정보\n",
    "(ds0_open_data)\n",
    "* 이용API : https://www.data.go.kr/data/15073861/openapi.do\n",
    "---"
   ]
  },
  {
   "cell_type": "markdown",
   "id": "civil-possible",
   "metadata": {
    "toc": true
   },
   "source": [
    "<h1>Table of Contents<span class=\"tocSkip\"></span></h1>\n",
    "<div class=\"toc\"><ul class=\"toc-item\"><li><ul class=\"toc-item\"><li><span><a href=\"#1.-인증키-읽기\" data-toc-modified-id=\"1.-인증키-읽기-0.1\">1. 인증키 읽기</a></span></li><li><span><a href=\"#2.-요청인자-등록\" data-toc-modified-id=\"2.-요청인자-등록-0.2\">2. 요청인자 등록</a></span></li><li><span><a href=\"#3.-URL-생성\" data-toc-modified-id=\"3.-URL-생성-0.3\">3. URL 생성</a></span></li><li><span><a href=\"#4.-URL-호출(요청)\" data-toc-modified-id=\"4.-URL-호출(요청)-0.4\">4. URL 호출(요청)</a></span></li></ul></li><li><span><a href=\"#코드-통합\" data-toc-modified-id=\"코드-통합-1\">코드 통합</a></span></li></ul></div>"
   ]
  },
  {
   "cell_type": "markdown",
   "id": "circular-bulgarian",
   "metadata": {},
   "source": [
    "---\n",
    "### 1. 인증키 읽기"
   ]
  },
  {
   "cell_type": "code",
   "execution_count": 1,
   "id": "geographic-philosophy",
   "metadata": {},
   "outputs": [],
   "source": [
    "import os\n",
    "from src import mylib\n",
    "keyPath=os.path.join(os.getcwd(), 'src', 'key.properties')\n",
    "key=mylib.getKey(keyPath)"
   ]
  },
  {
   "cell_type": "markdown",
   "id": "present-firmware",
   "metadata": {},
   "source": [
    "### 2. 요청인자 등록"
   ]
  },
  {
   "cell_type": "code",
   "execution_count": 2,
   "id": "scientific-penalty",
   "metadata": {},
   "outputs": [
    {
     "name": "stdout",
     "output_type": "stream",
     "text": [
      "ArpltnInforInqireSvc/getMinuDustFrcstDspth\n"
     ]
    }
   ],
   "source": [
    "import os\n",
    "SERVICE='ArpltnInforInqireSvc'\n",
    "OPERATION_NAME='getMinuDustFrcstDspth'\n",
    "# params1=os.path.join(SERVICE,OPERATION_NAME)\n",
    "params1=\"/\".join([SERVICE,OPERATION_NAME])\n",
    "print (params1)"
   ]
  },
  {
   "cell_type": "code",
   "execution_count": 3,
   "id": "cleared-preliminary",
   "metadata": {},
   "outputs": [
    {
     "name": "stdout",
     "output_type": "stream",
     "text": [
      "searchDate=2021-08-10\n"
     ]
    }
   ],
   "source": [
    "import urllib\n",
    "_d=dict()\n",
    "\n",
    "#_d['stationName']='종로구'\n",
    "_d['searchDate']='2021-08-10'\n",
    "params2 = urllib.parse.urlencode(_d)\n",
    "\n",
    "print (params2)"
   ]
  },
  {
   "cell_type": "markdown",
   "id": "instrumental-policy",
   "metadata": {},
   "source": [
    "### 3. URL 생성\n",
    "serviceKey에 대문자 섞임 (위와 다름)"
   ]
  },
  {
   "cell_type": "code",
   "execution_count": 4,
   "id": "ruled-preview",
   "metadata": {},
   "outputs": [
    {
     "name": "stdout",
     "output_type": "stream",
     "text": [
      "http://apis.data.go.kr/B552584\n"
     ]
    }
   ],
   "source": [
    "params=params1+'?'+'serviceKey='+key['teacher']+'&'+params2\n",
    "#print params\n",
    "\n",
    "import urllib\n",
    "#OLD: _url='http://openapi.airkorea.or.kr/openapi/services/rest/ArpltnInforInqireSvc'\n",
    "_url='http://apis.data.go.kr/B552584'\n",
    "\n",
    "print(_url)"
   ]
  },
  {
   "cell_type": "code",
   "execution_count": 5,
   "id": "oriental-provider",
   "metadata": {},
   "outputs": [
    {
     "name": "stdout",
     "output_type": "stream",
     "text": [
      "http://apis.data.go.kr/B552584/ArpltnInforInqireSvc/getMinuDustFrcstDspth?serviceKey=8Bx4C1%2Bbogiu3i0M5k7aqOf%2BTA5yCWK%2BFDI7nTSJ0oAhDj1NC5CtbI1TMgFmnpuZxJ9LBoCScqBhuw5sul2tmQ%3D%3D&searchDate=2021-08-10\n"
     ]
    }
   ],
   "source": [
    "url=\"/\".join([_url,params])\n",
    "print (url)"
   ]
  },
  {
   "cell_type": "markdown",
   "id": "steady-fight",
   "metadata": {},
   "source": [
    "### 4. URL 호출(요청)"
   ]
  },
  {
   "cell_type": "code",
   "execution_count": 6,
   "id": "oriented-incidence",
   "metadata": {},
   "outputs": [
    {
     "name": "stdout",
     "output_type": "stream",
     "text": [
      "<?xml version=\"1.0\" encoding=\"UTF-8\"?>\r\n",
      "<response>\n",
      "  <header>\n",
      "    <resultCode>00</resultCode>\n",
      "    <resultMsg>NORMAL_CODE</resultMsg>\n",
      "  </header>\n",
      "  <body>\n",
      "    <items/>\n",
      "    <numOfRows>10</numOfRows>\n",
      "    <pageNo>1</pageNo>\n",
      "    <totalCount>0</totalCount>\n",
      "  </body>\n",
      "</response>\n"
     ]
    }
   ],
   "source": [
    "import requests\n",
    "\n",
    "data=requests.get(url).text\n",
    "\n",
    "print (data)"
   ]
  },
  {
   "cell_type": "markdown",
   "id": "quarterly-breach",
   "metadata": {},
   "source": [
    "---\n",
    "## 코드 통합 "
   ]
  },
  {
   "cell_type": "code",
   "execution_count": 9,
   "id": "favorite-vegetation",
   "metadata": {},
   "outputs": [
    {
     "name": "stdout",
     "output_type": "stream",
     "text": [
      "Overwriting src/ds_open_gokr_ex.py\n"
     ]
    }
   ],
   "source": [
    "%%writefile src/ds_open_gokr_ex.py\n",
    "#!/usr/bin/env python\n",
    "# coding: utf-8\n",
    "import os\n",
    "import requests\n",
    "import urllib\n",
    "import mylib\n",
    "\n",
    "def doIt():\n",
    "    # (1) key\n",
    "    keyPath=os.path.join(os.getcwd(), 'src', 'key.properties')\n",
    "    key=mylib.getKey(keyPath)\n",
    "    keygokr=key['gokr'] # keygokr='8Bx4C1%2B...'\n",
    "    # (2) service + operation\n",
    "    SERVICE='ArpltnInforInqireSvc'\n",
    "    OPERATION_NAME='getMinuDustFrcstDspth'\n",
    "    params1=\"/\".join([SERVICE,OPERATION_NAME])\n",
    "    # (3) query params encoding\n",
    "    _d=dict()\n",
    "    _d['searchDate']='2021-08-10'\n",
    "    params2 = urllib.parse.urlencode(_d)\n",
    "    # (4) make a full url\n",
    "    params=params1+'?'+'serviceKey='+keygokr+'&'+params2\n",
    "    #OLD: _url='http://openapi.airkorea.or.kr/openapi/services/rest/ArpltnInforInqireSvc'\n",
    "    _url='http://apis.data.go.kr/B552584'\n",
    "    #url=urllib.parse.urljoin(_url,params)\n",
    "    url=\"/\".join([_url,params])\n",
    "    # (5) get data\n",
    "    data=requests.get(url).text\n",
    "    print (data)\n",
    "\n",
    "if __name__ == \"__main__\":\n",
    "    doIt()"
   ]
  },
  {
   "cell_type": "code",
   "execution_count": 10,
   "id": "psychological-closure",
   "metadata": {},
   "outputs": [
    {
     "name": "stdout",
     "output_type": "stream",
     "text": [
      "<?xml version=\"1.0\" encoding=\"UTF-8\"?>\n",
      "\n",
      "<response>\n",
      "  <header>\n",
      "    <resultCode>00</resultCode>\n",
      "    <resultMsg>NORMAL_CODE</resultMsg>\n",
      "  </header>\n",
      "  <body>\n",
      "    <items/>\n",
      "    <numOfRows>10</numOfRows>\n",
      "    <pageNo>1</pageNo>\n",
      "    <totalCount>0</totalCount>\n",
      "  </body>\n",
      "</response>\n"
     ]
    }
   ],
   "source": [
    "!python src/ds_open_gokr_ex.py"
   ]
  },
  {
   "cell_type": "code",
   "execution_count": null,
   "id": "cd5f6047",
   "metadata": {},
   "outputs": [],
   "source": []
  }
 ],
 "metadata": {
  "kernelspec": {
   "display_name": "Python 3 (ipykernel)",
   "language": "python",
   "name": "python3"
  },
  "language_info": {
   "codemirror_mode": {
    "name": "ipython",
    "version": 3
   },
   "file_extension": ".py",
   "mimetype": "text/x-python",
   "name": "python",
   "nbconvert_exporter": "python",
   "pygments_lexer": "ipython3",
   "version": "3.8.11"
  },
  "toc": {
   "base_numbering": 1,
   "nav_menu": {},
   "number_sections": false,
   "sideBar": true,
   "skip_h1_title": true,
   "title_cell": "Table of Contents",
   "title_sidebar": "Contents",
   "toc_cell": true,
   "toc_position": {},
   "toc_section_display": true,
   "toc_window_display": false
  }
 },
 "nbformat": 4,
 "nbformat_minor": 5
}
