{
 "cells": [
  {
   "cell_type": "markdown",
   "id": "066bcd35",
   "metadata": {},
   "source": [
    "# 빅데이터분석(21_2)\n",
    "### 휴먼지능정보공학과 201810793 이연우\n",
    "* 12주차 과제\n",
    "---"
   ]
  },
  {
   "cell_type": "markdown",
   "id": "c3eab7c4",
   "metadata": {},
   "source": [
    "'제74주년 경찰의 날 기념식 축사' 전문을 읽고 TF-IDF를 계산.\n",
    "\n",
    "전문은 http://www.korea.kr/archive/speechView.do?newsId=132031636 에서 읽을 수 있다."
   ]
  },
  {
   "cell_type": "markdown",
   "id": "6821d939",
   "metadata": {},
   "source": [
    "- 텍스트 파일 저장"
   ]
  },
  {
   "cell_type": "code",
   "execution_count": 15,
   "id": "50967215",
   "metadata": {},
   "outputs": [
    {
     "name": "stdout",
     "output_type": "stream",
     "text": [
      "Writing data/policeDay.txt\n"
     ]
    }
   ],
   "source": [
    "%%writefile data/policeDay.txt\n",
    "존경하는 국민 여러분, 경찰관 여러분, 일흔네 돌 ‘경찰의 날’입니다.\n",
    "\n",
    "국민의 안전을 위해 밤낮없이 애쓰시는 전국의 15만 경찰관 여러분께 먼저 감사를 드립니다. 전몰·순직 경찰관들의 고귀한 희생에 경의를 표합니다. 유가족 여러분께 위로의 마음을 전합니다.\n",
    "\n",
    "오늘 홍조근정훈장을 받으신 중앙경찰학교장 이은정 치안감님, 근정포장을 받으신 광주남부경찰서 김동현 경감님을 비롯한 수상자 여러분께 각별한 축하와 감사를 드립니다. 또한 경찰 영웅으로 추서되신 차일혁, 최중락님께 국민의 사랑을 전해드립니다.\n",
    "\n",
    "사랑하는 경찰관 여러분,\n",
    "\n",
    "여러분의 헌신적 노력으로 우리의 치안은 참 좋아졌습니다. 지난해 범죄 발생은 2015년에 비해 15.1% 줄었습니다. 같은 기간 교통사고 사망자는 18.2% 감소했습니다.\n",
    "\n",
    "치안의 개선은 국민의 체감으로 나타나고 있습니다. 올해 상반기 국민의 체감안전도는 74.5점으로 역대 최고를 기록했습니다. 범죄안전도는 처음으로 80점을 넘었습니다.\n",
    "\n",
    "한국을 찾는 외국 관광객들도 우리의 치안을 가장 좋게 평가합니다. 한국의 무엇이 좋았느냐는 물음에 외국 관광객들은 7년 연속으로 치안이 가장 좋았다고 응답했습니다. 개발도상국들은 우리의 경찰을 모범으로 삼으려 합니다.\n",
    "\n",
    "올해는 ‘경찰의 날’에 맞춰 국제치안산업박람회와 서울국제경찰청장회의가 함께 열립니다. 우리의 치안 발전과 치안산업 발전이 세계에 더 널리 알려지게 될 것입니다.\n",
    "\n",
    "자랑스러운 경찰관 여러분,\n",
    "\n",
    "경찰헌장은 “나라와 겨레를 위하여 충성”을 다한다는 다짐으로 시작합니다. 헌장처럼 우리 경찰은 ‘나라와 겨레를 위한 충성’의 길을 걸으려 노력해 왔습니다.\n",
    "\n",
    "대한민국 경찰은 1945년 광복 직후에 공식 탄생했습니다. 그러나 그 뿌리는 대한민국 임시정부에 닿아 있습니다.\n",
    "\n",
    "임시정부 초대 경무국장 백범 김구 선생과 나석주, 나창헌, 유상근 의사 등 임시정부 경찰은 앞장서서 일제와 싸웠습니다. 일본 관헌에게 폭탄을 던지고, 밀정을 응징하며, 임정 요인들을 보호했습니다.\n",
    "\n",
    "광복 이후 6·25전쟁에서도 경찰은 국군과 함께 피를 흘렸습니다. 그 전쟁에서 1만여 명의 경찰관이 목숨을 잃었습니다. 그 후로도 경찰은 국민의 안전을 지키고 국가의 안보를 도왔습니다. 역대 경찰의 헌신에 대해 국민과 함께 거듭 감사의 말씀을 드립니다. 감사합니다.\n",
    "\n",
    "그러나 잘못도 없지는 않았습니다. 한때 경찰은 공권력을 무리하게 집행하며 국민의 인권을 훼손했습니다. 부실하거나 불공정한 수사로 국민의 지탄을 받은 적도 있습니다. 무기력한 법 집행으로 국민께 걱정을 드리기도 했습니다.\n",
    "\n",
    "지금 경찰은 과거를 돌아보며 국민과 국가에 충성하는 경찰로 거듭나려고 노력하고 있습니다. 경찰은 문재인 정부 들어 가장 먼저 개혁위원회를 만들고 자체개혁에 나섰습니다. 경찰의 개혁을 국민은 큰 기대로 주목하고 있습니다.\n",
    "\n",
    "검경 수사권 조정과 자치경찰제 도입이 국회에서 논의되고 있습니다. 국회가 조속히 입법을 매듭지어 주시기 바랍니다. 그리하여 경찰이 중립성, 공정성, 전문성을 갖추고 본연의 임무를 충실히 수행하는 선진경찰로 더욱 발전해 주기를 소망합니다.\n",
    "\n",
    "정부는 경찰의 근무여건을 개선하기 위해 노력하고 있습니다. 이미 경찰관 8,572명을 늘렸고, 앞으로도 충원을 계속할 것입니다. 특히 일선 경찰의 근무환경을 개선하겠습니다.\n",
    "\n",
    "정부는 누구도 법 위에 군림하지 못하는 법치주의를 확립하고자 합니다. 그러자면 검찰과 경찰이 법을 누구에게나 엄정하고 공정하게 집행해야 됩니다. 수사 또한 엄정하고 공정해야 합니다. 동시에 검찰과 경찰 스스로도 법을 엄격히 준수해야 합니다. 특히 공권력이 인권의 제약을 수반하는 경우에는 절제하며 행사하는 것이 마땅합니다. 검찰개혁과 경찰개혁은 더 미룰 수 없는 시대적 과제가 됐습니다.\n",
    "\n",
    "경찰헌장은 따뜻한 경찰, 의로운 경찰, 공정한 경찰을 다짐합니다. 흔들림 없이 그 길로 가시기 바랍니다. 국민이 여러분을 응원할 것입니다.\n",
    "\n",
    "행사를 준비하신 민갑룡 경찰청장님과 관계자 여러분, 고맙습니다. 함께하신 진영 행정안전부 장관님, 이용범 인천시의회 의장님, 박정훈 경찰위원장님, 강영규 경우회장님과 역대 경찰청장님, 그리고 우리 시민 경찰님들을 비롯한 내빈 여러분, 고맙습니다.\n",
    "\n",
    "감사합니다."
   ]
  },
  {
   "cell_type": "code",
   "execution_count": 1,
   "id": "9455163b",
   "metadata": {},
   "outputs": [],
   "source": [
    "# SparkSession 생성\n",
    "import pyspark\n",
    "import os\n",
    "\n",
    "myConf=pyspark.SparkConf()\n",
    "spark = pyspark.sql.SparkSession\\\n",
    "    .builder\\\n",
    "    .master(\"local\")\\\n",
    "    .appName(\"myApp\")\\\n",
    "    .config(conf=myConf)\\\n",
    "    .getOrCreate()"
   ]
  },
  {
   "cell_type": "markdown",
   "id": "535e3706",
   "metadata": {},
   "source": [
    "### 1) DataFrame을 생성"
   ]
  },
  {
   "cell_type": "code",
   "execution_count": 2,
   "id": "a3b0127b",
   "metadata": {},
   "outputs": [],
   "source": [
    "import os\n",
    "from pyspark.sql.types import StructType, StructField, StringType\n",
    "\n",
    "police=spark.read.options(header='false', delimiter='\\t', inferschema=\"true\")\\\n",
    "    .schema(StructType([StructField(\"문장\",StringType()),]))\\\n",
    "    .text(os.path.join(\"data\", \"policeDay.txt\"))"
   ]
  },
  {
   "cell_type": "code",
   "execution_count": 3,
   "id": "015d910b",
   "metadata": {},
   "outputs": [
    {
     "name": "stdout",
     "output_type": "stream",
     "text": [
      "+----------------------------------+\n",
      "|                              문장|\n",
      "+----------------------------------+\n",
      "|  존경하는 국민 여러분, 경찰관 ...|\n",
      "|                                  |\n",
      "| 국민의 안전을 위해 밤낮없이 애...|\n",
      "|                                  |\n",
      "|오늘 홍조근정훈장을 받으신 중앙...|\n",
      "+----------------------------------+\n",
      "only showing top 5 rows\n",
      "\n"
     ]
    }
   ],
   "source": [
    "police.show(5)"
   ]
  },
  {
   "cell_type": "markdown",
   "id": "53c1bc4e",
   "metadata": {},
   "source": [
    "### 2) 단어로 분리해서, 출력"
   ]
  },
  {
   "cell_type": "code",
   "execution_count": 4,
   "id": "0b5abd07",
   "metadata": {},
   "outputs": [],
   "source": [
    "from pyspark.ml.feature import Tokenizer\n",
    "tokenizer = Tokenizer(inputCol=\"문장\", outputCol=\"단어\")\n",
    "tokDf = tokenizer.transform(police)"
   ]
  },
  {
   "cell_type": "code",
   "execution_count": 7,
   "id": "390be997",
   "metadata": {},
   "outputs": [
    {
     "name": "stdout",
     "output_type": "stream",
     "text": [
      "+---------------------------------+------------------------------+\n",
      "|                             문장|                          단어|\n",
      "+---------------------------------+------------------------------+\n",
      "| 존경하는 국민 여러분, 경찰관 ...| [존경하는, 국민, 여러분,, ...|\n",
      "|                                 |                            []|\n",
      "|국민의 안전을 위해 밤낮없이 애...|[국민의, 안전을, 위해, 밤낮...|\n",
      "+---------------------------------+------------------------------+\n",
      "only showing top 3 rows\n",
      "\n"
     ]
    }
   ],
   "source": [
    "tokDf.show(3)"
   ]
  },
  {
   "cell_type": "code",
   "execution_count": 5,
   "id": "f5b5edf7",
   "metadata": {},
   "outputs": [
    {
     "name": "stdout",
     "output_type": "stream",
     "text": [
      "존경하는 국민 여러분, 경찰관 여러분, 일흔네 돌 ‘경찰의 날’입니다.\n",
      "\n",
      "국민의 안전을 위해 밤낮없이 애쓰시는 전국의 15만 경찰관 여러분께 먼저 감사를 드립니다. 전몰·순직 경찰관들의 고귀한 희생에 경의를 표합니다. 유가족 여러분께 위로의 마음을 전합니다.\n"
     ]
    }
   ],
   "source": [
    "for r in tokDf.select(\"문장\").take(3):\n",
    "    print (r[0])"
   ]
  },
  {
   "cell_type": "markdown",
   "id": "f8d995a3",
   "metadata": {},
   "source": [
    "#### 컴마, 따옴표, 마침표 제거"
   ]
  },
  {
   "cell_type": "code",
   "execution_count": 12,
   "id": "bb41d683",
   "metadata": {},
   "outputs": [
    {
     "data": {
      "text/plain": [
       "'여러분'"
      ]
     },
     "execution_count": 12,
     "metadata": {},
     "output_type": "execute_result"
    }
   ],
   "source": [
    "'여러분,'.rstrip(',') # 오른쪽 제거"
   ]
  },
  {
   "cell_type": "code",
   "execution_count": 10,
   "id": "965a5315",
   "metadata": {},
   "outputs": [
    {
     "data": {
      "text/plain": [
       "'경찰의'"
      ]
     },
     "execution_count": 10,
     "metadata": {},
     "output_type": "execute_result"
    }
   ],
   "source": [
    "'‘경찰의'.lstrip('‘') # 왼쪽 제거"
   ]
  },
  {
   "cell_type": "code",
   "execution_count": 14,
   "id": "9e036f95",
   "metadata": {},
   "outputs": [
    {
     "data": {
      "text/plain": [
       "'날’입니다'"
      ]
     },
     "execution_count": 14,
     "metadata": {},
     "output_type": "execute_result"
    }
   ],
   "source": [
    "'날’입니다.'.rstrip('.')"
   ]
  },
  {
   "cell_type": "code",
   "execution_count": 15,
   "id": "d18e8e62",
   "metadata": {},
   "outputs": [
    {
     "data": {
      "text/plain": [
       "'날입니다.'"
      ]
     },
     "execution_count": 15,
     "metadata": {},
     "output_type": "execute_result"
    }
   ],
   "source": [
    "'날’입니다.'.replace(\"’\",\"\")"
   ]
  },
  {
   "cell_type": "code",
   "execution_count": 16,
   "id": "d7983e94",
   "metadata": {},
   "outputs": [
    {
     "data": {
      "text/plain": [
       "['여러분', '경찰의', '날입니다']"
      ]
     },
     "execution_count": 16,
     "metadata": {},
     "output_type": "execute_result"
    }
   ],
   "source": [
    "wordList=['여러분,','‘경찰의', '날’입니다.']\n",
    "\n",
    "cleaned=list()\n",
    "for w in wordList:\n",
    "    cleaned.append(w.lstrip('‘').rstrip('.').rstrip(',').replace(\"’\",\"\"))\n",
    "cleaned"
   ]
  },
  {
   "cell_type": "markdown",
   "id": "7e5808bb",
   "metadata": {},
   "source": [
    "#### 숫자 제거"
   ]
  },
  {
   "cell_type": "code",
   "execution_count": 17,
   "id": "d624aa7c",
   "metadata": {},
   "outputs": [
    {
     "name": "stdout",
     "output_type": "stream",
     "text": [
      "['Seoul1']\n"
     ]
    }
   ],
   "source": [
    "import re\n",
    "regex=re.compile('\\d+')#d=숫자\n",
    "cleaned=list()\n",
    "\n",
    "wordList=[\"1\",\"15만\",\"15.1%\",\"74.5점\",\"8,572명을\",\"Seoul1\"]\n",
    "for w in wordList:\n",
    "    if not regex.match(w):\n",
    "        cleaned.append(w)\n",
    "print(cleaned)"
   ]
  },
  {
   "cell_type": "markdown",
   "id": "0f3f39d4",
   "metadata": {},
   "source": [
    "#### udf 함수 : 컴마, 따옴표, 마침표, 숫자 제거"
   ]
  },
  {
   "cell_type": "code",
   "execution_count": 18,
   "id": "da1f3f56",
   "metadata": {},
   "outputs": [],
   "source": [
    "import re\n",
    "def trim(wordList):\n",
    "    regex=re.compile('\\d+')#d=숫자\n",
    "    cleaned=list()\n",
    "    for w in wordList:\n",
    "        if not regex.match(w):\n",
    "            cleaned.append(w.lstrip('‘').rstrip('.').rstrip(',').replace(\"’\",\"\"))\n",
    "    return cleaned"
   ]
  },
  {
   "cell_type": "code",
   "execution_count": 19,
   "id": "7ac039b6",
   "metadata": {},
   "outputs": [
    {
     "data": {
      "text/plain": [
       "['여러분', '경찰의', '날입니다', 'Seoul1']"
      ]
     },
     "execution_count": 19,
     "metadata": {},
     "output_type": "execute_result"
    }
   ],
   "source": [
    "wordList=['여러분,','‘경찰의', '날’입니다.',\"1\",\"15만\",\"15.1%\",\"74.5점\",\"8,572명을\",\"Seoul1\"]\n",
    "trim(wordList)"
   ]
  },
  {
   "cell_type": "markdown",
   "id": "1d4b649b",
   "metadata": {},
   "source": [
    "#### udf에 넣어 컬럼 생성\n",
    "결과 :문자열 배열"
   ]
  },
  {
   "cell_type": "code",
   "execution_count": 21,
   "id": "67566122",
   "metadata": {},
   "outputs": [],
   "source": [
    "from pyspark.sql import functions as f\n",
    "from pyspark.sql.types import ArrayType, StringType\n",
    "trimUdf=f.udf(trim, ArrayType(StringType()))"
   ]
  },
  {
   "cell_type": "code",
   "execution_count": 41,
   "id": "f3cebbbf",
   "metadata": {},
   "outputs": [],
   "source": [
    "wordsDf=tokDf.withColumn(\"정리단어\", trimUdf(f.col('단어')))"
   ]
  },
  {
   "cell_type": "code",
   "execution_count": 42,
   "id": "b0b997a6",
   "metadata": {},
   "outputs": [
    {
     "name": "stdout",
     "output_type": "stream",
     "text": [
      "+----------------------------------------------------------------------------------------------------------------------------------------------------------------------------------+----------------------------------------------------------------------------------------------------------------------------------------------------------------------------------------------------------+-------------------------------------------------------------------------------------------------------------------------------------------------------------------------------------------------+\n",
      "|문장                                                                                                                                                                              |단어                                                                                                                                                                                                      |정리단어                                                                                                                                                                                         |\n",
      "+----------------------------------------------------------------------------------------------------------------------------------------------------------------------------------+----------------------------------------------------------------------------------------------------------------------------------------------------------------------------------------------------------+-------------------------------------------------------------------------------------------------------------------------------------------------------------------------------------------------+\n",
      "|존경하는 국민 여러분, 경찰관 여러분, 일흔네 돌 ‘경찰의 날’입니다.                                                                                                                 |[존경하는, 국민, 여러분,, 경찰관, 여러분,, 일흔네, 돌, ‘경찰의, 날’입니다.]                                                                                                                               |[존경하는, 국민, 여러분, 경찰관, 여러분, 일흔네, 돌, 경찰의, 날입니다]                                                                                                                           |\n",
      "|                                                                                                                                                                                  |[]                                                                                                                                                                                                        |[]                                                                                                                                                                                               |\n",
      "|국민의 안전을 위해 밤낮없이 애쓰시는 전국의 15만 경찰관 여러분께 먼저 감사를 드립니다. 전몰·순직 경찰관들의 고귀한 희생에 경의를 표합니다. 유가족 여러분께 위로의 마음을 전합니다.|[국민의, 안전을, 위해, 밤낮없이, 애쓰시는, 전국의, 15만, 경찰관, 여러분께, 먼저, 감사를, 드립니다., 전몰·순직, 경찰관들의, 고귀한, 희생에, 경의를, 표합니다., 유가족, 여러분께, 위로의, 마음을, 전합니다.]|[국민의, 안전을, 위해, 밤낮없이, 애쓰시는, 전국의, 경찰관, 여러분께, 먼저, 감사를, 드립니다, 전몰·순직, 경찰관들의, 고귀한, 희생에, 경의를, 표합니다, 유가족, 여러분께, 위로의, 마음을, 전합니다]|\n",
      "+----------------------------------------------------------------------------------------------------------------------------------------------------------------------------------+----------------------------------------------------------------------------------------------------------------------------------------------------------------------------------------------------------+-------------------------------------------------------------------------------------------------------------------------------------------------------------------------------------------------+\n",
      "only showing top 3 rows\n",
      "\n"
     ]
    }
   ],
   "source": [
    "wordsDf.show(3,False)"
   ]
  },
  {
   "cell_type": "markdown",
   "id": "4bb92392",
   "metadata": {},
   "source": [
    "### 3) 불용어 구성, 출력 - 축사 전문에서 한글자로 된 단어를 찾아내 스스로 구성"
   ]
  },
  {
   "cell_type": "code",
   "execution_count": 43,
   "id": "e73b16db",
   "metadata": {
    "scrolled": true
   },
   "outputs": [
    {
     "data": {
      "text/plain": [
       "StopWordsRemover_2be09a65365d"
      ]
     },
     "execution_count": 43,
     "metadata": {},
     "output_type": "execute_result"
    }
   ],
   "source": [
    "from pyspark.ml.feature import StopWordsRemover\n",
    "\n",
    "stop = StopWordsRemover(inputCol=\"정리단어\", outputCol=\"불용어 제거\")\n",
    "stop.setStopWords([u\"돌\",u\"참\", u\"더\", u\"그\", u\"큰\", u\"법\", u\"더\", u\"등\"])"
   ]
  },
  {
   "cell_type": "markdown",
   "id": "7bc8e088",
   "metadata": {},
   "source": [
    "### 4) 불용어 제거하고, 출력"
   ]
  },
  {
   "cell_type": "code",
   "execution_count": 45,
   "id": "21497177",
   "metadata": {},
   "outputs": [],
   "source": [
    "stopDf=stop.transform(wordsDf)"
   ]
  },
  {
   "cell_type": "code",
   "execution_count": 46,
   "id": "96220a98",
   "metadata": {},
   "outputs": [
    {
     "name": "stdout",
     "output_type": "stream",
     "text": [
      "['존경하는', '국민', '여러분', '경찰관', '여러분', '일흔네', '경찰의', '날입니다']\n",
      "['']\n",
      "['국민의', '안전을', '위해', '밤낮없이', '애쓰시는', '전국의', '경찰관', '여러분께', '먼저', '감사를', '드립니다', '전몰·순직', '경찰관들의', '고귀한', '희생에', '경의를', '표합니다', '유가족', '여러분께', '위로의', '마음을', '전합니다']\n"
     ]
    }
   ],
   "source": [
    "for r in stopDf.select(\"불용어 제거\").take(3):\n",
    "    print (r[0])"
   ]
  },
  {
   "cell_type": "code",
   "execution_count": 47,
   "id": "e6ef6867",
   "metadata": {},
   "outputs": [
    {
     "data": {
      "text/plain": [
       "[Row(불용어 제거=['존경하는', '국민', '여러분', '경찰관', '여러분', '일흔네', '경찰의', '날입니다']),\n",
       " Row(불용어 제거=['']),\n",
       " Row(불용어 제거=['국민의', '안전을', '위해', '밤낮없이', '애쓰시는', '전국의', '경찰관', '여러분께', '먼저', '감사를', '드립니다', '전몰·순직', '경찰관들의', '고귀한', '희생에', '경의를', '표합니다', '유가족', '여러분께', '위로의', '마음을', '전합니다'])]"
      ]
     },
     "execution_count": 47,
     "metadata": {},
     "output_type": "execute_result"
    }
   ],
   "source": [
    "stopDf.select(\"불용어 제거\").rdd.take(3)"
   ]
  },
  {
   "cell_type": "code",
   "execution_count": 48,
   "id": "82224d95",
   "metadata": {
    "scrolled": true
   },
   "outputs": [
    {
     "data": {
      "text/plain": [
       "[['존경하는', '국민', '여러분', '경찰관', '여러분', '일흔네', '경찰의', '날입니다'], ['']]"
      ]
     },
     "execution_count": 48,
     "metadata": {},
     "output_type": "execute_result"
    }
   ],
   "source": [
    "stopDf.select(\"불용어 제거\").rdd.flatMap(lambda x:x).take(2) # 계층 한개 벗기"
   ]
  },
  {
   "cell_type": "code",
   "execution_count": 49,
   "id": "c0629974",
   "metadata": {},
   "outputs": [
    {
     "data": {
      "text/plain": [
       "['존경하는', '국민', '여러분']"
      ]
     },
     "execution_count": 49,
     "metadata": {},
     "output_type": "execute_result"
    }
   ],
   "source": [
    "stopDf.select(\"불용어 제거\").rdd.flatMap(lambda x:x)\\\n",
    "        .flatMap(lambda x:x).take(3) # 계층 두개 벗기"
   ]
  },
  {
   "cell_type": "markdown",
   "id": "4fa7df05",
   "metadata": {},
   "source": [
    "#### 단어 빈도"
   ]
  },
  {
   "cell_type": "code",
   "execution_count": 53,
   "id": "96072749",
   "metadata": {},
   "outputs": [
    {
     "data": {
      "text/plain": [
       "[(20, ''),\n",
       " (18, '경찰'),\n",
       " (7, '국민의'),\n",
       " (7, '있습니다'),\n",
       " (6, '여러분'),\n",
       " (5, '경찰관'),\n",
       " (4, '우리의'),\n",
       " (4, '합니다'),\n",
       " (3, '여러분께'),\n",
       " (3, '드립니다')]"
      ]
     },
     "execution_count": 53,
     "metadata": {},
     "output_type": "execute_result"
    }
   ],
   "source": [
    "stopDf.select(\"불용어 제거\").rdd.flatMap(lambda x:x).flatMap(lambda x:x)\\\n",
    "    .map(lambda x:x.replace(\"경찰은\",\"경찰\"))\\\n",
    "    .map(lambda x:x.replace(\"경찰의\",\"경찰\"))\\\n",
    "    .map(lambda x:(x,1)).reduceByKey(lambda x,y:x+y)\\\n",
    "    .map(lambda x:(x[1],x[0])).sortByKey(False).take(10)"
   ]
  },
  {
   "cell_type": "markdown",
   "id": "7c72023f",
   "metadata": {},
   "source": [
    "### 5) TF-IDF를 계산하고, 출력"
   ]
  },
  {
   "cell_type": "code",
   "execution_count": 37,
   "id": "05a73f6b",
   "metadata": {},
   "outputs": [],
   "source": [
    "from pyspark.ml.feature import HashingTF, IDF\n",
    "\n",
    "hashTF = HashingTF(inputCol=\"불용어 제거\", outputCol=\"hash\")#, numFeatures=50)\n",
    "hashDf = hashTF.transform(stopDf)\n",
    "\n",
    "idf = IDF(inputCol=\"hash\", outputCol=\"idf\")\n",
    "idfModel = idf.fit(hashDf)\n",
    "idfDf = idfModel.transform(hashDf)"
   ]
  },
  {
   "cell_type": "code",
   "execution_count": 38,
   "id": "59787171",
   "metadata": {},
   "outputs": [
    {
     "name": "stdout",
     "output_type": "stream",
     "text": [
      "+------------------------------------------------------------------------------------------------------------------------------------------------------------------------------------------------------------------------------------------------------------------------+-----------------------------------------------------------------------------------------------------------------------------------------------------+\n",
      "|불용어 제거                                                                                                                                                                                                                                                             |hash                                                                                                                                                 |\n",
      "+------------------------------------------------------------------------------------------------------------------------------------------------------------------------------------------------------------------------------------------------------------------------+-----------------------------------------------------------------------------------------------------------------------------------------------------+\n",
      "|[존경하는, 국민, 여러분,, 경찰관, 여러분,, 일흔네, ‘경찰의, 날’입니다.]                                                                                                                                                                                                 |(50,[10,13,17,23,36,48],[1.0,2.0,1.0,1.0,2.0,1.0])                                                                                                   |\n",
      "|[]                                                                                                                                                                                                                                                                      |(50,[22],[1.0])                                                                                                                                      |\n",
      "|[국민의, 안전을, 위해, 밤낮없이, 애쓰시는, 전국의, 15만, 경찰관, 여러분께, 먼저, 감사를, 드립니다., 전몰·순직, 경찰관들의, 고귀한, 희생에, 경의를, 표합니다., 유가족, 여러분께, 위로의, 마음을, 전합니다.]                                                              |(50,[0,1,3,5,8,10,12,14,16,17,18,19,25,26,28,29,33,37,48],[1.0,1.0,4.0,1.0,1.0,1.0,1.0,1.0,1.0,1.0,1.0,1.0,1.0,1.0,1.0,1.0,2.0,1.0,1.0])             |\n",
      "|[]                                                                                                                                                                                                                                                                      |(50,[22],[1.0])                                                                                                                                      |\n",
      "|[오늘, 홍조근정훈장을, 받으신, 중앙경찰학교장, 이은정, 치안감님,, 근정포장을, 받으신, 광주남부경찰서, 김동현, 경감님을, 비롯한, 수상자, 여러분께, 각별한, 축하와, 감사를, 드립니다., 또한, 경찰, 영웅으로, 추서되신, 차일혁,, 최중락님께, 국민의, 사랑을, 전해드립니다.]|(50,[1,2,3,5,6,7,11,14,15,19,21,24,26,29,30,31,39,43,45,46,49],[1.0,1.0,2.0,1.0,2.0,1.0,1.0,1.0,2.0,1.0,1.0,2.0,1.0,1.0,1.0,2.0,1.0,2.0,1.0,1.0,1.0])|\n",
      "+------------------------------------------------------------------------------------------------------------------------------------------------------------------------------------------------------------------------------------------------------------------------+-----------------------------------------------------------------------------------------------------------------------------------------------------+\n",
      "only showing top 5 rows\n",
      "\n"
     ]
    }
   ],
   "source": [
    "idfDf.select(\"불용어 제거\", \"hash\").show(5, truncate=False)"
   ]
  },
  {
   "cell_type": "markdown",
   "id": "f326215c",
   "metadata": {},
   "source": [
    "#### Word2Vec"
   ]
  },
  {
   "cell_type": "code",
   "execution_count": 55,
   "id": "53234135",
   "metadata": {},
   "outputs": [],
   "source": [
    "from pyspark.ml.feature import Word2Vec\n",
    "word2Vec = Word2Vec(vectorSize=20, minCount=1, inputCol=\"정리단어\",outputCol=\"w2v\")\n",
    "model = word2Vec.fit(wordsDf)\n",
    "w2vf = model.transform(wordsDf)"
   ]
  },
  {
   "cell_type": "code",
   "execution_count": 57,
   "id": "4635adfa",
   "metadata": {},
   "outputs": [
    {
     "name": "stdout",
     "output_type": "stream",
     "text": [
      "+----------+--------------------+\n",
      "|      word|              vector|\n",
      "+----------+--------------------+\n",
      "|  공정해야|[0.02158784307539...|\n",
      "|자치경찰제|[0.01628640852868...|\n",
      "|  공권력을|[0.02070800401270...|\n",
      "+----------+--------------------+\n",
      "only showing top 3 rows\n",
      "\n"
     ]
    }
   ],
   "source": [
    "model.getVectors().show(3)"
   ]
  },
  {
   "cell_type": "code",
   "execution_count": 59,
   "id": "83536991",
   "metadata": {},
   "outputs": [
    {
     "name": "stdout",
     "output_type": "stream",
     "text": [
      "+------+------------------+\n",
      "|  word|        similarity|\n",
      "+------+------------------+\n",
      "|    더|0.6401956081390381|\n",
      "|  국민|0.5464169979095459|\n",
      "|과거를| 0.527594268321991|\n",
      "|엄격히|0.5149363875389099|\n",
      "|    법|0.5075885057449341|\n",
      "+------+------------------+\n",
      "\n"
     ]
    }
   ],
   "source": [
    "model.findSynonyms(\"검경\",5).show()"
   ]
  },
  {
   "cell_type": "markdown",
   "id": "ecb1e37a",
   "metadata": {},
   "source": [
    "### 6) TF-IDF 컬럼을 features로 구성, 출력"
   ]
  },
  {
   "cell_type": "code",
   "execution_count": 39,
   "id": "52491822",
   "metadata": {},
   "outputs": [],
   "source": [
    "from pyspark.ml.feature import Word2Vec\n",
    "\n",
    "word2Vec = Word2Vec(vectorSize=20, minCount=1, inputCol=\"단어\", outputCol=\"w2v\")\n",
    "model = word2Vec.fit(stopDf)\n",
    "w2vDf = model.transform(stopDf)"
   ]
  },
  {
   "cell_type": "code",
   "execution_count": 40,
   "id": "00c5ffa8",
   "metadata": {},
   "outputs": [
    {
     "name": "stdout",
     "output_type": "stream",
     "text": [
      "+-----------+--------------------+\n",
      "|       word|              vector|\n",
      "+-----------+--------------------+\n",
      "|   공정해야|[0.02453462965786...|\n",
      "| 자치경찰제|[-0.0181304961442...|\n",
      "|   공권력을|[-0.0225890763103...|\n",
      "|흘렸습니다.|[-0.0221849177032...|\n",
      "|     만들고|[0.02051339671015...|\n",
      "|     헌신에|[-0.0082396464422...|\n",
      "|    나창헌,|[-0.0022735293023...|\n",
      "|       닿아|[0.02435968257486...|\n",
      "|         돌|[-0.0093798488378...|\n",
      "|           |[0.02439695037901...|\n",
      "|     민갑룡|[-0.0129172215238...|\n",
      "|     수상자|[-0.0239967424422...|\n",
      "|       기간|[-0.0056580347009...|\n",
      "|     시대적|[0.01546906866133...|\n",
      "|     일흔네|[-0.0209828149527...|\n",
      "|  했습니다.|[0.00209081033244...|\n",
      "|       범죄|[-0.0155931245535...|\n",
      "|  됐습니다.|[0.00921649578958...|\n",
      "|       검경|[-0.0141232144087...|\n",
      "|   공권력이|[0.02148694545030...|\n",
      "+-----------+--------------------+\n",
      "only showing top 20 rows\n",
      "\n"
     ]
    }
   ],
   "source": [
    "model.getVectors().show()"
   ]
  }
 ],
 "metadata": {
  "kernelspec": {
   "display_name": "Python 3 (ipykernel)",
   "language": "python",
   "name": "python3"
  },
  "language_info": {
   "codemirror_mode": {
    "name": "ipython",
    "version": 3
   },
   "file_extension": ".py",
   "mimetype": "text/x-python",
   "name": "python",
   "nbconvert_exporter": "python",
   "pygments_lexer": "ipython3",
   "version": "3.8.11"
  },
  "toc": {
   "base_numbering": 1,
   "nav_menu": {},
   "number_sections": false,
   "sideBar": false,
   "skip_h1_title": false,
   "title_cell": "Table of Contents",
   "title_sidebar": "Contents",
   "toc_cell": false,
   "toc_position": {},
   "toc_section_display": false,
   "toc_window_display": false
  }
 },
 "nbformat": 4,
 "nbformat_minor": 5
}
