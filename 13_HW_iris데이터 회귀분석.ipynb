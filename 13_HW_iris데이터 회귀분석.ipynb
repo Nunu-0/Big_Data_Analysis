{
 "cells": [
  {
   "cell_type": "markdown",
   "id": "a986e1ef",
   "metadata": {},
   "source": [
    "# 빅데이터분석(21_2)\n",
    "### 휴먼지능정보공학과 201810793 이연우\n",
    "* 13주차 과제\n",
    "---"
   ]
  },
  {
   "cell_type": "markdown",
   "id": "8150fcc5",
   "metadata": {},
   "source": [
    "# iris데이터 회귀분석"
   ]
  },
  {
   "cell_type": "markdown",
   "id": "39e766d0",
   "metadata": {},
   "source": [
    "독립변수는 petal_length 컬럼, 종속변수는 petal_width 컬럼으로 해보자."
   ]
  },
  {
   "cell_type": "code",
   "execution_count": 1,
   "id": "9d1dfd3e",
   "metadata": {},
   "outputs": [],
   "source": [
    "# SparkSession 생성\n",
    "import pyspark\n",
    "import os\n",
    "\n",
    "myConf=pyspark.SparkConf()\n",
    "spark = pyspark.sql.SparkSession\\\n",
    "    .builder\\\n",
    "    .master(\"local\")\\\n",
    "    .appName(\"myApp\")\\\n",
    "    .config(conf=myConf)\\\n",
    "    .getOrCreate()"
   ]
  },
  {
   "cell_type": "markdown",
   "id": "a90e1ed3",
   "metadata": {},
   "source": [
    "### 1) DataFrame 생성"
   ]
  },
  {
   "cell_type": "code",
   "execution_count": 2,
   "id": "2f74288f",
   "metadata": {},
   "outputs": [],
   "source": [
    "import pandas as pd\n",
    "\n",
    "file_name = \"https://archive.ics.uci.edu/ml/machine-learning-databases/iris/iris.data\"\n",
    "iris = pd.read_csv(file_name, names=[\"sepal_length\",\"sepal_width\",\"petal_length\", \"petal_width\",\"species\"])"
   ]
  },
  {
   "cell_type": "code",
   "execution_count": 3,
   "id": "31045ad4",
   "metadata": {},
   "outputs": [
    {
     "name": "stdout",
     "output_type": "stream",
     "text": [
      "root\n",
      " |-- sepal_length: double (nullable = true)\n",
      " |-- sepal_width: double (nullable = true)\n",
      " |-- petal_length: double (nullable = true)\n",
      " |-- petal_width: double (nullable = true)\n",
      " |-- species: string (nullable = true)\n",
      "\n",
      "+------------+-----------+------------+-----------+-----------+\n",
      "|sepal_length|sepal_width|petal_length|petal_width|    species|\n",
      "+------------+-----------+------------+-----------+-----------+\n",
      "|         5.1|        3.5|         1.4|        0.2|Iris-setosa|\n",
      "|         4.9|        3.0|         1.4|        0.2|Iris-setosa|\n",
      "|         4.7|        3.2|         1.3|        0.2|Iris-setosa|\n",
      "|         4.6|        3.1|         1.5|        0.2|Iris-setosa|\n",
      "|         5.0|        3.6|         1.4|        0.2|Iris-setosa|\n",
      "|         5.4|        3.9|         1.7|        0.4|Iris-setosa|\n",
      "|         4.6|        3.4|         1.4|        0.3|Iris-setosa|\n",
      "|         5.0|        3.4|         1.5|        0.2|Iris-setosa|\n",
      "|         4.4|        2.9|         1.4|        0.2|Iris-setosa|\n",
      "|         4.9|        3.1|         1.5|        0.1|Iris-setosa|\n",
      "|         5.4|        3.7|         1.5|        0.2|Iris-setosa|\n",
      "|         4.8|        3.4|         1.6|        0.2|Iris-setosa|\n",
      "|         4.8|        3.0|         1.4|        0.1|Iris-setosa|\n",
      "|         4.3|        3.0|         1.1|        0.1|Iris-setosa|\n",
      "|         5.8|        4.0|         1.2|        0.2|Iris-setosa|\n",
      "|         5.7|        4.4|         1.5|        0.4|Iris-setosa|\n",
      "|         5.4|        3.9|         1.3|        0.4|Iris-setosa|\n",
      "|         5.1|        3.5|         1.4|        0.3|Iris-setosa|\n",
      "|         5.7|        3.8|         1.7|        0.3|Iris-setosa|\n",
      "|         5.1|        3.8|         1.5|        0.3|Iris-setosa|\n",
      "+------------+-----------+------------+-----------+-----------+\n",
      "only showing top 20 rows\n",
      "\n"
     ]
    }
   ],
   "source": [
    "irisDf=spark.createDataFrame(iris)\n",
    "irisDf.printSchema()\n",
    "irisDf.show()"
   ]
  },
  {
   "cell_type": "markdown",
   "id": "538b586d",
   "metadata": {},
   "source": [
    "### 2) 회귀선 그래프"
   ]
  },
  {
   "cell_type": "code",
   "execution_count": 4,
   "id": "22cbadaa",
   "metadata": {
    "scrolled": true
   },
   "outputs": [
    {
     "data": {
      "text/plain": [
       "<seaborn.axisgrid.FacetGrid at 0x25a40917d30>"
      ]
     },
     "execution_count": 4,
     "metadata": {},
     "output_type": "execute_result"
    },
    {
     "data": {
      "image/png": "[encoded data removed]",
      "text/plain": [
       "<Figure size 463.25x360 with 1 Axes>"
      ]
     },
     "metadata": {
      "needs_background": "light"
     },
     "output_type": "display_data"
    }
   ],
   "source": [
    "import seaborn as sns\n",
    "\n",
    "sns.lmplot(x=\"petal_length\", y=\"petal_width\", data=iris, hue='species')"
   ]
  },
  {
   "cell_type": "markdown",
   "id": "aacb57e6",
   "metadata": {},
   "source": [
    "### 3) Spark를 사용하여 회귀분석하고 계수 출력"
   ]
  },
  {
   "cell_type": "code",
   "execution_count": 5,
   "id": "ba1a3f7e",
   "metadata": {},
   "outputs": [],
   "source": [
    "(trainDf, testDf) = irisDf.randomSplit([0.9, 0.1])"
   ]
  },
  {
   "cell_type": "code",
   "execution_count": 6,
   "id": "ee8ceccf",
   "metadata": {},
   "outputs": [],
   "source": [
    "from pyspark.ml.feature import StringIndexer\n",
    "\n",
    "stringIndexer = StringIndexer(inputCol=\"species\", outputCol=\"speciesIndex\")"
   ]
  },
  {
   "cell_type": "code",
   "execution_count": 7,
   "id": "397d542f",
   "metadata": {},
   "outputs": [],
   "source": [
    "from pyspark.ml.feature import OneHotEncoder\n",
    "\n",
    "encoder = OneHotEncoder(inputCol=\"speciesIndex\", outputCol=\"speciesVec\")"
   ]
  },
  {
   "cell_type": "code",
   "execution_count": 8,
   "id": "538a5b8e",
   "metadata": {},
   "outputs": [],
   "source": [
    "from pyspark.ml.feature import VectorAssembler\n",
    "va = VectorAssembler(inputCols = [\"speciesVec\", \"petal_width\"],\n",
    "                                   outputCol = 'features')"
   ]
  },
  {
   "cell_type": "code",
   "execution_count": 9,
   "id": "a0de3dcd",
   "metadata": {},
   "outputs": [],
   "source": [
    "from pyspark.ml.regression import LinearRegression\n",
    "lr = LinearRegression(featuresCol = 'features', labelCol='petal_length', maxIter=10, regParam=0.3, elasticNetParam=0.8)"
   ]
  },
  {
   "cell_type": "code",
   "execution_count": 10,
   "id": "fa9643e1",
   "metadata": {},
   "outputs": [],
   "source": [
    "from pyspark.ml import Pipeline\n",
    "\n",
    "pipeline = Pipeline(stages=[stringIndexer, encoder, va, lr])"
   ]
  },
  {
   "cell_type": "code",
   "execution_count": 11,
   "id": "064f6509",
   "metadata": {},
   "outputs": [],
   "source": [
    "model = pipeline.fit(trainDf)\n",
    "modelTrainDf = model.transform(trainDf)"
   ]
  },
  {
   "cell_type": "code",
   "execution_count": 12,
   "id": "58c78141",
   "metadata": {},
   "outputs": [
    {
     "name": "stdout",
     "output_type": "stream",
     "text": [
      "Coefficients: [0.0,-1.0561587297754687,1.2661141606274997]\n",
      "Intercept: 2.581\n"
     ]
    }
   ],
   "source": [
    "print(\"Coefficients: {}\".format(model.stages[-1].coefficients))\n",
    "print(\"Intercept: {:.3f}\".format(model.stages[-1].intercept))"
   ]
  },
  {
   "cell_type": "markdown",
   "id": "c5d07fd4",
   "metadata": {},
   "source": [
    "### 4) 실제와 예측 출력"
   ]
  },
  {
   "cell_type": "code",
   "execution_count": 13,
   "id": "20dd1e33",
   "metadata": {
    "scrolled": true
   },
   "outputs": [],
   "source": [
    "modelTestDf=model.transform(testDf)"
   ]
  },
  {
   "cell_type": "code",
   "execution_count": 14,
   "id": "5b3e69f9",
   "metadata": {},
   "outputs": [
    {
     "name": "stdout",
     "output_type": "stream",
     "text": [
      "+------------+-----------------+\n",
      "|petal_length|       prediction|\n",
      "+------------+-----------------+\n",
      "|         1.3| 1.77794061308964|\n",
      "|         1.3| 1.77794061308964|\n",
      "|         1.4| 1.90455202915239|\n",
      "|         1.2| 1.77794061308964|\n",
      "|         4.4|4.100213503492609|\n",
      "|         4.9|5.113104831994608|\n",
      "|         5.0|4.480047751680859|\n",
      "|         4.5|4.480047751680859|\n",
      "|         4.5|4.480047751680859|\n",
      "|         5.6|5.239716248057358|\n",
      "+------------+-----------------+\n",
      "only showing top 10 rows\n",
      "\n"
     ]
    }
   ],
   "source": [
    "modelTestDf.select('petal_length','prediction').show(10)"
   ]
  },
  {
   "cell_type": "markdown",
   "id": "b4f3fcb5",
   "metadata": {},
   "source": [
    "### 5) 정확성 평가 출력"
   ]
  },
  {
   "cell_type": "code",
   "execution_count": 15,
   "id": "3dbb3c2a",
   "metadata": {},
   "outputs": [],
   "source": [
    "from pyspark.ml.evaluation import RegressionEvaluator\n",
    "\n",
    "evaluator=RegressionEvaluator(labelCol=\"petal_length\", predictionCol=\"prediction\", metricName=\"rmse\")"
   ]
  },
  {
   "cell_type": "code",
   "execution_count": 16,
   "id": "deda2edd",
   "metadata": {},
   "outputs": [],
   "source": [
    "rmse=evaluator.evaluate(modelTestDf)"
   ]
  },
  {
   "cell_type": "code",
   "execution_count": 17,
   "id": "8c7122e8",
   "metadata": {},
   "outputs": [
    {
     "data": {
      "text/plain": [
       "'Root Mean Squared Error (RMSE) on test data: 0.623'"
      ]
     },
     "execution_count": 17,
     "metadata": {},
     "output_type": "execute_result"
    }
   ],
   "source": [
    "f\"Root Mean Squared Error (RMSE) on test data: {rmse:.3f}\""
   ]
  },
  {
   "cell_type": "code",
   "execution_count": 18,
   "id": "1b11d344",
   "metadata": {},
   "outputs": [],
   "source": [
    "from pyspark.ml.evaluation import RegressionEvaluator\n",
    "\n",
    "evaluator=RegressionEvaluator(labelCol=\"petal_length\", predictionCol=\"prediction\", metricName=\"r2\")"
   ]
  },
  {
   "cell_type": "code",
   "execution_count": 19,
   "id": "3c70f30e",
   "metadata": {},
   "outputs": [
    {
     "data": {
      "text/plain": [
       "'r2: 0.895'"
      ]
     },
     "execution_count": 19,
     "metadata": {},
     "output_type": "execute_result"
    }
   ],
   "source": [
    "f\"r2: {evaluator.evaluate(modelTestDf):.3f}\""
   ]
  },
  {
   "cell_type": "code",
   "execution_count": null,
   "id": "7ec95d43",
   "metadata": {},
   "outputs": [],
   "source": []
  }
 ],
 "metadata": {
  "kernelspec": {
   "display_name": "Python 3 (ipykernel)",
   "language": "python",
   "name": "python3"
  },
  "language_info": {
   "codemirror_mode": {
    "name": "ipython",
    "version": 3
   },
   "file_extension": ".py",
   "mimetype": "text/x-python",
   "name": "python",
   "nbconvert_exporter": "python",
   "pygments_lexer": "ipython3",
   "version": "3.8.11"
  },
  "toc": {
   "base_numbering": 1,
   "nav_menu": {},
   "number_sections": false,
   "sideBar": false,
   "skip_h1_title": false,
   "title_cell": "Table of Contents",
   "title_sidebar": "Contents",
   "toc_cell": false,
   "toc_position": {},
   "toc_section_display": false,
   "toc_window_display": false
  }
 },
 "nbformat": 4,
 "nbformat_minor": 5
}
