{
 "cells": [
  {
   "cell_type": "markdown",
   "id": "32b991d4",
   "metadata": {},
   "source": [
    "# 빅데이터분석(21_2)\n",
    "### 휴먼지능정보공학과 201810793 이연우\n",
    "* 7주차 과제\n",
    "---"
   ]
  },
  {
   "cell_type": "markdown",
   "id": "94f84cf6",
   "metadata": {
    "toc": true
   },
   "source": [
    "<h1>Table of Contents<span class=\"tocSkip\"></span></h1>\n",
    "<div class=\"toc\"><ul class=\"toc-item\"><li><ul class=\"toc-item\"><li><span><a href=\"#휴먼지능정보공학과-201810793-이연우\" data-toc-modified-id=\"휴먼지능정보공학과-201810793-이연우-0.1\">휴먼지능정보공학과 201810793 이연우</a></span></li></ul></li><li><span><a href=\"#7주:-zscore,-cdf-계산\" data-toc-modified-id=\"7주:-zscore,-cdf-계산-1\">7주: zscore, cdf 계산</a></span><ul class=\"toc-item\"><li><span><a href=\"#1-1-성적데이터로-DataFrame을-생성.\" data-toc-modified-id=\"1-1-성적데이터로-DataFrame을-생성.-1.1\">1-1 성적데이터로 DataFrame을 생성.</a></span></li><li><span><a href=\"#1-2-zscore-컬럼을-생성.\" data-toc-modified-id=\"1-2-zscore-컬럼을-생성.-1.2\">1-2 zscore 컬럼을 생성.</a></span></li><li><span><a href=\"#1-3-cdf-컬럼을-생성.\" data-toc-modified-id=\"1-3-cdf-컬럼을-생성.-1.3\">1-3 cdf 컬럼을 생성.</a></span></li></ul></li></ul></div>"
   ]
  },
  {
   "cell_type": "markdown",
   "id": "3c5c1cc5",
   "metadata": {},
   "source": [
    "## 7주: zscore, cdf 계산\n",
    "성적데이터는 n이 적지만, 정규분포를 이룬다고 가정하자."
   ]
  },
  {
   "cell_type": "code",
   "execution_count": 1,
   "id": "5b02b333",
   "metadata": {},
   "outputs": [],
   "source": [
    "import os\n",
    "import pyspark\n",
    "\n",
    "myConf=pyspark.SparkConf()\n",
    "spark = pyspark.sql.SparkSession\\\n",
    "    .builder\\\n",
    "    .master(\"local\")\\\n",
    "    .appName(\"myApp\")\\\n",
    "    .config(conf=myConf)\\\n",
    "    .getOrCreate()"
   ]
  },
  {
   "cell_type": "markdown",
   "id": "59bb6351",
   "metadata": {},
   "source": [
    "### 1-1 성적데이터로 DataFrame을 생성."
   ]
  },
  {
   "cell_type": "code",
   "execution_count": 2,
   "id": "234a5c22",
   "metadata": {},
   "outputs": [
    {
     "name": "stdout",
     "output_type": "stream",
     "text": [
      "root\n",
      " |-- NAME: string (nullable = true)\n",
      " |-- SUBJECT: string (nullable = true)\n",
      " |-- MARKS: float (nullable = true)\n",
      "\n",
      "+------+-------+-----+\n",
      "|  NAME|SUBJECT|MARKS|\n",
      "+------+-------+-----+\n",
      "|김하나|English|100.0|\n",
      "|김하나|   Math| 80.0|\n",
      "|임하나|English| 70.0|\n",
      "|임하나|   Math|100.0|\n",
      "|김갑돌|English| 82.3|\n",
      "|김갑돌|   Math| 98.5|\n",
      "+------+-------+-----+\n",
      "\n"
     ]
    }
   ],
   "source": [
    "from pyspark.sql.types import StructField, StructType, StringType, FloatType\n",
    "\n",
    "marks = [\n",
    "    ('김하나','English', 100.0),\n",
    "    ('김하나','Math', 80.0),\n",
    "    ('임하나','English', 70.0),\n",
    "    ('임하나','Math', 100.0),\n",
    "    ('김갑돌','English', 82.3),\n",
    "    ('김갑돌','Math', 98.5)\n",
    "]\n",
    "\n",
    "marksRdd = spark.sparkContext.parallelize(marks)\n",
    "\n",
    "marksSchema = StructType([\n",
    "    StructField(\"NAME\", StringType(), True),\n",
    "    StructField(\"SUBJECT\", StringType(), True),\n",
    "    StructField(\"MARKS\", FloatType(), True)\n",
    "])\n",
    "\n",
    "marksDf = spark.createDataFrame(marksRdd, marksSchema)\n",
    "\n",
    "marksDf.printSchema()\n",
    "\n",
    "marksDf.show()"
   ]
  },
  {
   "cell_type": "markdown",
   "id": "28f86b8d",
   "metadata": {},
   "source": [
    "### 1-2 zscore 컬럼을 생성.\n",
    "\n",
    "zscore를 계산하려면, 평균과 표준편차를 알아야 한다.\n",
    "\n",
    "계산식에 F함수를 직접 사용하면 오류가 발생한다. 따로 평균과 표준편차를 구해서 계산식에서 사용해야 한다."
   ]
  },
  {
   "cell_type": "code",
   "execution_count": 4,
   "id": "9bd442ec",
   "metadata": {},
   "outputs": [
    {
     "name": "stdout",
     "output_type": "stream",
     "text": [
      "+------+-------+-----+-------------------+\n",
      "|  NAME|SUBJECT|MARKS|             zscore|\n",
      "+------+-------+-----+-------------------+\n",
      "|김하나|English|100.0|  0.902014804151829|\n",
      "|김하나|   Math| 80.0| -0.662172786480269|\n",
      "|임하나|English| 70.0| -1.444266581796318|\n",
      "|임하나|   Math|100.0|  0.902014804151829|\n",
      "|김갑돌|English| 82.3|-0.4822909748814927|\n",
      "|김갑돌|   Math| 98.5| 0.7847007348544217|\n",
      "+------+-------+-----+-------------------+\n",
      "\n"
     ]
    }
   ],
   "source": [
    "import numpy as np\n",
    "\n",
    "_marks=marksDf.rdd.map(lambda x:x[2]).collect()\n",
    "\n",
    "xbar=np.mean(_marks)\n",
    "sigmax=np.std(_marks)\n",
    "sx=np.std(_marks,ddof=1)\n",
    "\n",
    "marksDfZ=marksDf.withColumn('zscore',(marksDf['MARKS']-xbar)/sx)\n",
    "\n",
    "marksDfZ.show()"
   ]
  },
  {
   "cell_type": "markdown",
   "id": "be55be99",
   "metadata": {},
   "source": [
    "### 1-3 cdf 컬럼을 생성.\n",
    "\n",
    "scipy.stats.norm.cdf() 함수는 데이터타입을 float로 맞추어 주어야 한다.\n",
    "\n",
    "cdf는 평균=0, 표준편차=1을 기본 값으로 누적확률을 계산한다."
   ]
  },
  {
   "cell_type": "code",
   "execution_count": 6,
   "id": "8bc7a25a",
   "metadata": {},
   "outputs": [
    {
     "name": "stdout",
     "output_type": "stream",
     "text": [
      "+------+-------+-----+-------------------+-------------------+\n",
      "|  NAME|SUBJECT|MARKS|             zscore|                cdf|\n",
      "+------+-------+-----+-------------------+-------------------+\n",
      "|김하나|English|100.0|  0.902014804151829| 0.8164754981807292|\n",
      "|김하나|   Math| 80.0| -0.662172786480269| 0.2539302463290559|\n",
      "|임하나|English| 70.0| -1.444266581796318| 0.0743320011235712|\n",
      "|임하나|   Math|100.0|  0.902014804151829| 0.8164754981807292|\n",
      "|김갑돌|English| 82.3|-0.4822909748814927|0.31479962882028223|\n",
      "|김갑돌|   Math| 98.5| 0.7847007348544217| 0.7836854740814176|\n",
      "+------+-------+-----+-------------------+-------------------+\n",
      "\n"
     ]
    }
   ],
   "source": [
    "from scipy.stats import norm\n",
    "import pyspark.sql.functions as F\n",
    "\n",
    "_cdf=F.udf(lambda x: float(norm.cdf(x)))\n",
    "cdf=marksDfZ.withColumn(\"cdf\", _cdf(marksDfZ['zscore']))\n",
    "\n",
    "cdf.show()"
   ]
  }
 ],
 "metadata": {
  "kernelspec": {
   "display_name": "Python 3 (ipykernel)",
   "language": "python",
   "name": "python3"
  },
  "language_info": {
   "codemirror_mode": {
    "name": "ipython",
    "version": 3
   },
   "file_extension": ".py",
   "mimetype": "text/x-python",
   "name": "python",
   "nbconvert_exporter": "python",
   "pygments_lexer": "ipython3",
   "version": "3.8.11"
  },
  "toc": {
   "base_numbering": 1,
   "nav_menu": {},
   "number_sections": false,
   "sideBar": true,
   "skip_h1_title": true,
   "title_cell": "Table of Contents",
   "title_sidebar": "Contents",
   "toc_cell": true,
   "toc_position": {},
   "toc_section_display": true,
   "toc_window_display": false
  }
 },
 "nbformat": 4,
 "nbformat_minor": 5
}
