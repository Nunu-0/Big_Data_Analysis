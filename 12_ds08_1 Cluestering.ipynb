{
 "cells": [
  {
   "cell_type": "markdown",
   "id": "7b727a48",
   "metadata": {
    "toc": true
   },
   "source": [
    "<h1>Table of Contents<span class=\"tocSkip\"></span></h1>\n",
    "<div class=\"toc\"><ul class=\"toc-item\"><li><span><a href=\"#Sklearn으로-k-means-클러스터링\" data-toc-modified-id=\"Sklearn으로-k-means-클러스터링-1\"><span class=\"toc-item-num\">1&nbsp;&nbsp;</span>Sklearn으로 k-means 클러스터링</a></span><ul class=\"toc-item\"><li><span><a href=\"#데이터\" data-toc-modified-id=\"데이터-1.1\"><span class=\"toc-item-num\">1.1&nbsp;&nbsp;</span>데이터</a></span></li><li><span><a href=\"#클러스터-할당\" data-toc-modified-id=\"클러스터-할당-1.2\"><span class=\"toc-item-num\">1.2&nbsp;&nbsp;</span>클러스터 할당</a></span></li><li><span><a href=\"#예측\" data-toc-modified-id=\"예측-1.3\"><span class=\"toc-item-num\">1.3&nbsp;&nbsp;</span>예측</a></span></li></ul></li><li><span><a href=\"#Spark-Clustering\" data-toc-modified-id=\"Spark-Clustering-2\"><span class=\"toc-item-num\">2&nbsp;&nbsp;</span>Spark Clustering</a></span><ul class=\"toc-item\"><li><span><a href=\"#DataFrame-생성\" data-toc-modified-id=\"DataFrame-생성-2.1\"><span class=\"toc-item-num\">2.1&nbsp;&nbsp;</span>DataFrame 생성</a></span></li><li><span><a href=\"#Features-설정\" data-toc-modified-id=\"Features-설정-2.2\"><span class=\"toc-item-num\">2.2&nbsp;&nbsp;</span>Features 설정</a></span></li><li><span><a href=\"#k-means-클러스터링\" data-toc-modified-id=\"k-means-클러스터링-2.3\"><span class=\"toc-item-num\">2.3&nbsp;&nbsp;</span>k-means 클러스터링</a></span></li><li><span><a href=\"#클러스터-중심점\" data-toc-modified-id=\"클러스터-중심점-2.4\"><span class=\"toc-item-num\">2.4&nbsp;&nbsp;</span>클러스터 중심점</a></span></li></ul></li><li><span><a href=\"#Iris-데이터-클러스터링(군집화)\" data-toc-modified-id=\"Iris-데이터-클러스터링(군집화)-3\"><span class=\"toc-item-num\">3&nbsp;&nbsp;</span>Iris 데이터 클러스터링(군집화)</a></span><ul class=\"toc-item\"><li><span><a href=\"#데이터\" data-toc-modified-id=\"데이터-3.1\"><span class=\"toc-item-num\">3.1&nbsp;&nbsp;</span>데이터</a></span></li><li><span><a href=\"#그래프\" data-toc-modified-id=\"그래프-3.2\"><span class=\"toc-item-num\">3.2&nbsp;&nbsp;</span>그래프</a></span></li><li><span><a href=\"#RDD-생성\" data-toc-modified-id=\"RDD-생성-3.3\"><span class=\"toc-item-num\">3.3&nbsp;&nbsp;</span>RDD 생성</a></span></li><li><span><a href=\"#형변환\" data-toc-modified-id=\"형변환-3.4\"><span class=\"toc-item-num\">3.4&nbsp;&nbsp;</span>형변환</a></span></li><li><span><a href=\"#k-Means-모델링\" data-toc-modified-id=\"k-Means-모델링-3.5\"><span class=\"toc-item-num\">3.5&nbsp;&nbsp;</span>k-Means 모델링</a></span></li><li><span><a href=\"#DataFrame-생성\" data-toc-modified-id=\"DataFrame-생성-3.6\"><span class=\"toc-item-num\">3.6&nbsp;&nbsp;</span>DataFrame 생성</a></span></li><li><span><a href=\"#통계량\" data-toc-modified-id=\"통계량-3.7\"><span class=\"toc-item-num\">3.7&nbsp;&nbsp;</span>통계량</a></span></li><li><span><a href=\"#features-생성\" data-toc-modified-id=\"features-생성-3.8\"><span class=\"toc-item-num\">3.8&nbsp;&nbsp;</span>features 생성</a></span></li><li><span><a href=\"#k-Means\" data-toc-modified-id=\"k-Means-3.9\"><span class=\"toc-item-num\">3.9&nbsp;&nbsp;</span>k-Means</a></span></li><li><span><a href=\"#최적의-클러스터-개수-구하기\" data-toc-modified-id=\"최적의-클러스터-개수-구하기-3.10\"><span class=\"toc-item-num\">3.10&nbsp;&nbsp;</span>최적의 클러스터 개수 구하기</a></span></li><li><span><a href=\"#클러스터-개수에-따른-오류-그래프\" data-toc-modified-id=\"클러스터-개수에-따른-오류-그래프-3.11\"><span class=\"toc-item-num\">3.11&nbsp;&nbsp;</span>클러스터 개수에 따른 오류 그래프</a></span></li></ul></li></ul></div>"
   ]
  },
  {
   "cell_type": "code",
   "execution_count": 1,
   "id": "38042db7",
   "metadata": {},
   "outputs": [],
   "source": [
    "# SparkSession 생성\n",
    "import pyspark\n",
    "import os\n",
    "\n",
    "myConf=pyspark.SparkConf()\n",
    "spark = pyspark.sql.SparkSession\\\n",
    "    .builder\\\n",
    "    .master(\"local\")\\\n",
    "    .appName(\"myApp\")\\\n",
    "    .config(conf=myConf)\\\n",
    "    .getOrCreate()"
   ]
  },
  {
   "cell_type": "markdown",
   "id": "970df33d",
   "metadata": {},
   "source": [
    "## Sklearn으로 k-means 클러스터링"
   ]
  },
  {
   "cell_type": "markdown",
   "id": "0f61a299",
   "metadata": {},
   "source": [
    "### 데이터"
   ]
  },
  {
   "cell_type": "code",
   "execution_count": 2,
   "id": "7784ddea",
   "metadata": {},
   "outputs": [],
   "source": [
    "import numpy as np\n",
    "\n",
    "X = np.array([[2,5],[3,6],[2,4],[5,7],[7,2],[8,3],[9,4],[8,4],[7,3]], dtype = float)"
   ]
  },
  {
   "cell_type": "code",
   "execution_count": 3,
   "id": "dfae309f",
   "metadata": {},
   "outputs": [],
   "source": [
    "from sklearn.cluster import KMeans\n",
    "\n",
    "kmeans = KMeans(n_clusters=2, init='random', random_state=2).fit(X)"
   ]
  },
  {
   "cell_type": "markdown",
   "id": "6679f487",
   "metadata": {},
   "source": [
    "### 클러스터 할당"
   ]
  },
  {
   "cell_type": "code",
   "execution_count": 4,
   "id": "6bd1a371",
   "metadata": {},
   "outputs": [
    {
     "name": "stdout",
     "output_type": "stream",
     "text": [
      "Cluster label:  [1 1 1 1 0 0 0 0 0]\n"
     ]
    }
   ],
   "source": [
    "print (\"Cluster label: \", kmeans.labels_)"
   ]
  },
  {
   "cell_type": "code",
   "execution_count": 5,
   "id": "3b04f68d",
   "metadata": {},
   "outputs": [
    {
     "name": "stdout",
     "output_type": "stream",
     "text": [
      "Centroid:  [[7.8 3.2]\n",
      " [3.  5.5]]\n"
     ]
    }
   ],
   "source": [
    "print (\"Centroid: \", kmeans.cluster_centers_)"
   ]
  },
  {
   "cell_type": "markdown",
   "id": "1a66fa25",
   "metadata": {},
   "source": [
    "### 예측\n",
    "두 점을 입력하면 예측 가능"
   ]
  },
  {
   "cell_type": "code",
   "execution_count": 6,
   "id": "d8d5e332",
   "metadata": {
    "scrolled": true
   },
   "outputs": [
    {
     "name": "stdout",
     "output_type": "stream",
     "text": [
      "Predictions:  [1 0]\n"
     ]
    }
   ],
   "source": [
    "print (\"Predictions: \", kmeans.predict([[0, 0], [7, 4]]))"
   ]
  },
  {
   "cell_type": "markdown",
   "id": "ece5f195",
   "metadata": {},
   "source": [
    "## Spark Clustering"
   ]
  },
  {
   "cell_type": "code",
   "execution_count": 10,
   "id": "753383cb",
   "metadata": {},
   "outputs": [],
   "source": [
    "import numpy as np\n",
    "\n",
    "x = np.array([[2,5],[3,6],[2,4],[5,7],[7,2],[8,3],[9,4],[8,4],[7,3]], dtype = float)"
   ]
  },
  {
   "cell_type": "markdown",
   "id": "e027e05e",
   "metadata": {},
   "source": [
    "### DataFrame 생성"
   ]
  },
  {
   "cell_type": "code",
   "execution_count": 11,
   "id": "1418d002",
   "metadata": {},
   "outputs": [],
   "source": [
    "_xRdd = spark.sparkContext.parallelize(x)"
   ]
  },
  {
   "cell_type": "code",
   "execution_count": 12,
   "id": "0002e72a",
   "metadata": {},
   "outputs": [],
   "source": [
    "xRdd = _xRdd.map(lambda x: [int(i) for i in x])"
   ]
  },
  {
   "cell_type": "code",
   "execution_count": 13,
   "id": "5b5604dd",
   "metadata": {},
   "outputs": [
    {
     "data": {
      "text/plain": [
       "[[2, 5], [3, 6], [2, 4], [5, 7], [7, 2], [8, 3], [9, 4], [8, 4], [7, 3]]"
      ]
     },
     "execution_count": 13,
     "metadata": {},
     "output_type": "execute_result"
    }
   ],
   "source": [
    "xRdd.collect()"
   ]
  },
  {
   "cell_type": "code",
   "execution_count": 14,
   "id": "fae3fd62",
   "metadata": {
    "scrolled": false
   },
   "outputs": [
    {
     "name": "stdout",
     "output_type": "stream",
     "text": [
      "+---+---+\n",
      "|  x|  y|\n",
      "+---+---+\n",
      "|  2|  5|\n",
      "|  3|  6|\n",
      "|  2|  4|\n",
      "|  5|  7|\n",
      "|  7|  2|\n",
      "|  8|  3|\n",
      "|  9|  4|\n",
      "|  8|  4|\n",
      "|  7|  3|\n",
      "+---+---+\n",
      "\n"
     ]
    }
   ],
   "source": [
    "xDf = xRdd.toDF([\"x\", \"y\"])\n",
    "xDf.show()"
   ]
  },
  {
   "cell_type": "markdown",
   "id": "0caff152",
   "metadata": {},
   "source": [
    "### Features 설정"
   ]
  },
  {
   "cell_type": "code",
   "execution_count": 15,
   "id": "17946dc2",
   "metadata": {},
   "outputs": [],
   "source": [
    "#from pyspark.ml.linalg import Vectors\n",
    "from pyspark.ml.feature import VectorAssembler\n",
    "\n",
    "va = VectorAssembler(inputCols=[\"x\",\"y\"],outputCol=\"features\")"
   ]
  },
  {
   "cell_type": "code",
   "execution_count": 16,
   "id": "bff606fb",
   "metadata": {},
   "outputs": [],
   "source": [
    "xxDf = va.transform(xDf)"
   ]
  },
  {
   "cell_type": "code",
   "execution_count": 17,
   "id": "f1d96a35",
   "metadata": {},
   "outputs": [
    {
     "name": "stdout",
     "output_type": "stream",
     "text": [
      "root\n",
      " |-- x: long (nullable = true)\n",
      " |-- y: long (nullable = true)\n",
      " |-- features: vector (nullable = true)\n",
      "\n"
     ]
    }
   ],
   "source": [
    "xxDf.printSchema()"
   ]
  },
  {
   "cell_type": "code",
   "execution_count": 18,
   "id": "fc9a2ad4",
   "metadata": {},
   "outputs": [
    {
     "name": "stdout",
     "output_type": "stream",
     "text": [
      "+---+---+---------+\n",
      "|  x|  y| features|\n",
      "+---+---+---------+\n",
      "|  2|  5|[2.0,5.0]|\n",
      "|  3|  6|[3.0,6.0]|\n",
      "|  2|  4|[2.0,4.0]|\n",
      "|  5|  7|[5.0,7.0]|\n",
      "|  7|  2|[7.0,2.0]|\n",
      "+---+---+---------+\n",
      "only showing top 5 rows\n",
      "\n"
     ]
    }
   ],
   "source": [
    "xxDf.show(5)"
   ]
  },
  {
   "cell_type": "markdown",
   "id": "a4769615",
   "metadata": {},
   "source": [
    "### k-means 클러스터링"
   ]
  },
  {
   "cell_type": "code",
   "execution_count": 19,
   "id": "fa706b97",
   "metadata": {},
   "outputs": [],
   "source": [
    "from pyspark.ml.clustering import KMeans\n",
    "\n",
    "kmeans = KMeans(k=2)"
   ]
  },
  {
   "cell_type": "code",
   "execution_count": 20,
   "id": "e7f84357",
   "metadata": {},
   "outputs": [],
   "source": [
    "model = kmeans.fit(xxDf)"
   ]
  },
  {
   "cell_type": "markdown",
   "id": "87377108",
   "metadata": {},
   "source": [
    "### 클러스터 중심점"
   ]
  },
  {
   "cell_type": "code",
   "execution_count": 21,
   "id": "02a9de81",
   "metadata": {},
   "outputs": [
    {
     "name": "stdout",
     "output_type": "stream",
     "text": [
      "[array([7.8, 3.2]), array([3. , 5.5])]\n"
     ]
    }
   ],
   "source": [
    "print (model.clusterCenters())"
   ]
  },
  {
   "cell_type": "markdown",
   "id": "234cf277",
   "metadata": {},
   "source": [
    "## Iris 데이터 클러스터링(군집화)"
   ]
  },
  {
   "cell_type": "markdown",
   "id": "08b53b2a",
   "metadata": {},
   "source": [
    "### 데이터"
   ]
  },
  {
   "cell_type": "code",
   "execution_count": 22,
   "id": "5f4105c3",
   "metadata": {},
   "outputs": [],
   "source": [
    "from sklearn import datasets\n",
    "\n",
    "dataset = datasets.load_iris()"
   ]
  },
  {
   "cell_type": "code",
   "execution_count": 23,
   "id": "486c4561",
   "metadata": {},
   "outputs": [],
   "source": [
    "data = dataset['data']"
   ]
  },
  {
   "cell_type": "code",
   "execution_count": 24,
   "id": "9d5705d0",
   "metadata": {},
   "outputs": [
    {
     "data": {
      "text/plain": [
       "array([[4.9, 3. , 1.4, 0.2],\n",
       "       [4.7, 3.2, 1.3, 0.2],\n",
       "       [4.6, 3.1, 1.5, 0.2],\n",
       "       [5. , 3.6, 1.4, 0.2]])"
      ]
     },
     "execution_count": 24,
     "metadata": {},
     "output_type": "execute_result"
    }
   ],
   "source": [
    "data[1:5]"
   ]
  },
  {
   "cell_type": "markdown",
   "id": "671e45fe",
   "metadata": {},
   "source": [
    "### 그래프"
   ]
  },
  {
   "cell_type": "code",
   "execution_count": 25,
   "id": "1e912b6e",
   "metadata": {},
   "outputs": [
    {
     "name": "stderr",
     "output_type": "stream",
     "text": [
      "C:\\Users\\Public\\Documents\\ESTsoft\\CreatorTemp/ipykernel_24792/2284455069.py:4: MatplotlibDeprecationWarning: Calling gca() with keyword arguments was deprecated in Matplotlib 3.4. Starting two minor releases later, gca() will take no keyword arguments. The gca() function should only be used to get the current axes, or if no axes exist, create new axes with default keyword arguments. To create a new axes with non-default arguments, use plt.axes() or plt.subplot().\n",
      "  ax = plt.figure().gca(projection='3d')\n"
     ]
    },
    {
     "data": {
      "image/png": "[encoded data removed]",
      "text/plain": [
       "<Figure size 432x288 with 1 Axes>"
      ]
     },
     "metadata": {
      "needs_background": "light"
     },
     "output_type": "display_data"
    }
   ],
   "source": [
    "%matplotlib inline\n",
    "import matplotlib.pyplot as plt\n",
    "\n",
    "ax = plt.figure().gca(projection='3d')\n",
    "ax.scatter(data[:,0], data[:,1], data[:,2])\n",
    "ax.set_xlabel('sepal length')\n",
    "ax.set_ylabel('sepal width')\n",
    "ax.set_zlabel('petal length')\n",
    "plt.show()"
   ]
  },
  {
   "cell_type": "markdown",
   "id": "ef186e17",
   "metadata": {},
   "source": [
    "### RDD 생성"
   ]
  },
  {
   "cell_type": "code",
   "execution_count": 26,
   "id": "738fbea7",
   "metadata": {},
   "outputs": [],
   "source": [
    "_xRdd = spark.sparkContext.parallelize(data)"
   ]
  },
  {
   "cell_type": "code",
   "execution_count": 27,
   "id": "22bb24a4",
   "metadata": {},
   "outputs": [
    {
     "data": {
      "text/plain": [
       "[array([5.1, 3.5, 1.4, 0.2])]"
      ]
     },
     "execution_count": 27,
     "metadata": {},
     "output_type": "execute_result"
    }
   ],
   "source": [
    "_xRdd.take(1)"
   ]
  },
  {
   "cell_type": "markdown",
   "id": "3391e0b8",
   "metadata": {},
   "source": [
    "### 형변환"
   ]
  },
  {
   "cell_type": "code",
   "execution_count": 28,
   "id": "5bc659a7",
   "metadata": {},
   "outputs": [],
   "source": [
    "xRdd = _xRdd.map(lambda x: [float(i) for i in x])"
   ]
  },
  {
   "cell_type": "code",
   "execution_count": 29,
   "id": "3757c320",
   "metadata": {},
   "outputs": [
    {
     "data": {
      "text/plain": [
       "[[5.1, 3.5, 1.4, 0.2]]"
      ]
     },
     "execution_count": 29,
     "metadata": {},
     "output_type": "execute_result"
    }
   ],
   "source": [
    "xRdd.take(1)"
   ]
  },
  {
   "cell_type": "markdown",
   "id": "111bcaa8",
   "metadata": {},
   "source": [
    "### k-Means 모델링"
   ]
  },
  {
   "cell_type": "code",
   "execution_count": 30,
   "id": "667c7677",
   "metadata": {},
   "outputs": [],
   "source": [
    "from pyspark.mllib.clustering import KMeans\n",
    "\n",
    "model = KMeans.train(xRdd, k = 2, maxIterations = 10) # maxiterations=반복횟수 "
   ]
  },
  {
   "cell_type": "markdown",
   "id": "3d171d3e",
   "metadata": {},
   "source": [
    "중심값 출력"
   ]
  },
  {
   "cell_type": "code",
   "execution_count": 31,
   "id": "cfd26e7b",
   "metadata": {},
   "outputs": [
    {
     "data": {
      "text/plain": [
       "[array([5.00566038, 3.36981132, 1.56037736, 0.29056604]),\n",
       " array([6.30103093, 2.88659794, 4.95876289, 1.69587629])]"
      ]
     },
     "execution_count": 31,
     "metadata": {},
     "output_type": "execute_result"
    }
   ],
   "source": [
    "model.clusterCenters"
   ]
  },
  {
   "cell_type": "markdown",
   "id": "d6288f0e",
   "metadata": {},
   "source": [
    "오류 계산"
   ]
  },
  {
   "cell_type": "code",
   "execution_count": 32,
   "id": "64fe67a5",
   "metadata": {},
   "outputs": [
    {
     "data": {
      "text/plain": [
       "152.34795176035803"
      ]
     },
     "execution_count": 32,
     "metadata": {},
     "output_type": "execute_result"
    }
   ],
   "source": [
    "model.computeCost(xRdd)"
   ]
  },
  {
   "cell_type": "markdown",
   "id": "57469c78",
   "metadata": {},
   "source": [
    "### DataFrame 생성"
   ]
  },
  {
   "cell_type": "code",
   "execution_count": 33,
   "id": "b420c514",
   "metadata": {},
   "outputs": [],
   "source": [
    "file_name = \"https://archive.ics.uci.edu/ml/machine-learning-databases/iris/iris.data\""
   ]
  },
  {
   "cell_type": "code",
   "execution_count": 34,
   "id": "48a5cf1a",
   "metadata": {},
   "outputs": [],
   "source": [
    "import pandas as pd\n",
    "\n",
    "iris = pd.read_csv(file_name, names=[\"sepal_length\",\"sepal_width\",\"petal_length\", \"petal_width\",\"species\"])"
   ]
  },
  {
   "cell_type": "code",
   "execution_count": 35,
   "id": "b844072a",
   "metadata": {},
   "outputs": [],
   "source": [
    "irisDf = spark.createDataFrame(iris)"
   ]
  },
  {
   "cell_type": "markdown",
   "id": "fb8aa361",
   "metadata": {},
   "source": [
    "### 통계량"
   ]
  },
  {
   "cell_type": "code",
   "execution_count": 36,
   "id": "c2ac6781",
   "metadata": {},
   "outputs": [
    {
     "name": "stdout",
     "output_type": "stream",
     "text": [
      "+-------+------------------+-------------------+------------------+------------------+--------------+\n",
      "|summary|      sepal_length|        sepal_width|      petal_length|       petal_width|       species|\n",
      "+-------+------------------+-------------------+------------------+------------------+--------------+\n",
      "|  count|               150|                150|               150|               150|           150|\n",
      "|   mean| 5.843333333333335| 3.0540000000000007|3.7586666666666693|1.1986666666666672|          null|\n",
      "| stddev|0.8280661279778637|0.43359431136217375| 1.764420419952262|0.7631607417008414|          null|\n",
      "|    min|               4.3|                2.0|               1.0|               0.1|   Iris-setosa|\n",
      "|    max|               7.9|                4.4|               6.9|               2.5|Iris-virginica|\n",
      "+-------+------------------+-------------------+------------------+------------------+--------------+\n",
      "\n"
     ]
    }
   ],
   "source": [
    "irisDf.describe().show()"
   ]
  },
  {
   "cell_type": "markdown",
   "id": "9e3e46de",
   "metadata": {},
   "source": [
    "### features 생성"
   ]
  },
  {
   "cell_type": "code",
   "execution_count": 37,
   "id": "cc3bcf85",
   "metadata": {},
   "outputs": [],
   "source": [
    "#from pyspark.ml.linalg import Vectors\n",
    "from pyspark.ml.feature import VectorAssembler\n",
    "\n",
    "va = VectorAssembler(inputCols=[\"sepal_length\", \"sepal_width\", \"petal_length\", \"petal_width\"], outputCol=\"features\")\n",
    "xxDf = va.transform(irisDf)"
   ]
  },
  {
   "cell_type": "code",
   "execution_count": 38,
   "id": "d8a53474",
   "metadata": {},
   "outputs": [
    {
     "name": "stdout",
     "output_type": "stream",
     "text": [
      "root\n",
      " |-- sepal_length: double (nullable = true)\n",
      " |-- sepal_width: double (nullable = true)\n",
      " |-- petal_length: double (nullable = true)\n",
      " |-- petal_width: double (nullable = true)\n",
      " |-- species: string (nullable = true)\n",
      " |-- features: vector (nullable = true)\n",
      "\n"
     ]
    }
   ],
   "source": [
    "xxDf.printSchema()"
   ]
  },
  {
   "cell_type": "code",
   "execution_count": 39,
   "id": "362e3a92",
   "metadata": {},
   "outputs": [
    {
     "name": "stdout",
     "output_type": "stream",
     "text": [
      "+------------+-----------+------------+-----------+-----------+-----------------+\n",
      "|sepal_length|sepal_width|petal_length|petal_width|    species|         features|\n",
      "+------------+-----------+------------+-----------+-----------+-----------------+\n",
      "|         5.1|        3.5|         1.4|        0.2|Iris-setosa|[5.1,3.5,1.4,0.2]|\n",
      "|         4.9|        3.0|         1.4|        0.2|Iris-setosa|[4.9,3.0,1.4,0.2]|\n",
      "|         4.7|        3.2|         1.3|        0.2|Iris-setosa|[4.7,3.2,1.3,0.2]|\n",
      "+------------+-----------+------------+-----------+-----------+-----------------+\n",
      "only showing top 3 rows\n",
      "\n"
     ]
    }
   ],
   "source": [
    "xxDf.show(3)"
   ]
  },
  {
   "cell_type": "markdown",
   "id": "1ba08966",
   "metadata": {},
   "source": [
    "입력데이터가 명목변수이면??"
   ]
  },
  {
   "cell_type": "code",
   "execution_count": 40,
   "id": "60af0f5f",
   "metadata": {},
   "outputs": [],
   "source": [
    "from pyspark.ml.feature import VectorIndexer\n",
    "\n",
    "featureIndexer = VectorIndexer(inputCol=\"features\", \\\n",
    "                               outputCol=\"featuresIndexed\",\\\n",
    "                               maxCategories=4).fit(xxDf)\n",
    "xxxDf = featureIndexer.transform(xxDf)"
   ]
  },
  {
   "cell_type": "code",
   "execution_count": 41,
   "id": "e94a4002",
   "metadata": {},
   "outputs": [
    {
     "name": "stdout",
     "output_type": "stream",
     "text": [
      "root\n",
      " |-- sepal_length: double (nullable = true)\n",
      " |-- sepal_width: double (nullable = true)\n",
      " |-- petal_length: double (nullable = true)\n",
      " |-- petal_width: double (nullable = true)\n",
      " |-- species: string (nullable = true)\n",
      " |-- features: vector (nullable = true)\n",
      " |-- featuresIndexed: vector (nullable = true)\n",
      "\n"
     ]
    }
   ],
   "source": [
    "xxxDf.printSchema()"
   ]
  },
  {
   "cell_type": "code",
   "execution_count": 42,
   "id": "b4d4d415",
   "metadata": {
    "scrolled": true
   },
   "outputs": [
    {
     "name": "stdout",
     "output_type": "stream",
     "text": [
      "+------------+-----------+------------+-----------+-----------+-----------------+-----------------+\n",
      "|sepal_length|sepal_width|petal_length|petal_width|    species|         features|  featuresIndexed|\n",
      "+------------+-----------+------------+-----------+-----------+-----------------+-----------------+\n",
      "|         5.1|        3.5|         1.4|        0.2|Iris-setosa|[5.1,3.5,1.4,0.2]|[5.1,3.5,1.4,0.2]|\n",
      "|         4.9|        3.0|         1.4|        0.2|Iris-setosa|[4.9,3.0,1.4,0.2]|[4.9,3.0,1.4,0.2]|\n",
      "|         4.7|        3.2|         1.3|        0.2|Iris-setosa|[4.7,3.2,1.3,0.2]|[4.7,3.2,1.3,0.2]|\n",
      "|         4.6|        3.1|         1.5|        0.2|Iris-setosa|[4.6,3.1,1.5,0.2]|[4.6,3.1,1.5,0.2]|\n",
      "|         5.0|        3.6|         1.4|        0.2|Iris-setosa|[5.0,3.6,1.4,0.2]|[5.0,3.6,1.4,0.2]|\n",
      "+------------+-----------+------------+-----------+-----------+-----------------+-----------------+\n",
      "only showing top 5 rows\n",
      "\n"
     ]
    }
   ],
   "source": [
    "xxxDf.show(5)"
   ]
  },
  {
   "cell_type": "markdown",
   "id": "ed935d9c",
   "metadata": {},
   "source": [
    "### k-Means"
   ]
  },
  {
   "cell_type": "code",
   "execution_count": 43,
   "id": "8188744d",
   "metadata": {},
   "outputs": [],
   "source": [
    "from pyspark.ml.clustering import KMeans\n",
    "\n",
    "kmeans = KMeans(k=2) \\\n",
    "            .setFeaturesCol(\"features\") \\\n",
    "            .setPredictionCol(\"cluster\")"
   ]
  },
  {
   "cell_type": "code",
   "execution_count": 44,
   "id": "736967e2",
   "metadata": {},
   "outputs": [],
   "source": [
    "model = kmeans.fit(xxDf)"
   ]
  },
  {
   "cell_type": "code",
   "execution_count": 45,
   "id": "b16d2084",
   "metadata": {},
   "outputs": [
    {
     "name": "stdout",
     "output_type": "stream",
     "text": [
      "[array([6.30103093, 2.88659794, 4.95876289, 1.69587629]), array([5.00566038, 3.36037736, 1.56226415, 0.28867925])]\n"
     ]
    }
   ],
   "source": [
    "print (model.clusterCenters())"
   ]
  },
  {
   "cell_type": "code",
   "execution_count": 46,
   "id": "191fd8f2",
   "metadata": {},
   "outputs": [
    {
     "name": "stdout",
     "output_type": "stream",
     "text": [
      "+------------+-----------+------------+-----------+-----------+-----------------+-------+\n",
      "|sepal_length|sepal_width|petal_length|petal_width|    species|         features|cluster|\n",
      "+------------+-----------+------------+-----------+-----------+-----------------+-------+\n",
      "|         5.1|        3.5|         1.4|        0.2|Iris-setosa|[5.1,3.5,1.4,0.2]|      1|\n",
      "|         4.9|        3.0|         1.4|        0.2|Iris-setosa|[4.9,3.0,1.4,0.2]|      1|\n",
      "|         4.7|        3.2|         1.3|        0.2|Iris-setosa|[4.7,3.2,1.3,0.2]|      1|\n",
      "|         4.6|        3.1|         1.5|        0.2|Iris-setosa|[4.6,3.1,1.5,0.2]|      1|\n",
      "|         5.0|        3.6|         1.4|        0.2|Iris-setosa|[5.0,3.6,1.4,0.2]|      1|\n",
      "|         5.4|        3.9|         1.7|        0.4|Iris-setosa|[5.4,3.9,1.7,0.4]|      1|\n",
      "|         4.6|        3.4|         1.4|        0.3|Iris-setosa|[4.6,3.4,1.4,0.3]|      1|\n",
      "|         5.0|        3.4|         1.5|        0.2|Iris-setosa|[5.0,3.4,1.5,0.2]|      1|\n",
      "|         4.4|        2.9|         1.4|        0.2|Iris-setosa|[4.4,2.9,1.4,0.2]|      1|\n",
      "|         4.9|        3.1|         1.5|        0.1|Iris-setosa|[4.9,3.1,1.5,0.1]|      1|\n",
      "|         5.4|        3.7|         1.5|        0.2|Iris-setosa|[5.4,3.7,1.5,0.2]|      1|\n",
      "|         4.8|        3.4|         1.6|        0.2|Iris-setosa|[4.8,3.4,1.6,0.2]|      1|\n",
      "|         4.8|        3.0|         1.4|        0.1|Iris-setosa|[4.8,3.0,1.4,0.1]|      1|\n",
      "|         4.3|        3.0|         1.1|        0.1|Iris-setosa|[4.3,3.0,1.1,0.1]|      1|\n",
      "|         5.8|        4.0|         1.2|        0.2|Iris-setosa|[5.8,4.0,1.2,0.2]|      1|\n",
      "|         5.7|        4.4|         1.5|        0.4|Iris-setosa|[5.7,4.4,1.5,0.4]|      1|\n",
      "|         5.4|        3.9|         1.3|        0.4|Iris-setosa|[5.4,3.9,1.3,0.4]|      1|\n",
      "|         5.1|        3.5|         1.4|        0.3|Iris-setosa|[5.1,3.5,1.4,0.3]|      1|\n",
      "|         5.7|        3.8|         1.7|        0.3|Iris-setosa|[5.7,3.8,1.7,0.3]|      1|\n",
      "|         5.1|        3.8|         1.5|        0.3|Iris-setosa|[5.1,3.8,1.5,0.3]|      1|\n",
      "+------------+-----------+------------+-----------+-----------+-----------------+-------+\n",
      "only showing top 20 rows\n",
      "\n"
     ]
    }
   ],
   "source": [
    "model.transform(xxDf).show()"
   ]
  },
  {
   "cell_type": "markdown",
   "id": "709e29ed",
   "metadata": {},
   "source": [
    "### 최적의 클러스터 개수 구하기\n",
    "Silhouette : 1에 가까울수록 좋다"
   ]
  },
  {
   "cell_type": "code",
   "execution_count": 47,
   "id": "89846736",
   "metadata": {},
   "outputs": [
    {
     "name": "stdout",
     "output_type": "stream",
     "text": [
      "...2 Within Set Sum of Squared Errors 0.8501515983265806\n",
      "...3 Within Set Sum of Squared Errors 0.7342113066202725\n",
      "...4 Within Set Sum of Squared Errors 0.6711848003790326\n",
      "...5 Within Set Sum of Squared Errors 0.6693502650358714\n",
      "...6 Within Set Sum of Squared Errors 0.6438928241588121\n",
      "...7 Within Set Sum of Squared Errors 0.5348738274527646\n",
      "...8 Within Set Sum of Squared Errors 0.6172586649457701\n",
      "...9 Within Set Sum of Squared Errors 0.494507403994743\n",
      "...10 Within Set Sum of Squared Errors 0.4888408569527127\n",
      "...11 Within Set Sum of Squared Errors 0.4600942552619037\n",
      "...12 Within Set Sum of Squared Errors 0.4038335912317261\n",
      "...13 Within Set Sum of Squared Errors 0.3875002302551008\n",
      "...14 Within Set Sum of Squared Errors 0.3786055185887995\n",
      "...15 Within Set Sum of Squared Errors 0.4123630985764056\n",
      "...16 Within Set Sum of Squared Errors 0.4230354994650789\n"
     ]
    }
   ],
   "source": [
    "from pyspark.ml.evaluation import ClusteringEvaluator\n",
    "#silhouette = np.zeros(15)\n",
    "silhouetteList = list()\n",
    "for i in range(2, 17):\n",
    "    # Trains a k-means model.\n",
    "    kmeans = KMeans().setK(i).setFeaturesCol(\"features\")\n",
    "    model = kmeans.fit(xxDf)\n",
    "    # Evaluate clustering by computing Within Set Sum of Squared Errors\n",
    "    predictions = model.transform(xxxDf)\n",
    "    # Evaluate clustering by computing Silhouette score\n",
    "    evaluator = ClusteringEvaluator().setMetricName(\"silhouette\")\n",
    "    silhouette = evaluator.evaluate(predictions)\n",
    "    #silh_val.append(silhouette)\n",
    "    print(\"...{} Within Set Sum of Squared Errors {}\".format(i, silhouette))\n",
    "    silhouetteList.append(silhouette)"
   ]
  },
  {
   "cell_type": "markdown",
   "id": "621f297f",
   "metadata": {},
   "source": [
    "### 클러스터 개수에 따른 오류 그래프"
   ]
  },
  {
   "cell_type": "code",
   "execution_count": 48,
   "id": "5b6fdc2e",
   "metadata": {},
   "outputs": [
    {
     "data": {
      "text/plain": [
       "[<matplotlib.lines.Line2D at 0x21dcfb3e1f0>]"
      ]
     },
     "execution_count": 48,
     "metadata": {},
     "output_type": "execute_result"
    },
    {
     "data": {
      "image/png": "[encoded data removed]",
      "text/plain": [
       "<Figure size 432x288 with 1 Axes>"
      ]
     },
     "metadata": {
      "needs_background": "light"
     },
     "output_type": "display_data"
    }
   ],
   "source": [
    "%matplotlib inline\n",
    "import matplotlib.pyplot as plt\n",
    "\n",
    "plt.plot(np.arange(14), silhouetteList[0:14], color='blue')"
   ]
  }
 ],
 "metadata": {
  "kernelspec": {
   "display_name": "Python 3 (ipykernel)",
   "language": "python",
   "name": "python3"
  },
  "language_info": {
   "codemirror_mode": {
    "name": "ipython",
    "version": 3
   },
   "file_extension": ".py",
   "mimetype": "text/x-python",
   "name": "python",
   "nbconvert_exporter": "python",
   "pygments_lexer": "ipython3",
   "version": "3.8.11"
  },
  "toc": {
   "base_numbering": 1,
   "nav_menu": {},
   "number_sections": true,
   "sideBar": true,
   "skip_h1_title": true,
   "title_cell": "Table of Contents",
   "title_sidebar": "Contents",
   "toc_cell": true,
   "toc_position": {},
   "toc_section_display": true,
   "toc_window_display": false
  }
 },
 "nbformat": 4,
 "nbformat_minor": 5
}
