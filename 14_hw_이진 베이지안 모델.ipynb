{
 "cells": [
  {
   "cell_type": "markdown",
   "id": "28f37140",
   "metadata": {},
   "source": [
    "# 빅데이터분석(21_2)\n",
    "### 휴먼지능정보공학과 201810793 이연우\n",
    "* 14주차 과제\n",
    "---\n",
    "#### 14주 이진 베이지안 모델\n",
    "Sklearn - make_classification() : 분류에 쓰일 데이터 생성"
   ]
  },
  {
   "cell_type": "markdown",
   "id": "c95c7ccd",
   "metadata": {},
   "source": [
    "### 1) X, Y 데이터 생성"
   ]
  },
  {
   "cell_type": "code",
   "execution_count": 1,
   "id": "f1a7a448",
   "metadata": {},
   "outputs": [],
   "source": [
    "from sklearn.datasets import make_classification\n",
    "\n",
    "X, Y = make_classification(n_samples=100, n_features=2, n_informative=2, n_redundant=0)"
   ]
  },
  {
   "cell_type": "code",
   "execution_count": 2,
   "id": "69f06998",
   "metadata": {},
   "outputs": [
    {
     "data": {
      "text/plain": [
       "array([[-1.77997814,  1.61369085],\n",
       "       [ 0.04231966, -2.953827  ],\n",
       "       [-1.1825591 , -0.31825917],\n",
       "       [-1.24965443,  0.48396096],\n",
       "       [ 0.68099399, -1.94709017]])"
      ]
     },
     "execution_count": 2,
     "metadata": {},
     "output_type": "execute_result"
    }
   ],
   "source": [
    "X[:5]"
   ]
  },
  {
   "cell_type": "code",
   "execution_count": 3,
   "id": "25ae8b7d",
   "metadata": {},
   "outputs": [
    {
     "data": {
      "text/plain": [
       "array([1, 0, 1, 1, 0])"
      ]
     },
     "execution_count": 3,
     "metadata": {},
     "output_type": "execute_result"
    }
   ],
   "source": [
    "Y[:5]"
   ]
  },
  {
   "cell_type": "markdown",
   "id": "8fb27dfb",
   "metadata": {},
   "source": [
    "### 2) X의 평균과 표준편차 계산"
   ]
  },
  {
   "cell_type": "code",
   "execution_count": 5,
   "id": "1105fc60",
   "metadata": {},
   "outputs": [
    {
     "name": "stdout",
     "output_type": "stream",
     "text": [
      "평균 :  -0.04377170683555859  표준편차 :  1.192389266112691\n"
     ]
    }
   ],
   "source": [
    "print(\"평균 : \", X.mean(), \" 표준편차 : \", X.std())"
   ]
  },
  {
   "cell_type": "markdown",
   "id": "c08c449b",
   "metadata": {},
   "source": [
    "### 3) 그래프\n",
    "scatter() 함수에 c=Y 옵션을 넣으면, Y의 값에 대해 다른 색으로 표시할 수 있다."
   ]
  },
  {
   "cell_type": "code",
   "execution_count": 6,
   "id": "71ac2890",
   "metadata": {},
   "outputs": [
    {
     "data": {
      "image/png": "[encoded data removed]",
      "text/plain": [
       "<Figure size 432x288 with 1 Axes>"
      ]
     },
     "metadata": {
      "needs_background": "light"
     },
     "output_type": "display_data"
    }
   ],
   "source": [
    "import matplotlib.pyplot as plt\n",
    "\n",
    "plt.scatter(X[:,0], X[:,1], marker='o', c=Y)\n",
    "plt.show()"
   ]
  },
  {
   "cell_type": "markdown",
   "id": "9a82262a",
   "metadata": {},
   "source": [
    "### 4) 훈련데이터, 테스트데이터 3:1로 분리\n",
    "train_test_split()함수를 사용하면 원하는 비율로 분리할 수 있다."
   ]
  },
  {
   "cell_type": "code",
   "execution_count": 7,
   "id": "151053c5",
   "metadata": {},
   "outputs": [],
   "source": [
    "from sklearn.model_selection import train_test_split\n",
    "\n",
    "X_train, X_test, Y_train, Y_test = train_test_split(X, Y, test_size=0.25)"
   ]
  },
  {
   "cell_type": "markdown",
   "id": "3f929e11",
   "metadata": {},
   "source": [
    "### 5) 훈련데이터에 대하여 BernoulliNB 모델링\n",
    "X데이터는 연속 값이다. binarize=0.0으로 설정하여 이진수로 모델링한다."
   ]
  },
  {
   "cell_type": "code",
   "execution_count": 8,
   "id": "b1081e4a",
   "metadata": {},
   "outputs": [],
   "source": [
    "from sklearn.naive_bayes import BernoulliNB\n",
    "\n",
    "bnb = BernoulliNB(binarize=0.0)"
   ]
  },
  {
   "cell_type": "code",
   "execution_count": 9,
   "id": "8ac12651",
   "metadata": {},
   "outputs": [
    {
     "data": {
      "text/plain": [
       "BernoulliNB()"
      ]
     },
     "execution_count": 9,
     "metadata": {},
     "output_type": "execute_result"
    }
   ],
   "source": [
    "bnb.fit(X_train, Y_train)"
   ]
  },
  {
   "cell_type": "markdown",
   "id": "2540bcec",
   "metadata": {},
   "source": [
    "### 6) 테스트데이터에 대하여 예측값 출력\n",
    "예측이 맞는지 실제값 Y와 비교해보자.\n",
    "\n",
    "- 25개 중 1개 오류 발생 \n",
    "- 정확성 : 1 - 1/25 = 0.96"
   ]
  },
  {
   "cell_type": "code",
   "execution_count": 10,
   "id": "191d5242",
   "metadata": {},
   "outputs": [
    {
     "data": {
      "text/plain": [
       "[(1, 1, array([0.07656623, 1.72845088])),\n",
       " (0, 0, array([ 0.83813405, -1.26463095])),\n",
       " (1, 1, array([1.30761473, 1.00731478])),\n",
       " (1, 1, array([0.44801623, 1.1286335 ])),\n",
       " (0, 0, array([ 0.04231966, -2.953827  ])),\n",
       " (0, 0, array([-0.95937729, -1.13966798])),\n",
       " (0, 0, array([-0.74864599, -0.27264403])),\n",
       " (0, 1, array([-0.99443599, -0.61366427])),\n",
       " (0, 0, array([-0.64353054, -1.17978949])),\n",
       " (0, 0, array([-0.7771627 , -0.91606512])),\n",
       " (0, 0, array([-1.13271527, -0.95845909])),\n",
       " (1, 1, array([0.94719069, 0.86282679])),\n",
       " (0, 0, array([-0.9625056 , -1.24357844])),\n",
       " (1, 1, array([1.57866105, 1.08984118])),\n",
       " (1, 1, array([-1.10398888,  1.63145412])),\n",
       " (1, 1, array([0.57709973, 1.50315448])),\n",
       " (0, 0, array([-0.83523208, -0.85633936])),\n",
       " (1, 1, array([1.82521323, 0.34671413])),\n",
       " (0, 0, array([-1.1622917 , -1.16645512])),\n",
       " (1, 1, array([-2.2209219 ,  0.89451404])),\n",
       " (0, 0, array([-1.15594136, -1.16302549])),\n",
       " (0, 0, array([ 0.57420783, -1.72986987])),\n",
       " (1, 1, array([0.8832308 , 1.33347297])),\n",
       " (0, 0, array([ 0.68099399, -1.94709017])),\n",
       " (1, 1, array([0.31249005, 1.58679179]))]"
      ]
     },
     "execution_count": 10,
     "metadata": {},
     "output_type": "execute_result"
    }
   ],
   "source": [
    "list(zip(bnb.predict(X_test),Y_test, X_test))"
   ]
  },
  {
   "cell_type": "code",
   "execution_count": 11,
   "id": "9ac7f8e1",
   "metadata": {},
   "outputs": [
    {
     "data": {
      "text/plain": [
       "array([1, 0, 1, 0, 0])"
      ]
     },
     "execution_count": 11,
     "metadata": {},
     "output_type": "execute_result"
    }
   ],
   "source": [
    "#bnb.predict(X_train)\n",
    "bnb.predict([[1,1], [1,-1], [-1,1], [-1,-1], [0,0]])"
   ]
  },
  {
   "cell_type": "markdown",
   "id": "803a751e",
   "metadata": {},
   "source": [
    "### 7) 테스트데이터에 대하여 예측과 실제의 정확성 출력\n",
    "예측과 같게 나왔다"
   ]
  },
  {
   "cell_type": "code",
   "execution_count": 12,
   "id": "d6ba998f",
   "metadata": {},
   "outputs": [
    {
     "data": {
      "text/plain": [
       "0.96"
      ]
     },
     "execution_count": 12,
     "metadata": {},
     "output_type": "execute_result"
    }
   ],
   "source": [
    "bnb.score(X_test, Y_test)"
   ]
  }
 ],
 "metadata": {
  "kernelspec": {
   "display_name": "Python 3 (ipykernel)",
   "language": "python",
   "name": "python3"
  },
  "language_info": {
   "codemirror_mode": {
    "name": "ipython",
    "version": 3
   },
   "file_extension": ".py",
   "mimetype": "text/x-python",
   "name": "python",
   "nbconvert_exporter": "python",
   "pygments_lexer": "ipython3",
   "version": "3.8.11"
  },
  "toc": {
   "base_numbering": 1,
   "nav_menu": {},
   "number_sections": false,
   "sideBar": false,
   "skip_h1_title": false,
   "title_cell": "Table of Contents",
   "title_sidebar": "Contents",
   "toc_cell": false,
   "toc_position": {},
   "toc_section_display": false,
   "toc_window_display": false
  }
 },
 "nbformat": 4,
 "nbformat_minor": 5
}
